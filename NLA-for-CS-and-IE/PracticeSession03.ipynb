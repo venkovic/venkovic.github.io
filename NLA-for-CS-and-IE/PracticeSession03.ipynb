{
 "cells": [
  {
   "cell_type": "raw",
   "id": "cc4348b7-137a-4f3e-afae-6edad05ef0c0",
   "metadata": {},
   "source": [
    "\\section*{Numerical Linear Algebra for Computational Science and Information Engineering}\n",
    "\n",
    "\\subsection*{Floating-Point Arithmetic and Error Analysis}\n",
    "\n",
    "Nicolas Venkovic (nicolas.venkovic@tum.edu)"
   ]
  },
  {
   "cell_type": "code",
   "execution_count": 1,
   "id": "5bda5c13-a705-486e-97a8-01b378216df0",
   "metadata": {},
   "outputs": [],
   "source": [
    "using LinearAlgebra, Random, Plots, Printf, Latexify, LaTeXStrings"
   ]
  },
  {
   "cell_type": "raw",
   "id": "9faa84ca-a14b-401c-a704-6fc718b27bbb",
   "metadata": {},
   "source": [
    "\\subsection*{Preamble: Cancellation error}"
   ]
  },
  {
   "cell_type": "markdown",
   "id": "24fa3a08-5e79-4bfc-9df6-8436df707650",
   "metadata": {},
   "source": [
    "The relative error of a scalar is indicative of the number of correct digits of its approximation. For example, consider $\\pi=3.1415926\\dots$, we have\n",
    "\n",
    "| $\\hat{\\pi}$ | $|\\hat{\\pi}-\\pi|/|\\pi|$|\n",
    "|-------------|------------------------|\n",
    "|  $3.1$      | $1.323935\\times10^{-2}$|\n",
    "|  $3.141$    | $1.886475\\times10^{-4}$|\n",
    "|  $3.141592$ | $2.080440\\times10^{-7}$|\n",
    "|  $3.1415926$| $1.705816\\times10^{-8}$|\n",
    "\n",
    "\n",
    "When we subtract two nearly equal numbers, their most significant digits cancel out, leading to a floating-point number that less accurately approximates the difference. This is **cancellation error**.\n",
    "\n",
    "For example, consider the number $\\pi$ stored in 32 bits, i.e., π32, and its representation error:"
   ]
  },
  {
   "cell_type": "code",
   "execution_count": 2,
   "id": "9507e673-16b1-42cc-a25c-2819ab10f64a",
   "metadata": {},
   "outputs": [
    {
     "name": "stdout",
     "output_type": "stream",
     "text": [
      "π = 3.14159265, π32 = 3.14159274, rel. error = 2.78E-08"
     ]
    }
   ],
   "source": [
    "π32 = Float32(pi)\n",
    "rel_error_π32 = abs(Float64(π32) - pi) / abs(pi)\n",
    "@printf \"π = %.8f, π32 = %.8f, rel. error = %.2E\" π π32 rel_error_π32"
   ]
  },
  {
   "cell_type": "markdown",
   "id": "b33c5e2b-b0a6-4b80-997f-8a1ea0ba546b",
   "metadata": {},
   "source": [
    "We see that π32 has around 8 significant digits.\n",
    "\n",
    "Then, we want to evaluate the difference between $\\,\\pi\\,$ and a nearly equal number, say $\\;\\Delta=\\pi-3.14$. We also are interested in the approximation Δ32 of this number, done by evaluating π32 - 3.14 in 32 bits, and we look at the relative error between Δ and Δ32:"
   ]
  },
  {
   "cell_type": "code",
   "execution_count": 3,
   "id": "440b6056-33a5-4192-aed0-89f4aed7dd8c",
   "metadata": {},
   "outputs": [
    {
     "name": "stdout",
     "output_type": "stream",
     "text": [
      "Δ = -1.59265E-03, Δ32 -1.59264E-03, rel_error_Δ = 1.10E-05"
     ]
    }
   ],
   "source": [
    "Δ32 = Float32(3.14) - π32\n",
    "Δ = 3.14 - pi\n",
    "rel_error_Δ = abs(Float64(Δ32) - Δ) / abs(Δ)\n",
    "@printf \"Δ = %.5E, Δ32 %.5E, rel_error_Δ = %.2E\" Δ Δ32 rel_error_Δ"
   ]
  },
  {
   "cell_type": "markdown",
   "id": "be5c79a7-c37a-4fe7-be58-7909e4adaa87",
   "metadata": {},
   "source": [
    "We see the number of significant digits of Δ32 dropped to 5, from previously 8 digits for π32.\n",
    "\n",
    "However, the representation of Δ with 32 bits still has around 8 significant digits:"
   ]
  },
  {
   "cell_type": "code",
   "execution_count": 4,
   "id": "4f28972f-a790-467d-ae62-afbbe00c514d",
   "metadata": {},
   "outputs": [
    {
     "name": "stdout",
     "output_type": "stream",
     "text": [
      "Δ = -1.59265E-03, Float32(Δ) -1.59265E-03, rel_error_Δ32 = 1.20E-08"
     ]
    }
   ],
   "source": [
    "rel_error_Δ32 = abs(Float64(Float32(Δ)) - Δ) / abs(Δ)\n",
    "@printf \"Δ = %.5E, Float32(Δ) %.5E, rel_error_Δ32 = %.2E\" Δ Float64(Float32(Δ)) rel_error_Δ32"
   ]
  },
  {
   "cell_type": "markdown",
   "id": "b4f7ebcd-79e7-40d4-addc-555f7292fc9d",
   "metadata": {},
   "source": [
    "So, the increase of relative error obtained when evaluating $\\,\\Delta 32\\,$ using floating-point arithmetic with 32 bits is indeed due to cancellation. "
   ]
  },
  {
   "cell_type": "raw",
   "id": "9440f8b4-2fa3-4ed0-9bb5-9e5f45d9cee1",
   "metadata": {},
   "source": [
    "\\subsection*{Exercise \\#1: Catastrophic cancellation}"
   ]
  },
  {
   "cell_type": "markdown",
   "id": "cde06a9f-5dee-4678-adb8-8a542417b4a3",
   "metadata": {},
   "source": [
    "Let us consider the integral $\\;I_n=\\int_0^1x^ne^{-x}dx$, which we wish to evalue as a function of $\\;n$.\n",
    "\n",
    "Upon integrating by parts we get the recursive formula $\\;I_n=n\\cdot I_{n-1}-1/e\\;$ with a base case $\\;I_0=1-1/e$.\n",
    "\n",
    "The recursive formula is implemented as follows:"
   ]
  },
  {
   "cell_type": "code",
   "execution_count": 2,
   "id": "b6f0563b-4c79-4be6-8cbf-420a17eb7923",
   "metadata": {},
   "outputs": [],
   "source": [
    "function I(n)\n",
    "  if n == 0\n",
    "    return 1. - exp(-1)\n",
    "  end\n",
    "  return n * I(n-1) - exp(-1)\n",
    "end;"
   ]
  },
  {
   "cell_type": "markdown",
   "id": "7a0551f1-d10f-47c3-a338-2f2989d57f4c",
   "metadata": {},
   "source": [
    "Now, we wish to test ```I(n)```. We know that $\\;I_{100}\\approx 3.678430281\\times 10^{-3}$. What does ```I(100)``` give us?"
   ]
  },
  {
   "cell_type": "code",
   "execution_count": 3,
   "id": "23d94b21-72b7-4260-82f3-8e4cb59381c5",
   "metadata": {},
   "outputs": [
    {
     "name": "stdout",
     "output_type": "stream",
     "text": [
      "I_100 = -3.1530126806564304e141\n",
      "rel. error: 8.571625502711085e143\n"
     ]
    }
   ],
   "source": [
    "I0   = 6.321205588e-1;\n",
    "I10  = 3.646133462e-2;\n",
    "I50  = 7.354706796e-3;\n",
    "I100 = 3.678430281e-3;\n",
    "I300 = 1.226251224e-3;\n",
    "\n",
    "II100 = I(100)\n",
    "println(\"I_100 = \", II100)\n",
    "println(\"rel. error: \", abs(I100 - II100) / abs(I100))"
   ]
  },
  {
   "cell_type": "markdown",
   "id": "3ad9b58a-742e-4151-90e7-b1149f2ea5bb",
   "metadata": {},
   "source": [
    "The value returned by ```I(100)``` is completely off from the expected result, showing a breakdown of the numerical method. Why is that?\n",
    "\n",
    "To answer this question, let us first look at what comes into the recursive computation of $\\;I_{n+1}\\;$ for different values of $\\;n$, namely $\\;n\\cdot I_{n-1}\\;$ and $\\;1/e$:"
   ]
  },
  {
   "cell_type": "code",
   "execution_count": 4,
   "id": "6bedb40a-7ce8-4fff-b762-4d85a7dba2a6",
   "metadata": {},
   "outputs": [
    {
     "name": "stdout",
     "output_type": "stream",
     "text": [
      "1 * I0 = 0.6321205588, exp(-1) = 0.36787944117144233\n",
      "11 * I10 = 0.3646133462, exp(-1) = 0.36787944117144233\n",
      "51 * I50 = 0.37509004659600004, exp(-1) = 0.36787944117144233\n",
      "101 * I100 = 0.371521458381, exp(-1) = 0.36787944117144233\n"
     ]
    }
   ],
   "source": [
    "println(\"1 * I0 = \", I0, \", exp(-1) = \", exp(-1));\n",
    "println(\"11 * I10 = \", 10 * I10, \", exp(-1) = \", exp(-1));\n",
    "println(\"51 * I50 = \", 51 * I50, \", exp(-1) = \", exp(-1));\n",
    "println(\"101 * I100 = \", 101 * I100, \", exp(-1) = \", exp(-1));"
   ]
  },
  {
   "cell_type": "markdown",
   "id": "77acaca2-2010-4002-b242-a9967ee010e8",
   "metadata": {},
   "source": [
    "We see that the true value of $\\;n\\cdot I_{n-1}\\;$ grows closer to $\\;1/e\\;$ as $\\;n\\;$ increases. Then, ```I(n)``` attempts to evaluate $\\;I_{n}\\;$ by subtracting these increasingly close numbers, which leads to __cancellation error__. In addition to this, $I_n$ is then multiplied by $n+1$ in order to compute $I_{n+1}$. As $n$ grows, this means the cancellation error may be maginified, accelerating the propagation of errors. \n",
    "\n",
    "In order to circumvent this issue, we should try and reformulate the recursion so as to not have differences of nearly equal numbers multiplied by large numbers.\n",
    "\n",
    "For that, note that the recursion can be recast into $\\;I_{n-1}=1/n\\cdot(I_n+1/e)$, which is used backwards, from a base case $\\;I_m\\;$ with $\\;m>n$. Let us for instance use $\\;I_{300}\\;$ as a base case. The backward recursion is implemented as follows:"
   ]
  },
  {
   "cell_type": "code",
   "execution_count": 5,
   "id": "41922199-e8cb-4f95-a256-0bcace089b64",
   "metadata": {},
   "outputs": [],
   "source": [
    "function J(n)\n",
    "  J = 1.226251224e-3\n",
    "  i = 300\n",
    "  while (i > n)\n",
    "    J = (1. / i) * (J + exp(-1))\n",
    "    i -= 1\n",
    "  end\n",
    "  return J\n",
    "end;"
   ]
  },
  {
   "cell_type": "markdown",
   "id": "2308086e-0be5-4f9b-bc6b-57873fcda9eb",
   "metadata": {},
   "source": [
    "Let us now test ```J(n)``` to compute $\\;I_{100}$."
   ]
  },
  {
   "cell_type": "code",
   "execution_count": 6,
   "id": "7afa2dc4-e95e-4cc1-9dd3-cdd7bff67894",
   "metadata": {},
   "outputs": [
    {
     "name": "stdout",
     "output_type": "stream",
     "text": [
      "J_100 = 0.0036784302813674887\n",
      "rel. error: 9.990364464392733e-11\n"
     ]
    }
   ],
   "source": [
    "J100 = J(100)\n",
    "println(\"J_100 = \", J100)\n",
    "println(\"rel. error: \", abs(I100 - J100) / abs(I100))"
   ]
  },
  {
   "cell_type": "markdown",
   "id": "2e7d61ce-aa93-4319-8aac-ad828a96abaf",
   "metadata": {},
   "source": [
    "The problem now is fixed."
   ]
  },
  {
   "cell_type": "markdown",
   "id": "2ae6ae5a-f1dc-4e52-bd48-d1a8d674cd0e",
   "metadata": {},
   "source": [
    "This problem was suggested by Luc Giraud from Inria, Bordeaux."
   ]
  },
  {
   "cell_type": "raw",
   "id": "8b4ffef6-b5e5-4fef-ad49-42c61105913f",
   "metadata": {},
   "source": [
    "\\subsection*{Exercise \\#2: Ill-conditioned linear system}"
   ]
  },
  {
   "cell_type": "markdown",
   "id": "bec03e38-c3fe-43d5-aed5-56e508ae5a4d",
   "metadata": {},
   "source": [
    "Let us consider the linear system $Ax=b$ given by\n",
    "\n",
    "$$\n",
    "A=\\begin{bmatrix}1&1\\\\1+\\varepsilon&1\\end{bmatrix}\n",
    "\\;\\text{ and }\\;\n",
    "b=\\begin{bmatrix}b_1\\\\b_1+\\varepsilon\\end{bmatrix}\n",
    "\\;\\text{ with }\\;\n",
    "\\varepsilon>0.\n",
    "$$\n",
    "\n",
    "The unique exact solution of this system is given by \n",
    "$$\n",
    "x=\\begin{bmatrix}1\\\\b_1-1\\end{bmatrix}.\n",
    "$$\n",
    "\n",
    "The matrix $A$ has eigenvalues $\\lambda_{min}=1-\\sqrt{1+\\varepsilon}$ and $\\lambda_{max}=1+\\sqrt{1+\\varepsilon}$, so that $\\|A\\|_2=\\lambda_{max}=1+\\sqrt{1+\\varepsilon}$ and, the condition number for solving a linear system with $A$ is\n",
    "$$\n",
    "\\kappa(A)=\\|A^{-1}\\|_2\\|A\\|_2=\\frac{|\\lambda_{max}(A)|}{|\\lambda_{min}(A)|}=\\frac{1+\\sqrt{1+\\varepsilon}}{|1-\\sqrt{1+\\varepsilon}|}=\\frac{(1+\\sqrt{1+\\varepsilon})^2}{\\varepsilon}\n",
    "\\hspace{1cm}\\text{($A$ is normal)}.\n",
    "$$\n",
    "That is, solving for $\\;x\\;$ is an ill-conditioned problem for sufficiently small values of $\\;\\varepsilon$. For example, we have"
   ]
  },
  {
   "cell_type": "code",
   "execution_count": 7,
   "id": "35cb0741-e947-4e9f-85bf-6a44f3c569fc",
   "metadata": {},
   "outputs": [
    {
     "name": "stdout",
     "output_type": "stream",
     "text": [
      "ε = 1E-03, κ = 4.0E+03\n",
      "ε = 1E-04, κ = 4.0E+04\n",
      "ε = 1E-05, κ = 4.0E+05\n",
      "ε = 1E-06, κ = 4.0E+06\n"
     ]
    }
   ],
   "source": [
    "function get_A(ε)\n",
    "  return [1.   1.;\n",
    "          1+ε  1.]\n",
    "end;\n",
    "\n",
    "get_b(b1, ε) = [b1;b1+ε];\n",
    "get_κ(ε) = (1 + sqrt(1+ε))^2/ε;\n",
    "get_x(b, ε) = [1.; b[1]-1.];\n",
    "\n",
    "for ε ∈ (1e-3, 1e-4, 1e-5, 1e-6)\n",
    "  κ = get_κ(ε);\n",
    "  @printf \"ε = %.0E, κ = %.1E\\n\" ε κ\n",
    "end"
   ]
  },
  {
   "cell_type": "markdown",
   "id": "fb4da1b6-0b18-4089-ba46-a00012f6abab",
   "metadata": {},
   "source": [
    "Now, in practice some of the components of $A$ and $b$ may not be exactly stored. In particular, we may rather have\n",
    "\n",
    "$$\n",
    "B=\\begin{bmatrix}1&1\\\\\\mathrm{fl}(1+\\varepsilon)&1\\end{bmatrix}\n",
    "\\;\\text{ and }\\;\n",
    "c=\\begin{bmatrix}\\mathrm{fl}(b_1)\\\\\\mathrm{fl}(b_1+\\varepsilon)\\end{bmatrix}\n",
    "\\;\\text{ with }\\;\n",
    "\\varepsilon>0.\n",
    "$$\n",
    "\n",
    "If that is so, assuming $\\;\\mathrm{fl}(1+\\varepsilon)>1\\;$ so that $\\;B\\;$ remains invertible, the true solution $\\;y\\;$ of $\\;By=c\\;$ is\n",
    "\n",
    "$$\n",
    "y=\n",
    "\\frac{1}{\\mathrm{fl}(1+\\varepsilon)-1}\n",
    "\\begin{bmatrix}\n",
    "\\mathrm{fl}(b_1+\\varepsilon)-\\mathrm{fl}(b_1)\\\\\n",
    "\\mathrm{fl}(1+\\varepsilon)\\cdot\\mathrm{fl}(b_1)-\\mathrm{fl}(b_1+\\varepsilon)\n",
    "\\end{bmatrix}.\n",
    "$$\n",
    "\n",
    "In case of non-zero representation errors, $\\;y\\;$ is only an approximation of $\\;x$, i.e., the true solution of the non-perturbed system $\\;Ax=b$. \n",
    "We saw in class that the minimally normed perturbations $\\;\\delta A\\;$ and $\\;\\delta b\\;$ such that $\\;(A+\\delta A)y=b+\\delta b$ are given by\n",
    "$$\n",
    "\\delta A=\\frac{\\|A\\|_2}{\\|y\\|_2\\cdot(\\|A\\|_2\\cdot\\|y\\|_2+\\|b\\|_2)}\\;ry^T\n",
    "\\;\\text{ and }\\;\n",
    "\\delta b=-\\frac{\\|b\\|_2}{\\|A\\|_2\\cdot\\|y\\|_2+\\|b\\|_2}\\; r\n",
    "$$\n",
    "where $r=b-Ay$, and so that\n",
    "$$\n",
    "\\eta_{A,b}(y)=\\frac{\\|r\\|_2}{\\|A\\|_2\\cdot\\|y\\|_2+\\|b\\|_2}=\\frac{\\|\\delta A\\|_2}{\\|A\\|_2}=\\frac{\\|\\delta b\\|_2}{\\|b\\|_2}.\n",
    "$$\n",
    "In this particular case, since $\\;B-A\\;$ and $\\;c-a\\;$ are very small, we actually have \n",
    "$$\n",
    "\\eta_{A,b}(y)\\approx\\frac{\\|B-A\\|_2}{\\|A\\|_2}=\\frac{\\|c-b\\|_2}{\\|b\\|_2}.\n",
    "$$\n",
    "\n",
    "Now, what we wish to show is that, **even though the backward error** $\\,\\eta_{A,b}(y)\\,$ **may be small, the relative forward error** $\\,\\|x-y\\|_2/\\|x\\|_2\\,$ **may actually be large, because of the ill-conditioned nature of the problem reflected by the values of** $\\kappa(A)$."
   ]
  },
  {
   "cell_type": "code",
   "execution_count": 8,
   "id": "d2d23b36-780c-4da8-8b2e-4b065047427d",
   "metadata": {},
   "outputs": [
    {
     "name": "stdout",
     "output_type": "stream",
     "text": [
      "ε = 1E-03, κ = 4.0E+03, backward_error = 8.1454E-09, forward_error = 4.0093E-05\n",
      "ε = 1E-04, κ = 4.0E+04, backward_error = 1.1401E-08, forward_error = 5.6123E-04\n",
      "ε = 1E-05, κ = 4.0E+05, backward_error = 6.5008E-09, forward_error = 3.2032E-03\n",
      "ε = 1E-06, κ = 4.0E+06, backward_error = 1.4023E-08, forward_error = 6.7267E-02\n"
     ]
    }
   ],
   "source": [
    "function get_y(b, ε)\n",
    "    arithmetic = :fl64 # fl32\n",
    "    if (arithmetic == :fl32)\n",
    "      a21_32 = Float32(1+ε)\n",
    "      b1_32  = Float32(b[1])\n",
    "      b2_32  = Float32(b[1]+ε)\n",
    "      return [Float64((b2_32-b1_32)/(a21_32-1));\n",
    "              Float64((a21_32*b1_32-b2_32)/(a21_32-1))]\n",
    "    else\n",
    "      a21_64 = Float64(Float32(1+ε))\n",
    "      b1_64  = Float64(Float32(b[1]))\n",
    "      b2_64  = Float64(Float32(b[1]+ε))\n",
    "      return [(b2_64-b1_64)/(a21_64-1);\n",
    "              (a21_64*b1_64-b2_64)/(a21_64-1)]\n",
    "    end\n",
    "end\n",
    "\n",
    "function get_η(y, ε, b, r)\n",
    "  A_2norm = 1+sqrt(1+ε)\n",
    "  b_2norm = sqrt(b'b)\n",
    "  r_2norm = sqrt(r'r)\n",
    "  y_2norm = sqrt(y'y)\n",
    "  d = A_2norm * y_2norm + b_2norm\n",
    "  return r_2norm / d\n",
    "end;\n",
    "\n",
    "function get_δA(y, ε, b, r)\n",
    "  A_2norm = 1+sqrt(1+ε)\n",
    "  b_2norm = sqrt(b'b)\n",
    "  y_2norm = sqrt(y'y)\n",
    "  c = A_2norm / y_2norm / (A_2norm * y_2norm + b_2norm)\n",
    "  return c * r * y'\n",
    "end;\n",
    "\n",
    "function get_δb(y, ε, b, r)\n",
    "  A_2norm = 1+sqrt(1+ε)\n",
    "  b_2norm = sqrt(b'b)\n",
    "  y_2norm = sqrt(y'y)\n",
    "  c = - b_2norm / (A_2norm * y_2norm + b_2norm)\n",
    "  return c * r\n",
    "end;\n",
    "\n",
    "function check(y, ε, A, b, r)\n",
    "  δA = get_δA(y, ε, b, r)\n",
    "  δb = get_δb(y, ε, b, r)\n",
    "  z = (A + δA) \\ (b + δb)\n",
    "  println(norm(y - z))\n",
    "end\n",
    "\n",
    "b1 = 22.\n",
    "\n",
    "for ε ∈ (1e-3, 1e-4, 1e-5, 1e-6)\n",
    "  A = get_A(ε);\n",
    "  b = get_b(b1, ε);\n",
    "  κ = get_κ(ε);\n",
    "  x = get_x(b, ε);\n",
    "  y = get_y(b, ε);\n",
    "  r = b - A * y;\n",
    "  forward_error = sqrt((x-y)'*(x-y))/sqrt(x'x);\n",
    "  backward_error = get_η(y, ε, b, r);\n",
    "  # check(y, ε, A, b, r);\n",
    "  @printf \"ε = %.0E, κ = %.1E, backward_error = %.4E, forward_error = %.4E\\n\" ε κ backward_error forward_error\n",
    "end"
   ]
  },
  {
   "cell_type": "markdown",
   "id": "509571b3-89d9-4a7a-93fc-98d6db3b33ba",
   "metadata": {},
   "source": [
    "We can see that, as the condition number $\\,\\kappa(A)\\,$ of the problem increases, the backward error $\\,\\eta_{A,b}(y)$, which characterizes the approximation $\\,y\\,$ of $\\,x\\,$, becomes less and less indicative of the relative forward error. Indeed, we do have\n",
    "$$\n",
    "\\frac{\\|x-y\\|_2}{\\|x\\|_2}\\;\\lesssim\\;\\kappa(A)\\;\\times\\;\\eta_{A,b}(y).\n",
    "$$"
   ]
  },
  {
   "cell_type": "raw",
   "id": "1de59401-a889-49aa-b8b5-82658d14e624",
   "metadata": {},
   "source": [
    "\\subsection*{Exercise \\#3: Ill-conditioned eigenvalue problem}"
   ]
  },
  {
   "cell_type": "markdown",
   "id": "51782716-a0ed-4b06-94bc-8aa73dd42477",
   "metadata": {},
   "source": [
    "We saw during the lecture that the condition number was a problem-dependent quantity. In order to showcase this, we take a look at a specific type of matrix which is well-conditioned for linear solves, but has ill-conditioned eigenvalues.\n",
    "\n",
    "We consider the Grcar matrix (see https://math.nist.gov/MatrixMarket/data/NEP/mvmgrc/mvmgrc.html) which is upper Hessenberg, and thus, non-normal."
   ]
  },
  {
   "cell_type": "code",
   "execution_count": 9,
   "id": "3a5d164d-b41d-4f3e-9f14-56746cb2774b",
   "metadata": {},
   "outputs": [
    {
     "name": "stdout",
     "output_type": "stream",
     "text": [
      "For n=10, the Grcar matrix looks like this:\n"
     ]
    },
    {
     "data": {
      "text/latex": [
       "$A = $\\begin{equation}\n",
       "\\left[\n",
       "\\begin{array}{cccccccccc}\n",
       "1.0 & 1.0 & 1.0 & 1.0 & 0.0 & 0.0 & 0.0 & 0.0 & 0.0 & 0.0 \\\\\n",
       "-1.0 & 1.0 & 1.0 & 1.0 & 1.0 & 0.0 & 0.0 & 0.0 & 0.0 & 0.0 \\\\\n",
       "0.0 & -1.0 & 1.0 & 1.0 & 1.0 & 1.0 & 0.0 & 0.0 & 0.0 & 0.0 \\\\\n",
       "0.0 & 0.0 & -1.0 & 1.0 & 1.0 & 1.0 & 1.0 & 0.0 & 0.0 & 0.0 \\\\\n",
       "0.0 & 0.0 & 0.0 & -1.0 & 1.0 & 1.0 & 1.0 & 1.0 & 0.0 & 0.0 \\\\\n",
       "0.0 & 0.0 & 0.0 & 0.0 & -1.0 & 1.0 & 1.0 & 1.0 & 1.0 & 0.0 \\\\\n",
       "0.0 & 0.0 & 0.0 & 0.0 & 0.0 & -1.0 & 1.0 & 1.0 & 1.0 & 1.0 \\\\\n",
       "0.0 & 0.0 & 0.0 & 0.0 & 0.0 & 0.0 & -1.0 & 1.0 & 1.0 & 1.0 \\\\\n",
       "0.0 & 0.0 & 0.0 & 0.0 & 0.0 & 0.0 & 0.0 & -1.0 & 1.0 & 1.0 \\\\\n",
       "0.0 & 0.0 & 0.0 & 0.0 & 0.0 & 0.0 & 0.0 & 0.0 & -1.0 & 1.0 \\\\\n",
       "\\end{array}\n",
       "\\right]\n",
       "\\end{equation}\n"
      ]
     },
     "metadata": {},
     "output_type": "display_data"
    }
   ],
   "source": [
    "function get_A(n)\n",
    "  A = zeros(n, n);\n",
    "  A[diagind(A, -1)] .= -1.;\n",
    "  for i in 0:3\n",
    "    A[diagind(A, i)] .= 1.;\n",
    "  end\n",
    "  return A\n",
    "end\n",
    "\n",
    "println(\"For n=10, the Grcar matrix looks like this:\")\n",
    "latex_string = L\"A = \" * latexify(get_A(10));\n",
    "display(\"text/latex\", latex_string);"
   ]
  },
  {
   "cell_type": "markdown",
   "id": "e651d50e-9f17-4e84-a1bc-fb3fb46accc2",
   "metadata": {},
   "source": [
    "This matrix has a small condition number κ(A) with respect to linear solves. In particular, for n=100, we have:"
   ]
  },
  {
   "cell_type": "code",
   "execution_count": 10,
   "id": "6d8127a6-87c9-40d0-9120-031b3e003fff",
   "metadata": {},
   "outputs": [
    {
     "data": {
      "text/plain": [
       "3.5911104629805917"
      ]
     },
     "execution_count": 10,
     "metadata": {},
     "output_type": "execute_result"
    }
   ],
   "source": [
    "n = 100;\n",
    "A = get_A(n);\n",
    "κ = cond(A)"
   ]
  },
  {
   "cell_type": "markdown",
   "id": "1b4c37d8-d108-4c7a-ae78-36d8584b770e",
   "metadata": {},
   "source": [
    "The small value of $\\kappa=\\|A^{-1}\\|_2\\|A\\|_2$ means that the solution $\\,x\\,$ of the linear system $\\,Ax=b\\,$ is not highly sensitive to perturbations. That is, the true solution $\\,y\\,$ of $\\,(A+\\delta A)y=b+\\delta b\\,$ remains close to $\\,x\\,$, as long as $\\,\\|\\delta A\\|_2\\,$ and $\\,\\|\\delta b\\|_2\\,$ are small. We can put this to the test as follows:"
   ]
  },
  {
   "cell_type": "code",
   "execution_count": 11,
   "id": "8033cb8d-f4e5-49b9-8f36-7de98e505c3a",
   "metadata": {},
   "outputs": [
    {
     "name": "stdout",
     "output_type": "stream",
     "text": [
      "||δA||_2/||A||_2 = 4.50E-07, ||δb||_2/||b||_2 = 6E-07, ||y - x||_2/||x||_2 = 2.28E-06\n",
      "||δA||_2/||A||_2 = 4.50E-06, ||δb||_2/||b||_2 = 6E-06, ||y - x||_2/||x||_2 = 2.28E-05\n",
      "||δA||_2/||A||_2 = 4.50E-05, ||δb||_2/||b||_2 = 6E-05, ||y - x||_2/||x||_2 = 2.28E-04\n",
      "||δA||_2/||A||_2 = 4.50E-04, ||δb||_2/||b||_2 = 6E-04, ||y - x||_2/||x||_2 = 2.28E-03\n"
     ]
    }
   ],
   "source": [
    "Random.seed!(123467);\n",
    "b = 1 .+ rand(n);\n",
    "A_2norm = norm(A);\n",
    "b_2norm = norm(b);\n",
    "\n",
    "x = A \\ b\n",
    "\n",
    "δA0 = rand(n, n); δA0 ./= norm(δA0);\n",
    "δb0 = rand(n); δb0 ./= norm(δb0);\n",
    "\n",
    "for ε ∈ (1e-5, 1e-4, 1e-3, 1e-2)\n",
    "  δA = ε * δA0\n",
    "  δb = ε * δb0\n",
    "  y = (A + δA) \\ (b + δb)\n",
    "  rel_error = norm(y - x) / norm(x)\n",
    "  @printf \"||δA||_2/||A||_2 = %.2E, ||δb||_2/||b||_2 = %2.E, ||y - x||_2/||x||_2 = %.2E\\n\" norm(δA)/A_2norm norm(δb)/b_2norm rel_error\n",
    "end"
   ]
  },
  {
   "cell_type": "markdown",
   "id": "5942ec96-3f78-484a-a37a-59d6d811d6c1",
   "metadata": {},
   "source": [
    "where we see that the forward error $\\,\\|y-x\\|_2/\\|x\\|_2\\,$ is properly measured by the relative perturbations $\\,\\|\\delta A\\|_2/\\|A\\|_2\\,$ and $\\,\\|\\delta b\\|_2/\\|b\\|_2\\,$ multiplied by the moderatly small condition number $\\,\\kappa(A)$."
   ]
  },
  {
   "cell_type": "markdown",
   "id": "fb07c65e-d0bf-4c52-aba1-3b736a698de9",
   "metadata": {},
   "source": [
    "Now, let us look into the eigenvalues of $\\,A$.\n",
    "\n",
    "We remember the condition number $\\,\\kappa(A,\\lambda)\\,$ of an eigenvalue $\\,\\lambda\\,$ with normalized right- and left-eigenvectors $\\,u\\,$ and $\\,v\\,$, respectively, i.e., such that\n",
    "$$\n",
    "Au=\\lambda u,\n",
    "\\;\\;\n",
    "A^Hv=\\overline{\\lambda}v,\n",
    "\\;\\;\n",
    "\\|u\\|_2=\\|v\\|_2=1\n",
    "$$\n",
    "is given by\n",
    "$$\n",
    "\\kappa(A,\\lambda)=\\frac{1}{|v^Hu|}\n",
    "$$\n",
    "so that $\\,\\kappa(A,\\lambda)\\,$ becomes increasingly large as the right- and left-eigenvectors $\\,u\\,$ and $\\,v\\,$ are close to be orthogonal.\n",
    "\n",
    "For the case of the Grcar matrix, we can see that the condition number is very high, for all the eigenvalues. For example, we have"
   ]
  },
  {
   "cell_type": "code",
   "execution_count": 12,
   "id": "feee9fdb-7c1c-427e-8db1-a3792fbc6e6a",
   "metadata": {},
   "outputs": [
    {
     "name": "stdout",
     "output_type": "stream",
     "text": [
      "κ_λ1 = 1.85E+14, κ_λn = 1.09E+06"
     ]
    }
   ],
   "source": [
    "Λ, U = eigen(A);\n",
    "Θ, V = eigen(transpose(A));\n",
    "κ_λ1 = 1. / norm(U[:,1]'V[:,2]);\n",
    "κ_λn = 1. / norm(U[:,n]'V[:,n-1]);\n",
    "@printf \"κ_λ1 = %.2E, κ_λn = %.2E\" κ_λ1 κ_λn"
   ]
  },
  {
   "cell_type": "markdown",
   "id": "d7dbf578-27c7-4879-bad4-980776ce699e",
   "metadata": {},
   "source": [
    "Let us now showcase the ill-conditioning of these eigenvalues by applying small perturbation $\\,\\delta A\\,$ to $\\,A$, and see what the effect is on the spectrum:"
   ]
  },
  {
   "cell_type": "code",
   "execution_count": 13,
   "id": "abfccf1f-2d7b-4e53-bd8b-2ed91d77f904",
   "metadata": {},
   "outputs": [
    {
     "name": "stdout",
     "output_type": "stream",
     "text": [
      "||δA||_2/||A||_2 = 4.50E-07, |λ1 - θ1|/|λ1| = 1.25E-01, |λn - θn|/|λn| = 5.94E-01\n"
     ]
    }
   ],
   "source": [
    "δA = 1e-5 * δA0\n",
    "Θ = eigvals(A + δA)\n",
    "rel_error_1 = norm(Λ[1] - Θ[1]) / norm(Λ[1])\n",
    "rel_error_n = norm(Λ[n] - Θ[n]) / norm(Λ[n])\n",
    "@printf \"||δA||_2/||A||_2 = %.2E, |λ1 - θ1|/|λ1| = %.2E, |λn - θn|/|λn| = %.2E\\n\" norm(δA)/A_2norm  rel_error_1 rel_error_n"
   ]
  },
  {
   "cell_type": "markdown",
   "id": "21a43efd-40e8-46d9-bade-5867a1cc98cc",
   "metadata": {},
   "source": [
    "We can see that despite the fact that the perturbation is small, the effect on the eigenvalues with smallest and largest magnitudes is very strong.\n",
    "\n",
    "It is worth observing the effect of the entire spectrum:"
   ]
  },
  {
   "cell_type": "code",
   "execution_count": 14,
   "id": "21d67305-91a7-4671-980c-b1e1c4799f22",
   "metadata": {},
   "outputs": [
    {
     "data": {
      "image/png": "[encoded data removed]",
      "image/svg+xml": [
       "<?xml version=\"1.0\" encoding=\"utf-8\"?>\n",
       "<svg xmlns=\"http://www.w3.org/2000/svg\" xmlns:xlink=\"http://www.w3.org/1999/xlink\" width=\"600\" height=\"400\" viewBox=\"0 0 2400 1600\">\n",
       "<defs>\n",
       "  <clipPath id=\"clip310\">\n",
       "    <rect x=\"0\" y=\"0\" width=\"2400\" height=\"1600\"/>\n",
       "  </clipPath>\n",
       "</defs>\n",
       "<path clip-path=\"url(#clip310)\" d=\"M0 1600 L2400 1600 L2400 0 L0 0  Z\" fill=\"#ffffff\" fill-rule=\"evenodd\" fill-opacity=\"1\"/>\n",
       "<defs>\n",
       "  <clipPath id=\"clip311\">\n",
       "    <rect x=\"480\" y=\"0\" width=\"1681\" height=\"1600\"/>\n",
       "  </clipPath>\n",
       "</defs>\n",
       "<path clip-path=\"url(#clip310)\" d=\"M210.746 1423.18 L2352.76 1423.18 L2352.76 123.472 L210.746 123.472  Z\" fill=\"#ffffff\" fill-rule=\"evenodd\" fill-opacity=\"1\"/>\n",
       "<defs>\n",
       "  <clipPath id=\"clip312\">\n",
       "    <rect x=\"210\" y=\"123\" width=\"2143\" height=\"1301\"/>\n",
       "  </clipPath>\n",
       "</defs>\n",
       "<polyline clip-path=\"url(#clip312)\" style=\"stroke:#000000; stroke-linecap:round; stroke-linejoin:round; stroke-width:2; stroke-opacity:0.1; fill:none\" points=\"574.841,1423.18 574.841,123.472 \"/>\n",
       "<polyline clip-path=\"url(#clip312)\" style=\"stroke:#000000; stroke-linecap:round; stroke-linejoin:round; stroke-width:2; stroke-opacity:0.1; fill:none\" points=\"1050.67,1423.18 1050.67,123.472 \"/>\n",
       "<polyline clip-path=\"url(#clip312)\" style=\"stroke:#000000; stroke-linecap:round; stroke-linejoin:round; stroke-width:2; stroke-opacity:0.1; fill:none\" points=\"1526.5,1423.18 1526.5,123.472 \"/>\n",
       "<polyline clip-path=\"url(#clip312)\" style=\"stroke:#000000; stroke-linecap:round; stroke-linejoin:round; stroke-width:2; stroke-opacity:0.1; fill:none\" points=\"2002.33,1423.18 2002.33,123.472 \"/>\n",
       "<polyline clip-path=\"url(#clip310)\" style=\"stroke:#000000; stroke-linecap:round; stroke-linejoin:round; stroke-width:4; stroke-opacity:1; fill:none\" points=\"210.746,1423.18 2352.76,1423.18 \"/>\n",
       "<polyline clip-path=\"url(#clip310)\" style=\"stroke:#000000; stroke-linecap:round; stroke-linejoin:round; stroke-width:4; stroke-opacity:1; fill:none\" points=\"574.841,1423.18 574.841,1404.28 \"/>\n",
       "<polyline clip-path=\"url(#clip310)\" style=\"stroke:#000000; stroke-linecap:round; stroke-linejoin:round; stroke-width:4; stroke-opacity:1; fill:none\" points=\"1050.67,1423.18 1050.67,1404.28 \"/>\n",
       "<polyline clip-path=\"url(#clip310)\" style=\"stroke:#000000; stroke-linecap:round; stroke-linejoin:round; stroke-width:4; stroke-opacity:1; fill:none\" points=\"1526.5,1423.18 1526.5,1404.28 \"/>\n",
       "<polyline clip-path=\"url(#clip310)\" style=\"stroke:#000000; stroke-linecap:round; stroke-linejoin:round; stroke-width:4; stroke-opacity:1; fill:none\" points=\"2002.33,1423.18 2002.33,1404.28 \"/>\n",
       "<path clip-path=\"url(#clip310)\" d=\"M544.783 1468.75 L574.459 1468.75 L574.459 1472.69 L544.783 1472.69 L544.783 1468.75 Z\" fill=\"#000000\" fill-rule=\"nonzero\" fill-opacity=\"1\" /><path clip-path=\"url(#clip310)\" d=\"M588.579 1481.64 L604.899 1481.64 L604.899 1485.58 L582.954 1485.58 L582.954 1481.64 Q585.616 1478.89 590.2 1474.26 Q594.806 1469.61 595.987 1468.27 Q598.232 1465.74 599.112 1464.01 Q600.014 1462.25 600.014 1460.56 Q600.014 1457.8 598.07 1456.07 Q596.149 1454.33 593.047 1454.33 Q590.848 1454.33 588.394 1455.09 Q585.964 1455.86 583.186 1457.41 L583.186 1452.69 Q586.01 1451.55 588.464 1450.97 Q590.917 1450.39 592.954 1450.39 Q598.325 1450.39 601.519 1453.08 Q604.714 1455.77 604.714 1460.26 Q604.714 1462.39 603.903 1464.31 Q603.116 1466.2 601.01 1468.8 Q600.431 1469.47 597.329 1472.69 Q594.227 1475.88 588.579 1481.64 Z\" fill=\"#000000\" fill-rule=\"nonzero\" fill-opacity=\"1\" /><path clip-path=\"url(#clip310)\" d=\"M1050.67 1454.1 Q1047.06 1454.1 1045.23 1457.66 Q1043.43 1461.2 1043.43 1468.33 Q1043.43 1475.44 1045.23 1479.01 Q1047.06 1482.55 1050.67 1482.55 Q1054.3 1482.55 1056.11 1479.01 Q1057.94 1475.44 1057.94 1468.33 Q1057.94 1461.2 1056.11 1457.66 Q1054.3 1454.1 1050.67 1454.1 M1050.67 1450.39 Q1056.48 1450.39 1059.54 1455 Q1062.61 1459.58 1062.61 1468.33 Q1062.61 1477.06 1059.54 1481.67 Q1056.48 1486.25 1050.67 1486.25 Q1044.86 1486.25 1041.78 1481.67 Q1038.73 1477.06 1038.73 1468.33 Q1038.73 1459.58 1041.78 1455 Q1044.86 1450.39 1050.67 1450.39 Z\" fill=\"#000000\" fill-rule=\"nonzero\" fill-opacity=\"1\" /><path clip-path=\"url(#clip310)\" d=\"M1521.15 1481.64 L1537.47 1481.64 L1537.47 1485.58 L1515.53 1485.58 L1515.53 1481.64 Q1518.19 1478.89 1522.77 1474.26 Q1527.38 1469.61 1528.56 1468.27 Q1530.81 1465.74 1531.68 1464.01 Q1532.59 1462.25 1532.59 1460.56 Q1532.59 1457.8 1530.64 1456.07 Q1528.72 1454.33 1525.62 1454.33 Q1523.42 1454.33 1520.97 1455.09 Q1518.54 1455.86 1515.76 1457.41 L1515.76 1452.69 Q1518.58 1451.55 1521.04 1450.97 Q1523.49 1450.39 1525.53 1450.39 Q1530.9 1450.39 1534.09 1453.08 Q1537.29 1455.77 1537.29 1460.26 Q1537.29 1462.39 1536.48 1464.31 Q1535.69 1466.2 1533.58 1468.8 Q1533 1469.47 1529.9 1472.69 Q1526.8 1475.88 1521.15 1481.64 Z\" fill=\"#000000\" fill-rule=\"nonzero\" fill-opacity=\"1\" /><path clip-path=\"url(#clip310)\" d=\"M2005.34 1455.09 L1993.53 1473.54 L2005.34 1473.54 L2005.34 1455.09 M2004.11 1451.02 L2009.99 1451.02 L2009.99 1473.54 L2014.92 1473.54 L2014.92 1477.43 L2009.99 1477.43 L2009.99 1485.58 L2005.34 1485.58 L2005.34 1477.43 L1989.74 1477.43 L1989.74 1472.92 L2004.11 1451.02 Z\" fill=\"#000000\" fill-rule=\"nonzero\" fill-opacity=\"1\" /><path clip-path=\"url(#clip310)\" d=\"M1163.3 1545.76 Q1165.37 1546.46 1167.31 1548.76 Q1169.28 1551.05 1171.26 1555.06 L1177.78 1568.04 L1170.88 1568.04 L1164.8 1555.85 Q1162.44 1551.08 1160.21 1549.52 Q1158.02 1547.96 1154.2 1547.96 L1147.2 1547.96 L1147.2 1568.04 L1140.77 1568.04 L1140.77 1520.52 L1155.28 1520.52 Q1163.43 1520.52 1167.44 1523.93 Q1171.45 1527.34 1171.45 1534.21 Q1171.45 1538.7 1169.35 1541.66 Q1167.28 1544.62 1163.3 1545.76 M1147.2 1525.81 L1147.2 1542.68 L1155.28 1542.68 Q1159.93 1542.68 1162.28 1540.54 Q1164.67 1538.38 1164.67 1534.21 Q1164.67 1530.04 1162.28 1527.94 Q1159.93 1525.81 1155.28 1525.81 L1147.2 1525.81 Z\" fill=\"#000000\" fill-rule=\"nonzero\" fill-opacity=\"1\" /><path clip-path=\"url(#clip310)\" d=\"M1213.37 1548.76 L1213.37 1551.62 L1186.44 1551.62 Q1186.82 1557.67 1190.07 1560.85 Q1193.35 1564 1199.17 1564 Q1202.55 1564 1205.7 1563.17 Q1208.88 1562.35 1212 1560.69 L1212 1566.23 Q1208.85 1567.57 1205.54 1568.27 Q1202.23 1568.97 1198.82 1568.97 Q1190.29 1568.97 1185.29 1564 Q1180.33 1559.04 1180.33 1550.57 Q1180.33 1541.82 1185.04 1536.69 Q1189.78 1531.54 1197.8 1531.54 Q1205 1531.54 1209.17 1536.18 Q1213.37 1540.8 1213.37 1548.76 M1207.51 1547.04 Q1207.45 1542.23 1204.81 1539.37 Q1202.2 1536.5 1197.87 1536.5 Q1192.97 1536.5 1190.01 1539.27 Q1187.08 1542.04 1186.63 1547.07 L1207.51 1547.04 Z\" fill=\"#000000\" fill-rule=\"nonzero\" fill-opacity=\"1\" /><path clip-path=\"url(#clip310)\" d=\"M1239.18 1550.12 Q1232.08 1550.12 1229.35 1551.75 Q1226.61 1553.37 1226.61 1557.29 Q1226.61 1560.4 1228.65 1562.25 Q1230.71 1564.07 1234.25 1564.07 Q1239.12 1564.07 1242.04 1560.63 Q1245 1557.16 1245 1551.43 L1245 1550.12 L1239.18 1550.12 M1250.86 1547.71 L1250.86 1568.04 L1245 1568.04 L1245 1562.63 Q1243 1565.88 1240.01 1567.44 Q1237.02 1568.97 1232.69 1568.97 Q1227.21 1568.97 1223.97 1565.91 Q1220.75 1562.82 1220.75 1557.67 Q1220.75 1551.65 1224.76 1548.6 Q1228.8 1545.54 1236.79 1545.54 L1245 1545.54 L1245 1544.97 Q1245 1540.93 1242.33 1538.73 Q1239.69 1536.5 1234.88 1536.5 Q1231.83 1536.5 1228.93 1537.23 Q1226.04 1537.97 1223.36 1539.43 L1223.36 1534.02 Q1226.58 1532.78 1229.6 1532.17 Q1232.62 1531.54 1235.49 1531.54 Q1243.22 1531.54 1247.04 1535.55 Q1250.86 1539.56 1250.86 1547.71 Z\" fill=\"#000000\" fill-rule=\"nonzero\" fill-opacity=\"1\" /><path clip-path=\"url(#clip310)\" d=\"M1262.92 1518.52 L1268.78 1518.52 L1268.78 1568.04 L1262.92 1568.04 L1262.92 1518.52 Z\" fill=\"#000000\" fill-rule=\"nonzero\" fill-opacity=\"1\" /><path clip-path=\"url(#clip310)\" d=\"M1308.44 1525.81 L1308.44 1543.66 L1316.52 1543.66 Q1321.01 1543.66 1323.46 1541.34 Q1325.91 1539.02 1325.91 1534.72 Q1325.91 1530.45 1323.46 1528.13 Q1321.01 1525.81 1316.52 1525.81 L1308.44 1525.81 M1302.01 1520.52 L1316.52 1520.52 Q1324.51 1520.52 1328.59 1524.15 Q1332.69 1527.75 1332.69 1534.72 Q1332.69 1541.75 1328.59 1545.35 Q1324.51 1548.95 1316.52 1548.95 L1308.44 1548.95 L1308.44 1568.04 L1302.01 1568.04 L1302.01 1520.52 Z\" fill=\"#000000\" fill-rule=\"nonzero\" fill-opacity=\"1\" /><path clip-path=\"url(#clip310)\" d=\"M1354.34 1550.12 Q1347.24 1550.12 1344.5 1551.75 Q1341.76 1553.37 1341.76 1557.29 Q1341.76 1560.4 1343.8 1562.25 Q1345.87 1564.07 1349.4 1564.07 Q1354.27 1564.07 1357.2 1560.63 Q1360.16 1557.16 1360.16 1551.43 L1360.16 1550.12 L1354.34 1550.12 M1366.02 1547.71 L1366.02 1568.04 L1360.16 1568.04 L1360.16 1562.63 Q1358.16 1565.88 1355.16 1567.44 Q1352.17 1568.97 1347.84 1568.97 Q1342.37 1568.97 1339.12 1565.91 Q1335.91 1562.82 1335.91 1557.67 Q1335.91 1551.65 1339.92 1548.6 Q1343.96 1545.54 1351.95 1545.54 L1360.16 1545.54 L1360.16 1544.97 Q1360.16 1540.93 1357.49 1538.73 Q1354.85 1536.5 1350.04 1536.5 Q1346.98 1536.5 1344.09 1537.23 Q1341.19 1537.97 1338.52 1539.43 L1338.52 1534.02 Q1341.73 1532.78 1344.76 1532.17 Q1347.78 1531.54 1350.64 1531.54 Q1358.38 1531.54 1362.2 1535.55 Q1366.02 1539.56 1366.02 1547.71 Z\" fill=\"#000000\" fill-rule=\"nonzero\" fill-opacity=\"1\" /><path clip-path=\"url(#clip310)\" d=\"M1398.74 1537.87 Q1397.75 1537.3 1396.57 1537.04 Q1395.43 1536.76 1394.03 1536.76 Q1389.06 1536.76 1386.39 1540 Q1383.75 1543.22 1383.75 1549.27 L1383.75 1568.04 L1377.86 1568.04 L1377.86 1532.4 L1383.75 1532.4 L1383.75 1537.93 Q1385.59 1534.69 1388.55 1533.13 Q1391.51 1531.54 1395.74 1531.54 Q1396.35 1531.54 1397.08 1531.63 Q1397.81 1531.7 1398.7 1531.85 L1398.74 1537.87 Z\" fill=\"#000000\" fill-rule=\"nonzero\" fill-opacity=\"1\" /><path clip-path=\"url(#clip310)\" d=\"M1410.67 1522.27 L1410.67 1532.4 L1422.74 1532.4 L1422.74 1536.95 L1410.67 1536.95 L1410.67 1556.3 Q1410.67 1560.66 1411.85 1561.9 Q1413.06 1563.14 1416.72 1563.14 L1422.74 1563.14 L1422.74 1568.04 L1416.72 1568.04 Q1409.94 1568.04 1407.36 1565.53 Q1404.78 1562.98 1404.78 1556.3 L1404.78 1536.95 L1400.49 1536.95 L1400.49 1532.4 L1404.78 1532.4 L1404.78 1522.27 L1410.67 1522.27 Z\" fill=\"#000000\" fill-rule=\"nonzero\" fill-opacity=\"1\" /><polyline clip-path=\"url(#clip312)\" style=\"stroke:#000000; stroke-linecap:round; stroke-linejoin:round; stroke-width:2; stroke-opacity:0.1; fill:none\" points=\"210.746,1249.16 2352.76,1249.16 \"/>\n",
       "<polyline clip-path=\"url(#clip312)\" style=\"stroke:#000000; stroke-linecap:round; stroke-linejoin:round; stroke-width:2; stroke-opacity:0.1; fill:none\" points=\"210.746,1011.24 2352.76,1011.24 \"/>\n",
       "<polyline clip-path=\"url(#clip312)\" style=\"stroke:#000000; stroke-linecap:round; stroke-linejoin:round; stroke-width:2; stroke-opacity:0.1; fill:none\" points=\"210.746,773.326 2352.76,773.326 \"/>\n",
       "<polyline clip-path=\"url(#clip312)\" style=\"stroke:#000000; stroke-linecap:round; stroke-linejoin:round; stroke-width:2; stroke-opacity:0.1; fill:none\" points=\"210.746,535.411 2352.76,535.411 \"/>\n",
       "<polyline clip-path=\"url(#clip312)\" style=\"stroke:#000000; stroke-linecap:round; stroke-linejoin:round; stroke-width:2; stroke-opacity:0.1; fill:none\" points=\"210.746,297.497 2352.76,297.497 \"/>\n",
       "<polyline clip-path=\"url(#clip310)\" style=\"stroke:#000000; stroke-linecap:round; stroke-linejoin:round; stroke-width:4; stroke-opacity:1; fill:none\" points=\"210.746,1423.18 210.746,123.472 \"/>\n",
       "<polyline clip-path=\"url(#clip310)\" style=\"stroke:#000000; stroke-linecap:round; stroke-linejoin:round; stroke-width:4; stroke-opacity:1; fill:none\" points=\"210.746,1249.16 229.644,1249.16 \"/>\n",
       "<polyline clip-path=\"url(#clip310)\" style=\"stroke:#000000; stroke-linecap:round; stroke-linejoin:round; stroke-width:4; stroke-opacity:1; fill:none\" points=\"210.746,1011.24 229.644,1011.24 \"/>\n",
       "<polyline clip-path=\"url(#clip310)\" style=\"stroke:#000000; stroke-linecap:round; stroke-linejoin:round; stroke-width:4; stroke-opacity:1; fill:none\" points=\"210.746,773.326 229.644,773.326 \"/>\n",
       "<polyline clip-path=\"url(#clip310)\" style=\"stroke:#000000; stroke-linecap:round; stroke-linejoin:round; stroke-width:4; stroke-opacity:1; fill:none\" points=\"210.746,535.411 229.644,535.411 \"/>\n",
       "<polyline clip-path=\"url(#clip310)\" style=\"stroke:#000000; stroke-linecap:round; stroke-linejoin:round; stroke-width:4; stroke-opacity:1; fill:none\" points=\"210.746,297.497 229.644,297.497 \"/>\n",
       "<path clip-path=\"url(#clip310)\" d=\"M114.631 1249.61 L144.306 1249.61 L144.306 1253.54 L114.631 1253.54 L114.631 1249.61 Z\" fill=\"#000000\" fill-rule=\"nonzero\" fill-opacity=\"1\" /><path clip-path=\"url(#clip310)\" d=\"M158.427 1262.5 L174.746 1262.5 L174.746 1266.44 L152.802 1266.44 L152.802 1262.5 Q155.464 1259.75 160.047 1255.12 Q164.653 1250.46 165.834 1249.12 Q168.079 1246.6 168.959 1244.86 Q169.862 1243.1 169.862 1241.41 Q169.862 1238.66 167.917 1236.92 Q165.996 1235.19 162.894 1235.19 Q160.695 1235.19 158.241 1235.95 Q155.811 1236.71 153.033 1238.26 L153.033 1233.54 Q155.857 1232.41 158.311 1231.83 Q160.765 1231.25 162.802 1231.25 Q168.172 1231.25 171.366 1233.94 Q174.561 1236.62 174.561 1241.11 Q174.561 1243.24 173.751 1245.16 Q172.964 1247.06 170.857 1249.65 Q170.278 1250.32 167.177 1253.54 Q164.075 1256.74 158.427 1262.5 Z\" fill=\"#000000\" fill-rule=\"nonzero\" fill-opacity=\"1\" /><path clip-path=\"url(#clip310)\" d=\"M114.26 1011.69 L143.936 1011.69 L143.936 1015.63 L114.26 1015.63 L114.26 1011.69 Z\" fill=\"#000000\" fill-rule=\"nonzero\" fill-opacity=\"1\" /><path clip-path=\"url(#clip310)\" d=\"M154.839 1024.59 L162.477 1024.59 L162.477 998.22 L154.167 999.887 L154.167 995.627 L162.431 993.961 L167.107 993.961 L167.107 1024.59 L174.746 1024.59 L174.746 1028.52 L154.839 1028.52 L154.839 1024.59 Z\" fill=\"#000000\" fill-rule=\"nonzero\" fill-opacity=\"1\" /><path clip-path=\"url(#clip310)\" d=\"M162.802 759.125 Q159.19 759.125 157.362 762.689 Q155.556 766.231 155.556 773.361 Q155.556 780.467 157.362 784.032 Q159.19 787.574 162.802 787.574 Q166.436 787.574 168.241 784.032 Q170.07 780.467 170.07 773.361 Q170.07 766.231 168.241 762.689 Q166.436 759.125 162.802 759.125 M162.802 755.421 Q168.612 755.421 171.667 760.027 Q174.746 764.611 174.746 773.361 Q174.746 782.088 171.667 786.694 Q168.612 791.277 162.802 791.277 Q156.991 791.277 153.913 786.694 Q150.857 782.088 150.857 773.361 Q150.857 764.611 153.913 760.027 Q156.991 755.421 162.802 755.421 Z\" fill=\"#000000\" fill-rule=\"nonzero\" fill-opacity=\"1\" /><path clip-path=\"url(#clip310)\" d=\"M154.839 548.756 L162.477 548.756 L162.477 522.391 L154.167 524.057 L154.167 519.798 L162.431 518.131 L167.107 518.131 L167.107 548.756 L174.746 548.756 L174.746 552.691 L154.839 552.691 L154.839 548.756 Z\" fill=\"#000000\" fill-rule=\"nonzero\" fill-opacity=\"1\" /><path clip-path=\"url(#clip310)\" d=\"M158.427 310.841 L174.746 310.841 L174.746 314.777 L152.802 314.777 L152.802 310.841 Q155.464 308.087 160.047 303.457 Q164.653 298.804 165.834 297.462 Q168.079 294.939 168.959 293.203 Q169.862 291.443 169.862 289.754 Q169.862 286.999 167.917 285.263 Q165.996 283.527 162.894 283.527 Q160.695 283.527 158.241 284.291 Q155.811 285.055 153.033 286.605 L153.033 281.883 Q155.857 280.749 158.311 280.17 Q160.765 279.592 162.802 279.592 Q168.172 279.592 171.366 282.277 Q174.561 284.962 174.561 289.453 Q174.561 291.582 173.751 293.504 Q172.964 295.402 170.857 297.994 Q170.278 298.666 167.177 301.883 Q164.075 305.078 158.427 310.841 Z\" fill=\"#000000\" fill-rule=\"nonzero\" fill-opacity=\"1\" /><path clip-path=\"url(#clip310)\" d=\"M16.4842 1008.44 L16.4842 1002.01 L64.0042 1002.01 L64.0042 1008.44 L16.4842 1008.44 Z\" fill=\"#000000\" fill-rule=\"nonzero\" fill-opacity=\"1\" /><path clip-path=\"url(#clip310)\" d=\"M35.1993 961.719 Q31.2526 959.523 29.3747 956.467 Q27.4968 953.412 27.4968 949.274 Q27.4968 943.704 31.4117 940.68 Q35.2948 937.657 42.4881 937.657 L64.0042 937.657 L64.0042 943.545 L42.679 943.545 Q37.5546 943.545 35.072 945.359 Q32.5894 947.173 32.5894 950.897 Q32.5894 955.449 35.6131 958.091 Q38.6368 960.732 43.8567 960.732 L64.0042 960.732 L64.0042 966.621 L42.679 966.621 Q37.5228 966.621 35.072 968.435 Q32.5894 970.249 32.5894 974.037 Q32.5894 978.525 35.6449 981.166 Q38.6686 983.808 43.8567 983.808 L64.0042 983.808 L64.0042 989.696 L28.3562 989.696 L28.3562 983.808 L33.8944 983.808 Q30.616 981.803 29.0564 979.002 Q27.4968 976.201 27.4968 972.35 Q27.4968 968.467 29.4702 965.761 Q31.4436 963.024 35.1993 961.719 Z\" fill=\"#000000\" fill-rule=\"nonzero\" fill-opacity=\"1\" /><path clip-path=\"url(#clip310)\" d=\"M46.0847 909.775 Q46.0847 916.873 47.7079 919.61 Q49.3312 922.347 53.2461 922.347 Q56.3653 922.347 58.2114 920.31 Q60.0256 918.241 60.0256 914.708 Q60.0256 909.839 56.5881 906.91 Q53.1188 903.95 47.3897 903.95 L46.0847 903.95 L46.0847 909.775 M43.6657 898.094 L64.0042 898.094 L64.0042 903.95 L58.5933 903.95 Q61.8398 905.955 63.3994 908.947 Q64.9272 911.939 64.9272 916.268 Q64.9272 921.742 61.8716 924.989 Q58.7843 928.204 53.6281 928.204 Q47.6125 928.204 44.5569 924.193 Q41.5014 920.151 41.5014 912.162 L41.5014 903.95 L40.9285 903.95 Q36.8862 903.95 34.6901 906.624 Q32.4621 909.266 32.4621 914.072 Q32.4621 917.127 33.1941 920.024 Q33.9262 922.92 35.3903 925.594 L29.9795 925.594 Q28.7381 922.379 28.1334 919.355 Q27.4968 916.332 27.4968 913.467 Q27.4968 905.733 31.5072 901.913 Q35.5176 898.094 43.6657 898.094 Z\" fill=\"#000000\" fill-rule=\"nonzero\" fill-opacity=\"1\" /><path clip-path=\"url(#clip310)\" d=\"M45.7664 862.573 Q39.4007 862.573 35.8996 865.215 Q32.3984 867.825 32.3984 872.567 Q32.3984 877.278 35.8996 879.92 Q39.4007 882.53 45.7664 882.53 Q52.1003 882.53 55.6014 879.92 Q59.1026 877.278 59.1026 872.567 Q59.1026 867.825 55.6014 865.215 Q52.1003 862.573 45.7664 862.573 M59.58 856.717 Q68.683 856.717 73.1071 860.759 Q77.5631 864.801 77.5631 873.14 Q77.5631 876.228 77.0857 878.965 Q76.6401 881.702 75.6852 884.28 L69.9879 884.28 Q71.3884 881.702 72.0568 879.188 Q72.7252 876.673 72.7252 874.063 Q72.7252 868.302 69.7015 865.438 Q66.7096 862.573 60.6303 862.573 L57.7339 862.573 Q60.885 864.387 62.4446 867.22 Q64.0042 870.053 64.0042 874 Q64.0042 880.556 59.0071 884.567 Q54.01 888.577 45.7664 888.577 Q37.491 888.577 32.4939 884.567 Q27.4968 880.556 27.4968 874 Q27.4968 870.053 29.0564 867.22 Q30.616 864.387 33.7671 862.573 L28.3562 862.573 L28.3562 856.717 L59.58 856.717 Z\" fill=\"#000000\" fill-rule=\"nonzero\" fill-opacity=\"1\" /><path clip-path=\"url(#clip310)\" d=\"M28.3562 844.654 L28.3562 838.797 L64.0042 838.797 L64.0042 844.654 L28.3562 844.654 M14.479 844.654 L14.479 838.797 L21.895 838.797 L21.895 844.654 L14.479 844.654 Z\" fill=\"#000000\" fill-rule=\"nonzero\" fill-opacity=\"1\" /><path clip-path=\"url(#clip310)\" d=\"M42.4881 796.911 L64.0042 796.911 L64.0042 802.767 L42.679 802.767 Q37.6183 802.767 35.1038 804.741 Q32.5894 806.714 32.5894 810.661 Q32.5894 815.403 35.6131 818.141 Q38.6368 820.878 43.8567 820.878 L64.0042 820.878 L64.0042 826.766 L28.3562 826.766 L28.3562 820.878 L33.8944 820.878 Q30.6797 818.777 29.0883 815.944 Q27.4968 813.08 27.4968 809.356 Q27.4968 803.213 31.3163 800.062 Q35.1038 796.911 42.4881 796.911 Z\" fill=\"#000000\" fill-rule=\"nonzero\" fill-opacity=\"1\" /><path clip-path=\"url(#clip310)\" d=\"M46.0847 769.029 Q46.0847 776.127 47.7079 778.864 Q49.3312 781.601 53.2461 781.601 Q56.3653 781.601 58.2114 779.564 Q60.0256 777.496 60.0256 773.963 Q60.0256 769.093 56.5881 766.165 Q53.1188 763.205 47.3897 763.205 L46.0847 763.205 L46.0847 769.029 M43.6657 757.348 L64.0042 757.348 L64.0042 763.205 L58.5933 763.205 Q61.8398 765.21 63.3994 768.202 Q64.9272 771.193 64.9272 775.522 Q64.9272 780.997 61.8716 784.243 Q58.7843 787.458 53.6281 787.458 Q47.6125 787.458 44.5569 783.447 Q41.5014 779.405 41.5014 771.416 L41.5014 763.205 L40.9285 763.205 Q36.8862 763.205 34.6901 765.878 Q32.4621 768.52 32.4621 773.326 Q32.4621 776.382 33.1941 779.278 Q33.9262 782.174 35.3903 784.848 L29.9795 784.848 Q28.7381 781.633 28.1334 778.61 Q27.4968 775.586 27.4968 772.721 Q27.4968 764.987 31.5072 761.167 Q35.5176 757.348 43.6657 757.348 Z\" fill=\"#000000\" fill-rule=\"nonzero\" fill-opacity=\"1\" /><path clip-path=\"url(#clip310)\" d=\"M33.8307 724.628 Q33.2578 725.615 33.0032 726.793 Q32.7167 727.938 32.7167 729.339 Q32.7167 734.304 35.9632 736.978 Q39.1779 739.62 45.2253 739.62 L64.0042 739.62 L64.0042 745.508 L28.3562 745.508 L28.3562 739.62 L33.8944 739.62 Q30.6479 737.774 29.0883 734.813 Q27.4968 731.853 27.4968 727.62 Q27.4968 727.015 27.5923 726.283 Q27.656 725.551 27.8151 724.66 L33.8307 724.628 Z\" fill=\"#000000\" fill-rule=\"nonzero\" fill-opacity=\"1\" /><path clip-path=\"url(#clip310)\" d=\"M67.3143 703.653 Q73.68 706.136 75.6216 708.491 Q77.5631 710.847 77.5631 714.793 L77.5631 719.472 L72.6615 719.472 L72.6615 716.035 Q72.6615 713.616 71.5157 712.279 Q70.3699 710.942 66.1048 709.319 L63.4312 708.268 L28.3562 722.687 L28.3562 716.48 L56.238 705.34 L28.3562 694.2 L28.3562 687.994 L67.3143 703.653 Z\" fill=\"#000000\" fill-rule=\"nonzero\" fill-opacity=\"1\" /><path clip-path=\"url(#clip310)\" d=\"M21.7677 652.505 L39.6235 652.505 L39.6235 644.42 Q39.6235 639.933 37.3 637.482 Q34.9765 635.031 30.6797 635.031 Q26.4147 635.031 24.0912 637.482 Q21.7677 639.933 21.7677 644.42 L21.7677 652.505 M16.4842 658.934 L16.4842 644.42 Q16.4842 636.431 20.1126 632.357 Q23.7092 628.252 30.6797 628.252 Q37.7138 628.252 41.3104 632.357 Q44.907 636.431 44.907 644.42 L44.907 652.505 L64.0042 652.505 L64.0042 658.934 L16.4842 658.934 Z\" fill=\"#000000\" fill-rule=\"nonzero\" fill-opacity=\"1\" /><path clip-path=\"url(#clip310)\" d=\"M46.0847 606.608 Q46.0847 613.706 47.7079 616.443 Q49.3312 619.18 53.2461 619.18 Q56.3653 619.18 58.2114 617.143 Q60.0256 615.075 60.0256 611.542 Q60.0256 606.672 56.5881 603.744 Q53.1188 600.784 47.3897 600.784 L46.0847 600.784 L46.0847 606.608 M43.6657 594.927 L64.0042 594.927 L64.0042 600.784 L58.5933 600.784 Q61.8398 602.789 63.3994 605.781 Q64.9272 608.772 64.9272 613.101 Q64.9272 618.576 61.8716 621.822 Q58.7843 625.037 53.6281 625.037 Q47.6125 625.037 44.5569 621.026 Q41.5014 616.984 41.5014 608.995 L41.5014 600.784 L40.9285 600.784 Q36.8862 600.784 34.6901 603.457 Q32.4621 606.099 32.4621 610.905 Q32.4621 613.961 33.1941 616.857 Q33.9262 619.753 35.3903 622.427 L29.9795 622.427 Q28.7381 619.212 28.1334 616.189 Q27.4968 613.165 27.4968 610.3 Q27.4968 602.566 31.5072 598.746 Q35.5176 594.927 43.6657 594.927 Z\" fill=\"#000000\" fill-rule=\"nonzero\" fill-opacity=\"1\" /><path clip-path=\"url(#clip310)\" d=\"M33.8307 562.207 Q33.2578 563.194 33.0032 564.372 Q32.7167 565.517 32.7167 566.918 Q32.7167 571.883 35.9632 574.557 Q39.1779 577.199 45.2253 577.199 L64.0042 577.199 L64.0042 583.087 L28.3562 583.087 L28.3562 577.199 L33.8944 577.199 Q30.6479 575.353 29.0883 572.392 Q27.4968 569.432 27.4968 565.199 Q27.4968 564.594 27.5923 563.862 Q27.656 563.13 27.8151 562.239 L33.8307 562.207 Z\" fill=\"#000000\" fill-rule=\"nonzero\" fill-opacity=\"1\" /><path clip-path=\"url(#clip310)\" d=\"M18.2347 550.272 L28.3562 550.272 L28.3562 538.209 L32.9077 538.209 L32.9077 550.272 L52.2594 550.272 Q56.6199 550.272 57.8613 549.094 Q59.1026 547.884 59.1026 544.224 L59.1026 538.209 L64.0042 538.209 L64.0042 544.224 Q64.0042 551.004 61.4897 553.582 Q58.9434 556.16 52.2594 556.16 L32.9077 556.16 L32.9077 560.457 L28.3562 560.457 L28.3562 556.16 L18.2347 556.16 L18.2347 550.272 Z\" fill=\"#000000\" fill-rule=\"nonzero\" fill-opacity=\"1\" /><path clip-path=\"url(#clip310)\" d=\"M722.645 18.8205 L722.645 41.5461 L732.934 41.5461 Q738.646 41.5461 741.765 38.5889 Q744.885 35.6318 744.885 30.163 Q744.885 24.7348 741.765 21.7777 Q738.646 18.8205 732.934 18.8205 L722.645 18.8205 M714.462 12.096 L732.934 12.096 Q743.102 12.096 748.287 16.714 Q753.513 21.2916 753.513 30.163 Q753.513 39.1155 748.287 43.6931 Q743.102 48.2706 732.934 48.2706 L722.645 48.2706 L722.645 72.576 L714.462 72.576 L714.462 12.096 Z\" fill=\"#000000\" fill-rule=\"nonzero\" fill-opacity=\"1\" /><path clip-path=\"url(#clip310)\" d=\"M800.017 48.0275 L800.017 51.6733 L765.747 51.6733 Q766.233 59.3701 770.365 63.421 Q774.537 67.4314 781.95 67.4314 Q786.244 67.4314 790.255 66.3781 Q794.306 65.3249 798.276 63.2184 L798.276 70.267 Q794.265 71.9684 790.052 72.8596 Q785.839 73.7508 781.505 73.7508 Q770.648 73.7508 764.288 67.4314 Q757.969 61.1119 757.969 50.3365 Q757.969 39.1965 763.964 32.6746 Q770 26.1121 780.208 26.1121 Q789.364 26.1121 794.67 32.0264 Q800.017 37.9003 800.017 48.0275 M792.564 45.84 Q792.483 39.7232 789.12 36.0774 Q785.799 32.4315 780.289 32.4315 Q774.051 32.4315 770.284 35.9558 Q766.557 39.4801 765.99 45.8805 L792.564 45.84 Z\" fill=\"#000000\" fill-rule=\"nonzero\" fill-opacity=\"1\" /><path clip-path=\"url(#clip310)\" d=\"M838.541 34.1734 Q837.286 33.4443 835.787 33.1202 Q834.329 32.7556 832.546 32.7556 Q826.227 32.7556 822.824 36.8875 Q819.462 40.9789 819.462 48.6757 L819.462 72.576 L811.968 72.576 L811.968 27.2059 L819.462 27.2059 L819.462 34.2544 Q821.811 30.1225 825.579 28.1376 Q829.346 26.1121 834.734 26.1121 Q835.503 26.1121 836.435 26.2337 Q837.367 26.3147 838.501 26.5172 L838.541 34.1734 Z\" fill=\"#000000\" fill-rule=\"nonzero\" fill-opacity=\"1\" /><path clip-path=\"url(#clip310)\" d=\"M853.732 14.324 L853.732 27.2059 L869.085 27.2059 L869.085 32.9987 L853.732 32.9987 L853.732 57.6282 Q853.732 63.1779 855.231 64.7578 Q856.771 66.3376 861.429 66.3376 L869.085 66.3376 L869.085 72.576 L861.429 72.576 Q852.801 72.576 849.519 69.3758 Q846.238 66.1351 846.238 57.6282 L846.238 32.9987 L840.769 32.9987 L840.769 27.2059 L846.238 27.2059 L846.238 14.324 L853.732 14.324 Z\" fill=\"#000000\" fill-rule=\"nonzero\" fill-opacity=\"1\" /><path clip-path=\"url(#clip310)\" d=\"M878.119 54.671 L878.119 27.2059 L885.572 27.2059 L885.572 54.3874 Q885.572 60.8284 888.084 64.0691 Q890.596 67.2693 895.619 67.2693 Q901.655 67.2693 905.138 63.421 Q908.663 59.5726 908.663 52.9291 L908.663 27.2059 L916.116 27.2059 L916.116 72.576 L908.663 72.576 L908.663 65.6084 Q905.949 69.7404 902.343 71.7658 Q898.778 73.7508 894.039 73.7508 Q886.221 73.7508 882.17 68.8897 Q878.119 64.0286 878.119 54.671 M896.875 26.1121 L896.875 26.1121 Z\" fill=\"#000000\" fill-rule=\"nonzero\" fill-opacity=\"1\" /><path clip-path=\"url(#clip310)\" d=\"M957.76 34.1734 Q956.504 33.4443 955.005 33.1202 Q953.547 32.7556 951.764 32.7556 Q945.445 32.7556 942.042 36.8875 Q938.68 40.9789 938.68 48.6757 L938.68 72.576 L931.186 72.576 L931.186 27.2059 L938.68 27.2059 L938.68 34.2544 Q941.029 30.1225 944.797 28.1376 Q948.564 26.1121 953.952 26.1121 Q954.721 26.1121 955.653 26.2337 Q956.585 26.3147 957.719 26.5172 L957.76 34.1734 Z\" fill=\"#000000\" fill-rule=\"nonzero\" fill-opacity=\"1\" /><path clip-path=\"url(#clip310)\" d=\"M998.147 49.9314 Q998.147 41.7081 994.744 37.0496 Q991.382 32.3505 985.468 32.3505 Q979.553 32.3505 976.151 37.0496 Q972.788 41.7081 972.788 49.9314 Q972.788 58.1548 976.151 62.8538 Q979.553 67.5124 985.468 67.5124 Q991.382 67.5124 994.744 62.8538 Q998.147 58.1548 998.147 49.9314 M972.788 34.0924 Q975.138 30.0415 978.703 28.0971 Q982.308 26.1121 987.291 26.1121 Q995.555 26.1121 1000.7 32.6746 Q1005.88 39.2371 1005.88 49.9314 Q1005.88 60.6258 1000.7 67.1883 Q995.555 73.7508 987.291 73.7508 Q982.308 73.7508 978.703 71.8063 Q975.138 69.8214 972.788 65.7705 L972.788 72.576 L965.294 72.576 L965.294 9.54393 L972.788 9.54393 L972.788 34.0924 Z\" fill=\"#000000\" fill-rule=\"nonzero\" fill-opacity=\"1\" /><path clip-path=\"url(#clip310)\" d=\"M1038.86 49.7694 Q1029.83 49.7694 1026.34 51.8354 Q1022.86 53.9013 1022.86 58.8839 Q1022.86 62.8538 1025.45 65.2034 Q1028.08 67.5124 1032.58 67.5124 Q1038.78 67.5124 1042.5 63.1374 Q1046.27 58.7219 1046.27 51.4303 L1046.27 49.7694 L1038.86 49.7694 M1053.73 46.6907 L1053.73 72.576 L1046.27 72.576 L1046.27 65.6895 Q1043.72 69.8214 1039.91 71.8063 Q1036.1 73.7508 1030.59 73.7508 Q1023.63 73.7508 1019.5 69.8619 Q1015.4 65.9325 1015.4 59.3701 Q1015.4 51.7138 1020.51 47.825 Q1025.65 43.9361 1035.82 43.9361 L1046.27 43.9361 L1046.27 43.2069 Q1046.27 38.0623 1042.87 35.2672 Q1039.51 32.4315 1033.39 32.4315 Q1029.5 32.4315 1025.81 33.3632 Q1022.13 34.295 1018.73 36.1584 L1018.73 29.2718 Q1022.82 27.692 1026.67 26.9223 Q1030.51 26.1121 1034.16 26.1121 Q1044 26.1121 1048.86 31.2163 Q1053.73 36.3204 1053.73 46.6907 Z\" fill=\"#000000\" fill-rule=\"nonzero\" fill-opacity=\"1\" /><path clip-path=\"url(#clip310)\" d=\"M1076.45 14.324 L1076.45 27.2059 L1091.8 27.2059 L1091.8 32.9987 L1076.45 32.9987 L1076.45 57.6282 Q1076.45 63.1779 1077.95 64.7578 Q1079.49 66.3376 1084.15 66.3376 L1091.8 66.3376 L1091.8 72.576 L1084.15 72.576 Q1075.52 72.576 1072.24 69.3758 Q1068.96 66.1351 1068.96 57.6282 L1068.96 32.9987 L1063.49 32.9987 L1063.49 27.2059 L1068.96 27.2059 L1068.96 14.324 L1076.45 14.324 Z\" fill=\"#000000\" fill-rule=\"nonzero\" fill-opacity=\"1\" /><path clip-path=\"url(#clip310)\" d=\"M1101.61 27.2059 L1109.06 27.2059 L1109.06 72.576 L1101.61 72.576 L1101.61 27.2059 M1101.61 9.54393 L1109.06 9.54393 L1109.06 18.9825 L1101.61 18.9825 L1101.61 9.54393 Z\" fill=\"#000000\" fill-rule=\"nonzero\" fill-opacity=\"1\" /><path clip-path=\"url(#clip310)\" d=\"M1142.24 32.4315 Q1136.24 32.4315 1132.76 37.1306 Q1129.27 41.7891 1129.27 49.9314 Q1129.27 58.0738 1132.72 62.7728 Q1136.2 67.4314 1142.24 67.4314 Q1148.19 67.4314 1151.68 62.7323 Q1155.16 58.0333 1155.16 49.9314 Q1155.16 41.8701 1151.68 37.1711 Q1148.19 32.4315 1142.24 32.4315 M1142.24 26.1121 Q1151.96 26.1121 1157.51 32.4315 Q1163.06 38.7509 1163.06 49.9314 Q1163.06 61.0714 1157.51 67.4314 Q1151.96 73.7508 1142.24 73.7508 Q1132.48 73.7508 1126.93 67.4314 Q1121.42 61.0714 1121.42 49.9314 Q1121.42 38.7509 1126.93 32.4315 Q1132.48 26.1121 1142.24 26.1121 Z\" fill=\"#000000\" fill-rule=\"nonzero\" fill-opacity=\"1\" /><path clip-path=\"url(#clip310)\" d=\"M1213.13 45.1919 L1213.13 72.576 L1205.67 72.576 L1205.67 45.4349 Q1205.67 38.994 1203.16 35.7938 Q1200.65 32.5936 1195.63 32.5936 Q1189.59 32.5936 1186.11 36.4419 Q1182.63 40.2903 1182.63 46.9338 L1182.63 72.576 L1175.13 72.576 L1175.13 27.2059 L1182.63 27.2059 L1182.63 34.2544 Q1185.3 30.163 1188.9 28.1376 Q1192.55 26.1121 1197.29 26.1121 Q1205.11 26.1121 1209.12 30.9732 Q1213.13 35.7938 1213.13 45.1919 Z\" fill=\"#000000\" fill-rule=\"nonzero\" fill-opacity=\"1\" /><path clip-path=\"url(#clip310)\" d=\"M1271.95 32.4315 Q1265.95 32.4315 1262.47 37.1306 Q1258.98 41.7891 1258.98 49.9314 Q1258.98 58.0738 1262.43 62.7728 Q1265.91 67.4314 1271.95 67.4314 Q1277.9 67.4314 1281.39 62.7323 Q1284.87 58.0333 1284.87 49.9314 Q1284.87 41.8701 1281.39 37.1711 Q1277.9 32.4315 1271.95 32.4315 M1271.95 26.1121 Q1281.67 26.1121 1287.22 32.4315 Q1292.77 38.7509 1292.77 49.9314 Q1292.77 61.0714 1287.22 67.4314 Q1281.67 73.7508 1271.95 73.7508 Q1262.19 73.7508 1256.64 67.4314 Q1251.13 61.0714 1251.13 49.9314 Q1251.13 38.7509 1256.64 32.4315 Q1262.19 26.1121 1271.95 26.1121 Z\" fill=\"#000000\" fill-rule=\"nonzero\" fill-opacity=\"1\" /><path clip-path=\"url(#clip310)\" d=\"M1328.09 9.54393 L1328.09 15.7418 L1320.96 15.7418 Q1316.95 15.7418 1315.37 17.3622 Q1313.83 18.9825 1313.83 23.1955 L1313.83 27.2059 L1326.11 27.2059 L1326.11 32.9987 L1313.83 32.9987 L1313.83 72.576 L1306.34 72.576 L1306.34 32.9987 L1299.21 32.9987 L1299.21 27.2059 L1306.34 27.2059 L1306.34 24.0462 Q1306.34 16.471 1309.86 13.0277 Q1313.39 9.54393 1321.04 9.54393 L1328.09 9.54393 Z\" fill=\"#000000\" fill-rule=\"nonzero\" fill-opacity=\"1\" /><path clip-path=\"url(#clip310)\" d=\"M1399.51 48.0275 L1399.51 51.6733 L1365.24 51.6733 Q1365.73 59.3701 1369.86 63.421 Q1374.03 67.4314 1381.44 67.4314 Q1385.74 67.4314 1389.75 66.3781 Q1393.8 65.3249 1397.77 63.2184 L1397.77 70.267 Q1393.76 71.9684 1389.55 72.8596 Q1385.33 73.7508 1381 73.7508 Q1370.14 73.7508 1363.78 67.4314 Q1357.46 61.1119 1357.46 50.3365 Q1357.46 39.1965 1363.46 32.6746 Q1369.49 26.1121 1379.7 26.1121 Q1388.86 26.1121 1394.16 32.0264 Q1399.51 37.9003 1399.51 48.0275 M1392.06 45.84 Q1391.98 39.7232 1388.61 36.0774 Q1385.29 32.4315 1379.78 32.4315 Q1373.54 32.4315 1369.78 35.9558 Q1366.05 39.4801 1365.48 45.8805 L1392.06 45.84 Z\" fill=\"#000000\" fill-rule=\"nonzero\" fill-opacity=\"1\" /><path clip-path=\"url(#clip310)\" d=\"M1411.74 27.2059 L1419.2 27.2059 L1419.2 72.576 L1411.74 72.576 L1411.74 27.2059 M1411.74 9.54393 L1419.2 9.54393 L1419.2 18.9825 L1411.74 18.9825 L1411.74 9.54393 Z\" fill=\"#000000\" fill-rule=\"nonzero\" fill-opacity=\"1\" /><path clip-path=\"url(#clip310)\" d=\"M1464.65 49.3643 Q1464.65 41.2625 1461.29 36.8065 Q1457.97 32.3505 1451.93 32.3505 Q1445.93 32.3505 1442.57 36.8065 Q1439.25 41.2625 1439.25 49.3643 Q1439.25 57.4256 1442.57 61.8816 Q1445.93 66.3376 1451.93 66.3376 Q1457.97 66.3376 1461.29 61.8816 Q1464.65 57.4256 1464.65 49.3643 M1472.1 66.9452 Q1472.1 78.5308 1466.96 84.1616 Q1461.81 89.8329 1451.2 89.8329 Q1447.27 89.8329 1443.79 89.2252 Q1440.3 88.6581 1437.02 87.4428 L1437.02 80.1917 Q1440.3 81.9741 1443.5 82.8248 Q1446.7 83.6755 1450.03 83.6755 Q1457.36 83.6755 1461 79.8271 Q1464.65 76.0193 1464.65 68.282 L1464.65 64.5957 Q1462.34 68.6061 1458.73 70.5911 Q1455.13 72.576 1450.11 72.576 Q1441.76 72.576 1436.66 66.2161 Q1431.55 59.8562 1431.55 49.3643 Q1431.55 38.832 1436.66 32.472 Q1441.76 26.1121 1450.11 26.1121 Q1455.13 26.1121 1458.73 28.0971 Q1462.34 30.082 1464.65 34.0924 L1464.65 27.2059 L1472.1 27.2059 L1472.1 66.9452 Z\" fill=\"#000000\" fill-rule=\"nonzero\" fill-opacity=\"1\" /><path clip-path=\"url(#clip310)\" d=\"M1526.26 48.0275 L1526.26 51.6733 L1491.99 51.6733 Q1492.48 59.3701 1496.61 63.421 Q1500.78 67.4314 1508.2 67.4314 Q1512.49 67.4314 1516.5 66.3781 Q1520.55 65.3249 1524.52 63.2184 L1524.52 70.267 Q1520.51 71.9684 1516.3 72.8596 Q1512.09 73.7508 1507.75 73.7508 Q1496.89 73.7508 1490.53 67.4314 Q1484.22 61.1119 1484.22 50.3365 Q1484.22 39.1965 1490.21 32.6746 Q1496.25 26.1121 1506.45 26.1121 Q1515.61 26.1121 1520.92 32.0264 Q1526.26 37.9003 1526.26 48.0275 M1518.81 45.84 Q1518.73 39.7232 1515.37 36.0774 Q1512.04 32.4315 1506.54 32.4315 Q1500.3 32.4315 1496.53 35.9558 Q1492.8 39.4801 1492.24 45.8805 L1518.81 45.84 Z\" fill=\"#000000\" fill-rule=\"nonzero\" fill-opacity=\"1\" /><path clip-path=\"url(#clip310)\" d=\"M1576.21 45.1919 L1576.21 72.576 L1568.76 72.576 L1568.76 45.4349 Q1568.76 38.994 1566.25 35.7938 Q1563.73 32.5936 1558.71 32.5936 Q1552.68 32.5936 1549.19 36.4419 Q1545.71 40.2903 1545.71 46.9338 L1545.71 72.576 L1538.21 72.576 L1538.21 27.2059 L1545.71 27.2059 L1545.71 34.2544 Q1548.38 30.163 1551.99 28.1376 Q1555.63 26.1121 1560.37 26.1121 Q1568.19 26.1121 1572.2 30.9732 Q1576.21 35.7938 1576.21 45.1919 Z\" fill=\"#000000\" fill-rule=\"nonzero\" fill-opacity=\"1\" /><path clip-path=\"url(#clip310)\" d=\"M1585.73 27.2059 L1593.63 27.2059 L1607.81 65.2844 L1621.99 27.2059 L1629.89 27.2059 L1612.87 72.576 L1602.74 72.576 L1585.73 27.2059 Z\" fill=\"#000000\" fill-rule=\"nonzero\" fill-opacity=\"1\" /><path clip-path=\"url(#clip310)\" d=\"M1660.79 49.7694 Q1651.76 49.7694 1648.28 51.8354 Q1644.79 53.9013 1644.79 58.8839 Q1644.79 62.8538 1647.39 65.2034 Q1650.02 67.5124 1654.52 67.5124 Q1660.71 67.5124 1664.44 63.1374 Q1668.21 58.7219 1668.21 51.4303 L1668.21 49.7694 L1660.79 49.7694 M1675.66 46.6907 L1675.66 72.576 L1668.21 72.576 L1668.21 65.6895 Q1665.66 69.8214 1661.85 71.8063 Q1658.04 73.7508 1652.53 73.7508 Q1645.56 73.7508 1641.43 69.8619 Q1637.34 65.9325 1637.34 59.3701 Q1637.34 51.7138 1642.44 47.825 Q1647.59 43.9361 1657.76 43.9361 L1668.21 43.9361 L1668.21 43.2069 Q1668.21 38.0623 1664.8 35.2672 Q1661.44 32.4315 1655.33 32.4315 Q1651.44 32.4315 1647.75 33.3632 Q1644.06 34.295 1640.66 36.1584 L1640.66 29.2718 Q1644.75 27.692 1648.6 26.9223 Q1652.45 26.1121 1656.09 26.1121 Q1665.94 26.1121 1670.8 31.2163 Q1675.66 36.3204 1675.66 46.6907 Z\" fill=\"#000000\" fill-rule=\"nonzero\" fill-opacity=\"1\" /><path clip-path=\"url(#clip310)\" d=\"M1691.01 9.54393 L1698.47 9.54393 L1698.47 72.576 L1691.01 72.576 L1691.01 9.54393 Z\" fill=\"#000000\" fill-rule=\"nonzero\" fill-opacity=\"1\" /><path clip-path=\"url(#clip310)\" d=\"M1713.29 54.671 L1713.29 27.2059 L1720.75 27.2059 L1720.75 54.3874 Q1720.75 60.8284 1723.26 64.0691 Q1725.77 67.2693 1730.79 67.2693 Q1736.83 67.2693 1740.31 63.421 Q1743.84 59.5726 1743.84 52.9291 L1743.84 27.2059 L1751.29 27.2059 L1751.29 72.576 L1743.84 72.576 L1743.84 65.6084 Q1741.12 69.7404 1737.52 71.7658 Q1733.95 73.7508 1729.21 73.7508 Q1721.4 73.7508 1717.34 68.8897 Q1713.29 64.0286 1713.29 54.671 M1732.05 26.1121 L1732.05 26.1121 Z\" fill=\"#000000\" fill-rule=\"nonzero\" fill-opacity=\"1\" /><path clip-path=\"url(#clip310)\" d=\"M1805.45 48.0275 L1805.45 51.6733 L1771.18 51.6733 Q1771.67 59.3701 1775.8 63.421 Q1779.97 67.4314 1787.38 67.4314 Q1791.68 67.4314 1795.69 66.3781 Q1799.74 65.3249 1803.71 63.2184 L1803.71 70.267 Q1799.7 71.9684 1795.49 72.8596 Q1791.27 73.7508 1786.94 73.7508 Q1776.08 73.7508 1769.72 67.4314 Q1763.4 61.1119 1763.4 50.3365 Q1763.4 39.1965 1769.4 32.6746 Q1775.43 26.1121 1785.64 26.1121 Q1794.8 26.1121 1800.1 32.0264 Q1805.45 37.9003 1805.45 48.0275 M1798 45.84 Q1797.92 39.7232 1794.55 36.0774 Q1791.23 32.4315 1785.72 32.4315 Q1779.49 32.4315 1775.72 35.9558 Q1771.99 39.4801 1771.42 45.8805 L1798 45.84 Z\" fill=\"#000000\" fill-rule=\"nonzero\" fill-opacity=\"1\" /><path clip-path=\"url(#clip310)\" d=\"M1846.61 28.5427 L1846.61 35.5912 Q1843.45 33.9709 1840.05 33.1607 Q1836.64 32.3505 1833 32.3505 Q1827.45 32.3505 1824.65 34.0519 Q1821.9 35.7533 1821.9 39.156 Q1821.9 41.7486 1823.88 43.2475 Q1825.87 44.7058 1831.86 46.0426 L1834.42 46.6097 Q1842.36 48.3111 1845.68 51.4303 Q1849.04 54.509 1849.04 60.0587 Q1849.04 66.3781 1844.02 70.0644 Q1839.03 73.7508 1830.28 73.7508 Q1826.64 73.7508 1822.67 73.0216 Q1818.74 72.3329 1814.36 70.9151 L1814.36 63.2184 Q1818.5 65.3654 1822.51 66.4591 Q1826.52 67.5124 1830.45 67.5124 Q1835.71 67.5124 1838.55 65.73 Q1841.38 63.9071 1841.38 60.6258 Q1841.38 57.5877 1839.32 55.9673 Q1837.29 54.3469 1830.36 52.8481 L1827.77 52.2405 Q1820.85 50.7821 1817.77 47.7845 Q1814.69 44.7463 1814.69 39.4801 Q1814.69 33.0797 1819.22 29.5959 Q1823.76 26.1121 1832.11 26.1121 Q1836.24 26.1121 1839.88 26.7198 Q1843.53 27.3274 1846.61 28.5427 Z\" fill=\"#000000\" fill-rule=\"nonzero\" fill-opacity=\"1\" /><circle clip-path=\"url(#clip312)\" cx=\"1067.9\" cy=\"1311.43\" r=\"7.2\" fill=\"#0000ff\" fill-rule=\"evenodd\" fill-opacity=\"1\" stroke=\"none\"/>\n",
       "<circle clip-path=\"url(#clip312)\" cx=\"1067.9\" cy=\"235.218\" r=\"7.2\" fill=\"#0000ff\" fill-rule=\"evenodd\" fill-opacity=\"1\" stroke=\"none\"/>\n",
       "<circle clip-path=\"url(#clip312)\" cx=\"1069.11\" cy=\"1310.23\" r=\"7.2\" fill=\"#0000ff\" fill-rule=\"evenodd\" fill-opacity=\"1\" stroke=\"none\"/>\n",
       "<circle clip-path=\"url(#clip312)\" cx=\"1069.11\" cy=\"236.426\" r=\"7.2\" fill=\"#0000ff\" fill-rule=\"evenodd\" fill-opacity=\"1\" stroke=\"none\"/>\n",
       "<circle clip-path=\"url(#clip312)\" cx=\"1071.13\" cy=\"1308.22\" r=\"7.2\" fill=\"#0000ff\" fill-rule=\"evenodd\" fill-opacity=\"1\" stroke=\"none\"/>\n",
       "<circle clip-path=\"url(#clip312)\" cx=\"1071.13\" cy=\"238.434\" r=\"7.2\" fill=\"#0000ff\" fill-rule=\"evenodd\" fill-opacity=\"1\" stroke=\"none\"/>\n",
       "<circle clip-path=\"url(#clip312)\" cx=\"1073.96\" cy=\"1305.41\" r=\"7.2\" fill=\"#0000ff\" fill-rule=\"evenodd\" fill-opacity=\"1\" stroke=\"none\"/>\n",
       "<circle clip-path=\"url(#clip312)\" cx=\"1073.96\" cy=\"241.237\" r=\"7.2\" fill=\"#0000ff\" fill-rule=\"evenodd\" fill-opacity=\"1\" stroke=\"none\"/>\n",
       "<circle clip-path=\"url(#clip312)\" cx=\"1077.59\" cy=\"1301.82\" r=\"7.2\" fill=\"#0000ff\" fill-rule=\"evenodd\" fill-opacity=\"1\" stroke=\"none\"/>\n",
       "<circle clip-path=\"url(#clip312)\" cx=\"1077.59\" cy=\"244.827\" r=\"7.2\" fill=\"#0000ff\" fill-rule=\"evenodd\" fill-opacity=\"1\" stroke=\"none\"/>\n",
       "<circle clip-path=\"url(#clip312)\" cx=\"1082.02\" cy=\"1297.46\" r=\"7.2\" fill=\"#0000ff\" fill-rule=\"evenodd\" fill-opacity=\"1\" stroke=\"none\"/>\n",
       "<circle clip-path=\"url(#clip312)\" cx=\"1082.02\" cy=\"249.192\" r=\"7.2\" fill=\"#0000ff\" fill-rule=\"evenodd\" fill-opacity=\"1\" stroke=\"none\"/>\n",
       "<circle clip-path=\"url(#clip312)\" cx=\"1087.24\" cy=\"1292.33\" r=\"7.2\" fill=\"#0000ff\" fill-rule=\"evenodd\" fill-opacity=\"1\" stroke=\"none\"/>\n",
       "<circle clip-path=\"url(#clip312)\" cx=\"1087.24\" cy=\"254.318\" r=\"7.2\" fill=\"#0000ff\" fill-rule=\"evenodd\" fill-opacity=\"1\" stroke=\"none\"/>\n",
       "<circle clip-path=\"url(#clip312)\" cx=\"1093.25\" cy=\"1286.46\" r=\"7.2\" fill=\"#0000ff\" fill-rule=\"evenodd\" fill-opacity=\"1\" stroke=\"none\"/>\n",
       "<circle clip-path=\"url(#clip312)\" cx=\"1093.25\" cy=\"260.19\" r=\"7.2\" fill=\"#0000ff\" fill-rule=\"evenodd\" fill-opacity=\"1\" stroke=\"none\"/>\n",
       "<circle clip-path=\"url(#clip312)\" cx=\"1100.04\" cy=\"1279.86\" r=\"7.2\" fill=\"#0000ff\" fill-rule=\"evenodd\" fill-opacity=\"1\" stroke=\"none\"/>\n",
       "<circle clip-path=\"url(#clip312)\" cx=\"1100.04\" cy=\"266.788\" r=\"7.2\" fill=\"#0000ff\" fill-rule=\"evenodd\" fill-opacity=\"1\" stroke=\"none\"/>\n",
       "<circle clip-path=\"url(#clip312)\" cx=\"1107.61\" cy=\"1272.56\" r=\"7.2\" fill=\"#0000ff\" fill-rule=\"evenodd\" fill-opacity=\"1\" stroke=\"none\"/>\n",
       "<circle clip-path=\"url(#clip312)\" cx=\"1107.61\" cy=\"274.09\" r=\"7.2\" fill=\"#0000ff\" fill-rule=\"evenodd\" fill-opacity=\"1\" stroke=\"none\"/>\n",
       "<circle clip-path=\"url(#clip312)\" cx=\"1115.94\" cy=\"1264.58\" r=\"7.2\" fill=\"#0000ff\" fill-rule=\"evenodd\" fill-opacity=\"1\" stroke=\"none\"/>\n",
       "<circle clip-path=\"url(#clip312)\" cx=\"1115.94\" cy=\"282.071\" r=\"7.2\" fill=\"#0000ff\" fill-rule=\"evenodd\" fill-opacity=\"1\" stroke=\"none\"/>\n",
       "<circle clip-path=\"url(#clip312)\" cx=\"1125.02\" cy=\"1255.95\" r=\"7.2\" fill=\"#0000ff\" fill-rule=\"evenodd\" fill-opacity=\"1\" stroke=\"none\"/>\n",
       "<circle clip-path=\"url(#clip312)\" cx=\"1125.02\" cy=\"290.701\" r=\"7.2\" fill=\"#0000ff\" fill-rule=\"evenodd\" fill-opacity=\"1\" stroke=\"none\"/>\n",
       "<circle clip-path=\"url(#clip312)\" cx=\"1134.86\" cy=\"1246.7\" r=\"7.2\" fill=\"#0000ff\" fill-rule=\"evenodd\" fill-opacity=\"1\" stroke=\"none\"/>\n",
       "<circle clip-path=\"url(#clip312)\" cx=\"1134.86\" cy=\"299.949\" r=\"7.2\" fill=\"#0000ff\" fill-rule=\"evenodd\" fill-opacity=\"1\" stroke=\"none\"/>\n",
       "<circle clip-path=\"url(#clip312)\" cx=\"1145.43\" cy=\"1236.87\" r=\"7.2\" fill=\"#0000ff\" fill-rule=\"evenodd\" fill-opacity=\"1\" stroke=\"none\"/>\n",
       "<circle clip-path=\"url(#clip312)\" cx=\"1145.43\" cy=\"309.778\" r=\"7.2\" fill=\"#0000ff\" fill-rule=\"evenodd\" fill-opacity=\"1\" stroke=\"none\"/>\n",
       "<circle clip-path=\"url(#clip312)\" cx=\"1156.73\" cy=\"1226.51\" r=\"7.2\" fill=\"#0000ff\" fill-rule=\"evenodd\" fill-opacity=\"1\" stroke=\"none\"/>\n",
       "<circle clip-path=\"url(#clip312)\" cx=\"1156.73\" cy=\"320.147\" r=\"7.2\" fill=\"#0000ff\" fill-rule=\"evenodd\" fill-opacity=\"1\" stroke=\"none\"/>\n",
       "<circle clip-path=\"url(#clip312)\" cx=\"1168.75\" cy=\"1215.64\" r=\"7.2\" fill=\"#0000ff\" fill-rule=\"evenodd\" fill-opacity=\"1\" stroke=\"none\"/>\n",
       "<circle clip-path=\"url(#clip312)\" cx=\"1168.75\" cy=\"331.008\" r=\"7.2\" fill=\"#0000ff\" fill-rule=\"evenodd\" fill-opacity=\"1\" stroke=\"none\"/>\n",
       "<circle clip-path=\"url(#clip312)\" cx=\"1181.48\" cy=\"1204.34\" r=\"7.2\" fill=\"#0000ff\" fill-rule=\"evenodd\" fill-opacity=\"1\" stroke=\"none\"/>\n",
       "<circle clip-path=\"url(#clip312)\" cx=\"1181.48\" cy=\"342.31\" r=\"7.2\" fill=\"#0000ff\" fill-rule=\"evenodd\" fill-opacity=\"1\" stroke=\"none\"/>\n",
       "<circle clip-path=\"url(#clip312)\" cx=\"1194.9\" cy=\"1192.66\" r=\"7.2\" fill=\"#0000ff\" fill-rule=\"evenodd\" fill-opacity=\"1\" stroke=\"none\"/>\n",
       "<circle clip-path=\"url(#clip312)\" cx=\"1194.9\" cy=\"353.992\" r=\"7.2\" fill=\"#0000ff\" fill-rule=\"evenodd\" fill-opacity=\"1\" stroke=\"none\"/>\n",
       "<circle clip-path=\"url(#clip312)\" cx=\"1209\" cy=\"1180.66\" r=\"7.2\" fill=\"#0000ff\" fill-rule=\"evenodd\" fill-opacity=\"1\" stroke=\"none\"/>\n",
       "<circle clip-path=\"url(#clip312)\" cx=\"1209\" cy=\"365.987\" r=\"7.2\" fill=\"#0000ff\" fill-rule=\"evenodd\" fill-opacity=\"1\" stroke=\"none\"/>\n",
       "<circle clip-path=\"url(#clip312)\" cx=\"1223.77\" cy=\"1168.43\" r=\"7.2\" fill=\"#0000ff\" fill-rule=\"evenodd\" fill-opacity=\"1\" stroke=\"none\"/>\n",
       "<circle clip-path=\"url(#clip312)\" cx=\"1223.77\" cy=\"378.217\" r=\"7.2\" fill=\"#0000ff\" fill-rule=\"evenodd\" fill-opacity=\"1\" stroke=\"none\"/>\n",
       "<circle clip-path=\"url(#clip312)\" cx=\"1239.18\" cy=\"1156.06\" r=\"7.2\" fill=\"#0000ff\" fill-rule=\"evenodd\" fill-opacity=\"1\" stroke=\"none\"/>\n",
       "<circle clip-path=\"url(#clip312)\" cx=\"1239.18\" cy=\"390.593\" r=\"7.2\" fill=\"#0000ff\" fill-rule=\"evenodd\" fill-opacity=\"1\" stroke=\"none\"/>\n",
       "<circle clip-path=\"url(#clip312)\" cx=\"1255.2\" cy=\"1143.64\" r=\"7.2\" fill=\"#0000ff\" fill-rule=\"evenodd\" fill-opacity=\"1\" stroke=\"none\"/>\n",
       "<circle clip-path=\"url(#clip312)\" cx=\"1255.2\" cy=\"403.011\" r=\"7.2\" fill=\"#0000ff\" fill-rule=\"evenodd\" fill-opacity=\"1\" stroke=\"none\"/>\n",
       "<circle clip-path=\"url(#clip312)\" cx=\"1271.82\" cy=\"1131.3\" r=\"7.2\" fill=\"#0000ff\" fill-rule=\"evenodd\" fill-opacity=\"1\" stroke=\"none\"/>\n",
       "<circle clip-path=\"url(#clip312)\" cx=\"1271.82\" cy=\"415.351\" r=\"7.2\" fill=\"#0000ff\" fill-rule=\"evenodd\" fill-opacity=\"1\" stroke=\"none\"/>\n",
       "<circle clip-path=\"url(#clip312)\" cx=\"1288.97\" cy=\"1119.18\" r=\"7.2\" fill=\"#0000ff\" fill-rule=\"evenodd\" fill-opacity=\"1\" stroke=\"none\"/>\n",
       "<circle clip-path=\"url(#clip312)\" cx=\"1288.97\" cy=\"427.474\" r=\"7.2\" fill=\"#0000ff\" fill-rule=\"evenodd\" fill-opacity=\"1\" stroke=\"none\"/>\n",
       "<circle clip-path=\"url(#clip312)\" cx=\"1306.59\" cy=\"1107.43\" r=\"7.2\" fill=\"#0000ff\" fill-rule=\"evenodd\" fill-opacity=\"1\" stroke=\"none\"/>\n",
       "<circle clip-path=\"url(#clip312)\" cx=\"1306.59\" cy=\"439.219\" r=\"7.2\" fill=\"#0000ff\" fill-rule=\"evenodd\" fill-opacity=\"1\" stroke=\"none\"/>\n",
       "<circle clip-path=\"url(#clip312)\" cx=\"1324.58\" cy=\"1096.25\" r=\"7.2\" fill=\"#0000ff\" fill-rule=\"evenodd\" fill-opacity=\"1\" stroke=\"none\"/>\n",
       "<circle clip-path=\"url(#clip312)\" cx=\"1324.58\" cy=\"450.401\" r=\"7.2\" fill=\"#0000ff\" fill-rule=\"evenodd\" fill-opacity=\"1\" stroke=\"none\"/>\n",
       "<circle clip-path=\"url(#clip312)\" cx=\"1342.79\" cy=\"1085.84\" r=\"7.2\" fill=\"#0000ff\" fill-rule=\"evenodd\" fill-opacity=\"1\" stroke=\"none\"/>\n",
       "<circle clip-path=\"url(#clip312)\" cx=\"1342.79\" cy=\"460.811\" r=\"7.2\" fill=\"#0000ff\" fill-rule=\"evenodd\" fill-opacity=\"1\" stroke=\"none\"/>\n",
       "<circle clip-path=\"url(#clip312)\" cx=\"1361.01\" cy=\"1076.43\" r=\"7.2\" fill=\"#0000ff\" fill-rule=\"evenodd\" fill-opacity=\"1\" stroke=\"none\"/>\n",
       "<circle clip-path=\"url(#clip312)\" cx=\"1361.01\" cy=\"470.225\" r=\"7.2\" fill=\"#0000ff\" fill-rule=\"evenodd\" fill-opacity=\"1\" stroke=\"none\"/>\n",
       "<circle clip-path=\"url(#clip312)\" cx=\"1378.94\" cy=\"1068.23\" r=\"7.2\" fill=\"#0000ff\" fill-rule=\"evenodd\" fill-opacity=\"1\" stroke=\"none\"/>\n",
       "<circle clip-path=\"url(#clip312)\" cx=\"1378.94\" cy=\"478.42\" r=\"7.2\" fill=\"#0000ff\" fill-rule=\"evenodd\" fill-opacity=\"1\" stroke=\"none\"/>\n",
       "<circle clip-path=\"url(#clip312)\" cx=\"1396.15\" cy=\"1061.44\" r=\"7.2\" fill=\"#0000ff\" fill-rule=\"evenodd\" fill-opacity=\"1\" stroke=\"none\"/>\n",
       "<circle clip-path=\"url(#clip312)\" cx=\"1396.15\" cy=\"485.209\" r=\"7.2\" fill=\"#0000ff\" fill-rule=\"evenodd\" fill-opacity=\"1\" stroke=\"none\"/>\n",
       "<circle clip-path=\"url(#clip312)\" cx=\"1412.1\" cy=\"1056.15\" r=\"7.2\" fill=\"#0000ff\" fill-rule=\"evenodd\" fill-opacity=\"1\" stroke=\"none\"/>\n",
       "<circle clip-path=\"url(#clip312)\" cx=\"1412.1\" cy=\"490.503\" r=\"7.2\" fill=\"#0000ff\" fill-rule=\"evenodd\" fill-opacity=\"1\" stroke=\"none\"/>\n",
       "<circle clip-path=\"url(#clip312)\" cx=\"1426.09\" cy=\"1052.25\" r=\"7.2\" fill=\"#0000ff\" fill-rule=\"evenodd\" fill-opacity=\"1\" stroke=\"none\"/>\n",
       "<circle clip-path=\"url(#clip312)\" cx=\"1426.09\" cy=\"494.406\" r=\"7.2\" fill=\"#0000ff\" fill-rule=\"evenodd\" fill-opacity=\"1\" stroke=\"none\"/>\n",
       "<circle clip-path=\"url(#clip312)\" cx=\"1433\" cy=\"784.64\" r=\"7.2\" fill=\"#0000ff\" fill-rule=\"evenodd\" fill-opacity=\"1\" stroke=\"none\"/>\n",
       "<circle clip-path=\"url(#clip312)\" cx=\"1433\" cy=\"762.012\" r=\"7.2\" fill=\"#0000ff\" fill-rule=\"evenodd\" fill-opacity=\"1\" stroke=\"none\"/>\n",
       "<circle clip-path=\"url(#clip312)\" cx=\"1433.19\" cy=\"807.223\" r=\"7.2\" fill=\"#0000ff\" fill-rule=\"evenodd\" fill-opacity=\"1\" stroke=\"none\"/>\n",
       "<circle clip-path=\"url(#clip312)\" cx=\"1433.19\" cy=\"739.429\" r=\"7.2\" fill=\"#0000ff\" fill-rule=\"evenodd\" fill-opacity=\"1\" stroke=\"none\"/>\n",
       "<circle clip-path=\"url(#clip312)\" cx=\"1433.57\" cy=\"829.67\" r=\"7.2\" fill=\"#0000ff\" fill-rule=\"evenodd\" fill-opacity=\"1\" stroke=\"none\"/>\n",
       "<circle clip-path=\"url(#clip312)\" cx=\"1433.57\" cy=\"716.982\" r=\"7.2\" fill=\"#0000ff\" fill-rule=\"evenodd\" fill-opacity=\"1\" stroke=\"none\"/>\n",
       "<circle clip-path=\"url(#clip312)\" cx=\"1434.15\" cy=\"851.886\" r=\"7.2\" fill=\"#0000ff\" fill-rule=\"evenodd\" fill-opacity=\"1\" stroke=\"none\"/>\n",
       "<circle clip-path=\"url(#clip312)\" cx=\"1434.15\" cy=\"694.766\" r=\"7.2\" fill=\"#0000ff\" fill-rule=\"evenodd\" fill-opacity=\"1\" stroke=\"none\"/>\n",
       "<circle clip-path=\"url(#clip312)\" cx=\"1434.94\" cy=\"873.769\" r=\"7.2\" fill=\"#0000ff\" fill-rule=\"evenodd\" fill-opacity=\"1\" stroke=\"none\"/>\n",
       "<circle clip-path=\"url(#clip312)\" cx=\"1434.94\" cy=\"672.883\" r=\"7.2\" fill=\"#0000ff\" fill-rule=\"evenodd\" fill-opacity=\"1\" stroke=\"none\"/>\n",
       "<circle clip-path=\"url(#clip312)\" cx=\"1435.95\" cy=\"895.205\" r=\"7.2\" fill=\"#0000ff\" fill-rule=\"evenodd\" fill-opacity=\"1\" stroke=\"none\"/>\n",
       "<circle clip-path=\"url(#clip312)\" cx=\"1435.95\" cy=\"651.447\" r=\"7.2\" fill=\"#0000ff\" fill-rule=\"evenodd\" fill-opacity=\"1\" stroke=\"none\"/>\n",
       "<circle clip-path=\"url(#clip312)\" cx=\"1437.21\" cy=\"916.068\" r=\"7.2\" fill=\"#0000ff\" fill-rule=\"evenodd\" fill-opacity=\"1\" stroke=\"none\"/>\n",
       "<circle clip-path=\"url(#clip312)\" cx=\"1437.21\" cy=\"630.584\" r=\"7.2\" fill=\"#0000ff\" fill-rule=\"evenodd\" fill-opacity=\"1\" stroke=\"none\"/>\n",
       "<circle clip-path=\"url(#clip312)\" cx=\"1437.44\" cy=\"1049.35\" r=\"7.2\" fill=\"#0000ff\" fill-rule=\"evenodd\" fill-opacity=\"1\" stroke=\"none\"/>\n",
       "<circle clip-path=\"url(#clip312)\" cx=\"1437.44\" cy=\"497.302\" r=\"7.2\" fill=\"#0000ff\" fill-rule=\"evenodd\" fill-opacity=\"1\" stroke=\"none\"/>\n",
       "<circle clip-path=\"url(#clip312)\" cx=\"1438.73\" cy=\"936.209\" r=\"7.2\" fill=\"#0000ff\" fill-rule=\"evenodd\" fill-opacity=\"1\" stroke=\"none\"/>\n",
       "<circle clip-path=\"url(#clip312)\" cx=\"1438.73\" cy=\"610.443\" r=\"7.2\" fill=\"#0000ff\" fill-rule=\"evenodd\" fill-opacity=\"1\" stroke=\"none\"/>\n",
       "<circle clip-path=\"url(#clip312)\" cx=\"1440.51\" cy=\"955.454\" r=\"7.2\" fill=\"#0000ff\" fill-rule=\"evenodd\" fill-opacity=\"1\" stroke=\"none\"/>\n",
       "<circle clip-path=\"url(#clip312)\" cx=\"1440.51\" cy=\"591.198\" r=\"7.2\" fill=\"#0000ff\" fill-rule=\"evenodd\" fill-opacity=\"1\" stroke=\"none\"/>\n",
       "<circle clip-path=\"url(#clip312)\" cx=\"1442.53\" cy=\"973.593\" r=\"7.2\" fill=\"#0000ff\" fill-rule=\"evenodd\" fill-opacity=\"1\" stroke=\"none\"/>\n",
       "<circle clip-path=\"url(#clip312)\" cx=\"1442.53\" cy=\"573.059\" r=\"7.2\" fill=\"#0000ff\" fill-rule=\"evenodd\" fill-opacity=\"1\" stroke=\"none\"/>\n",
       "<circle clip-path=\"url(#clip312)\" cx=\"1444.75\" cy=\"990.377\" r=\"7.2\" fill=\"#0000ff\" fill-rule=\"evenodd\" fill-opacity=\"1\" stroke=\"none\"/>\n",
       "<circle clip-path=\"url(#clip312)\" cx=\"1444.75\" cy=\"556.275\" r=\"7.2\" fill=\"#0000ff\" fill-rule=\"evenodd\" fill-opacity=\"1\" stroke=\"none\"/>\n",
       "<circle clip-path=\"url(#clip312)\" cx=\"1445.52\" cy=\"1046.74\" r=\"7.2\" fill=\"#0000ff\" fill-rule=\"evenodd\" fill-opacity=\"1\" stroke=\"none\"/>\n",
       "<circle clip-path=\"url(#clip312)\" cx=\"1445.52\" cy=\"499.917\" r=\"7.2\" fill=\"#0000ff\" fill-rule=\"evenodd\" fill-opacity=\"1\" stroke=\"none\"/>\n",
       "<circle clip-path=\"url(#clip312)\" cx=\"1447.05\" cy=\"1005.51\" r=\"7.2\" fill=\"#0000ff\" fill-rule=\"evenodd\" fill-opacity=\"1\" stroke=\"none\"/>\n",
       "<circle clip-path=\"url(#clip312)\" cx=\"1447.05\" cy=\"541.14\" r=\"7.2\" fill=\"#0000ff\" fill-rule=\"evenodd\" fill-opacity=\"1\" stroke=\"none\"/>\n",
       "<circle clip-path=\"url(#clip312)\" cx=\"1449.21\" cy=\"1018.67\" r=\"7.2\" fill=\"#0000ff\" fill-rule=\"evenodd\" fill-opacity=\"1\" stroke=\"none\"/>\n",
       "<circle clip-path=\"url(#clip312)\" cx=\"1449.21\" cy=\"527.981\" r=\"7.2\" fill=\"#0000ff\" fill-rule=\"evenodd\" fill-opacity=\"1\" stroke=\"none\"/>\n",
       "<circle clip-path=\"url(#clip312)\" cx=\"1450.04\" cy=\"1043.32\" r=\"7.2\" fill=\"#0000ff\" fill-rule=\"evenodd\" fill-opacity=\"1\" stroke=\"none\"/>\n",
       "<circle clip-path=\"url(#clip312)\" cx=\"1450.04\" cy=\"503.333\" r=\"7.2\" fill=\"#0000ff\" fill-rule=\"evenodd\" fill-opacity=\"1\" stroke=\"none\"/>\n",
       "<circle clip-path=\"url(#clip312)\" cx=\"1450.86\" cy=\"1029.52\" r=\"7.2\" fill=\"#0000ff\" fill-rule=\"evenodd\" fill-opacity=\"1\" stroke=\"none\"/>\n",
       "<circle clip-path=\"url(#clip312)\" cx=\"1450.86\" cy=\"517.135\" r=\"7.2\" fill=\"#0000ff\" fill-rule=\"evenodd\" fill-opacity=\"1\" stroke=\"none\"/>\n",
       "<circle clip-path=\"url(#clip312)\" cx=\"1451.43\" cy=\"1037.77\" r=\"7.2\" fill=\"#0000ff\" fill-rule=\"evenodd\" fill-opacity=\"1\" stroke=\"none\"/>\n",
       "<circle clip-path=\"url(#clip312)\" cx=\"1451.43\" cy=\"508.882\" r=\"7.2\" fill=\"#0000ff\" fill-rule=\"evenodd\" fill-opacity=\"1\" stroke=\"none\"/>\n",
       "<circle clip-path=\"url(#clip312)\" cx=\"1005.18\" cy=\"1287.74\" r=\"7.2\" fill=\"#ff0000\" fill-rule=\"evenodd\" fill-opacity=\"1\" stroke=\"none\"/>\n",
       "<circle clip-path=\"url(#clip312)\" cx=\"1005.18\" cy=\"258.915\" r=\"7.2\" fill=\"#ff0000\" fill-rule=\"evenodd\" fill-opacity=\"1\" stroke=\"none\"/>\n",
       "<circle clip-path=\"url(#clip312)\" cx=\"1009.01\" cy=\"1257.75\" r=\"7.2\" fill=\"#ff0000\" fill-rule=\"evenodd\" fill-opacity=\"1\" stroke=\"none\"/>\n",
       "<circle clip-path=\"url(#clip312)\" cx=\"1009.01\" cy=\"288.899\" r=\"7.2\" fill=\"#ff0000\" fill-rule=\"evenodd\" fill-opacity=\"1\" stroke=\"none\"/>\n",
       "<circle clip-path=\"url(#clip312)\" cx=\"1009.46\" cy=\"1316.69\" r=\"7.2\" fill=\"#ff0000\" fill-rule=\"evenodd\" fill-opacity=\"1\" stroke=\"none\"/>\n",
       "<circle clip-path=\"url(#clip312)\" cx=\"1009.46\" cy=\"229.962\" r=\"7.2\" fill=\"#ff0000\" fill-rule=\"evenodd\" fill-opacity=\"1\" stroke=\"none\"/>\n",
       "<circle clip-path=\"url(#clip312)\" cx=\"1019.73\" cy=\"1228.87\" r=\"7.2\" fill=\"#ff0000\" fill-rule=\"evenodd\" fill-opacity=\"1\" stroke=\"none\"/>\n",
       "<circle clip-path=\"url(#clip312)\" cx=\"1019.73\" cy=\"317.784\" r=\"7.2\" fill=\"#ff0000\" fill-rule=\"evenodd\" fill-opacity=\"1\" stroke=\"none\"/>\n",
       "<circle clip-path=\"url(#clip312)\" cx=\"1022.22\" cy=\"1342.47\" r=\"7.2\" fill=\"#ff0000\" fill-rule=\"evenodd\" fill-opacity=\"1\" stroke=\"none\"/>\n",
       "<circle clip-path=\"url(#clip312)\" cx=\"1022.22\" cy=\"204.185\" r=\"7.2\" fill=\"#ff0000\" fill-rule=\"evenodd\" fill-opacity=\"1\" stroke=\"none\"/>\n",
       "<circle clip-path=\"url(#clip312)\" cx=\"1034.74\" cy=\"1201.22\" r=\"7.2\" fill=\"#ff0000\" fill-rule=\"evenodd\" fill-opacity=\"1\" stroke=\"none\"/>\n",
       "<circle clip-path=\"url(#clip312)\" cx=\"1034.74\" cy=\"345.431\" r=\"7.2\" fill=\"#ff0000\" fill-rule=\"evenodd\" fill-opacity=\"1\" stroke=\"none\"/>\n",
       "<circle clip-path=\"url(#clip312)\" cx=\"1042.8\" cy=\"1362.45\" r=\"7.2\" fill=\"#ff0000\" fill-rule=\"evenodd\" fill-opacity=\"1\" stroke=\"none\"/>\n",
       "<circle clip-path=\"url(#clip312)\" cx=\"1042.8\" cy=\"184.207\" r=\"7.2\" fill=\"#ff0000\" fill-rule=\"evenodd\" fill-opacity=\"1\" stroke=\"none\"/>\n",
       "<circle clip-path=\"url(#clip312)\" cx=\"1054.73\" cy=\"1173.1\" r=\"7.2\" fill=\"#ff0000\" fill-rule=\"evenodd\" fill-opacity=\"1\" stroke=\"none\"/>\n",
       "<circle clip-path=\"url(#clip312)\" cx=\"1054.73\" cy=\"373.548\" r=\"7.2\" fill=\"#ff0000\" fill-rule=\"evenodd\" fill-opacity=\"1\" stroke=\"none\"/>\n",
       "<circle clip-path=\"url(#clip312)\" cx=\"1068.18\" cy=\"1375.27\" r=\"7.2\" fill=\"#ff0000\" fill-rule=\"evenodd\" fill-opacity=\"1\" stroke=\"none\"/>\n",
       "<circle clip-path=\"url(#clip312)\" cx=\"1068.18\" cy=\"171.378\" r=\"7.2\" fill=\"#ff0000\" fill-rule=\"evenodd\" fill-opacity=\"1\" stroke=\"none\"/>\n",
       "<circle clip-path=\"url(#clip312)\" cx=\"1082\" cy=\"1146.67\" r=\"7.2\" fill=\"#ff0000\" fill-rule=\"evenodd\" fill-opacity=\"1\" stroke=\"none\"/>\n",
       "<circle clip-path=\"url(#clip312)\" cx=\"1082\" cy=\"399.977\" r=\"7.2\" fill=\"#ff0000\" fill-rule=\"evenodd\" fill-opacity=\"1\" stroke=\"none\"/>\n",
       "<circle clip-path=\"url(#clip312)\" cx=\"1097.41\" cy=\"1383.71\" r=\"7.2\" fill=\"#ff0000\" fill-rule=\"evenodd\" fill-opacity=\"1\" stroke=\"none\"/>\n",
       "<circle clip-path=\"url(#clip312)\" cx=\"1097.41\" cy=\"162.94\" r=\"7.2\" fill=\"#ff0000\" fill-rule=\"evenodd\" fill-opacity=\"1\" stroke=\"none\"/>\n",
       "<circle clip-path=\"url(#clip312)\" cx=\"1120.66\" cy=\"1124.02\" r=\"7.2\" fill=\"#ff0000\" fill-rule=\"evenodd\" fill-opacity=\"1\" stroke=\"none\"/>\n",
       "<circle clip-path=\"url(#clip312)\" cx=\"1120.66\" cy=\"422.63\" r=\"7.2\" fill=\"#ff0000\" fill-rule=\"evenodd\" fill-opacity=\"1\" stroke=\"none\"/>\n",
       "<circle clip-path=\"url(#clip312)\" cx=\"1128.57\" cy=\"1133.45\" r=\"7.2\" fill=\"#ff0000\" fill-rule=\"evenodd\" fill-opacity=\"1\" stroke=\"none\"/>\n",
       "<circle clip-path=\"url(#clip312)\" cx=\"1128.57\" cy=\"413.203\" r=\"7.2\" fill=\"#ff0000\" fill-rule=\"evenodd\" fill-opacity=\"1\" stroke=\"none\"/>\n",
       "<circle clip-path=\"url(#clip312)\" cx=\"1133.44\" cy=\"1386.4\" r=\"7.2\" fill=\"#ff0000\" fill-rule=\"evenodd\" fill-opacity=\"1\" stroke=\"none\"/>\n",
       "<circle clip-path=\"url(#clip312)\" cx=\"1133.44\" cy=\"160.256\" r=\"7.2\" fill=\"#ff0000\" fill-rule=\"evenodd\" fill-opacity=\"1\" stroke=\"none\"/>\n",
       "<circle clip-path=\"url(#clip312)\" cx=\"1154.96\" cy=\"1093.16\" r=\"7.2\" fill=\"#ff0000\" fill-rule=\"evenodd\" fill-opacity=\"1\" stroke=\"none\"/>\n",
       "<circle clip-path=\"url(#clip312)\" cx=\"1154.96\" cy=\"453.489\" r=\"7.2\" fill=\"#ff0000\" fill-rule=\"evenodd\" fill-opacity=\"1\" stroke=\"none\"/>\n",
       "<circle clip-path=\"url(#clip312)\" cx=\"1174.44\" cy=\"1380.18\" r=\"7.2\" fill=\"#ff0000\" fill-rule=\"evenodd\" fill-opacity=\"1\" stroke=\"none\"/>\n",
       "<circle clip-path=\"url(#clip312)\" cx=\"1174.44\" cy=\"166.469\" r=\"7.2\" fill=\"#ff0000\" fill-rule=\"evenodd\" fill-opacity=\"1\" stroke=\"none\"/>\n",
       "<circle clip-path=\"url(#clip312)\" cx=\"1189.41\" cy=\"1072.22\" r=\"7.2\" fill=\"#ff0000\" fill-rule=\"evenodd\" fill-opacity=\"1\" stroke=\"none\"/>\n",
       "<circle clip-path=\"url(#clip312)\" cx=\"1189.41\" cy=\"474.435\" r=\"7.2\" fill=\"#ff0000\" fill-rule=\"evenodd\" fill-opacity=\"1\" stroke=\"none\"/>\n",
       "<circle clip-path=\"url(#clip312)\" cx=\"1218.27\" cy=\"1365.02\" r=\"7.2\" fill=\"#ff0000\" fill-rule=\"evenodd\" fill-opacity=\"1\" stroke=\"none\"/>\n",
       "<circle clip-path=\"url(#clip312)\" cx=\"1218.27\" cy=\"181.635\" r=\"7.2\" fill=\"#ff0000\" fill-rule=\"evenodd\" fill-opacity=\"1\" stroke=\"none\"/>\n",
       "<circle clip-path=\"url(#clip312)\" cx=\"1225.41\" cy=\"1056.56\" r=\"7.2\" fill=\"#ff0000\" fill-rule=\"evenodd\" fill-opacity=\"1\" stroke=\"none\"/>\n",
       "<circle clip-path=\"url(#clip312)\" cx=\"1225.41\" cy=\"490.097\" r=\"7.2\" fill=\"#ff0000\" fill-rule=\"evenodd\" fill-opacity=\"1\" stroke=\"none\"/>\n",
       "<circle clip-path=\"url(#clip312)\" cx=\"1261.36\" cy=\"1045.35\" r=\"7.2\" fill=\"#ff0000\" fill-rule=\"evenodd\" fill-opacity=\"1\" stroke=\"none\"/>\n",
       "<circle clip-path=\"url(#clip312)\" cx=\"1261.36\" cy=\"501.298\" r=\"7.2\" fill=\"#ff0000\" fill-rule=\"evenodd\" fill-opacity=\"1\" stroke=\"none\"/>\n",
       "<circle clip-path=\"url(#clip312)\" cx=\"1263.8\" cy=\"1340.86\" r=\"7.2\" fill=\"#ff0000\" fill-rule=\"evenodd\" fill-opacity=\"1\" stroke=\"none\"/>\n",
       "<circle clip-path=\"url(#clip312)\" cx=\"1263.8\" cy=\"205.793\" r=\"7.2\" fill=\"#ff0000\" fill-rule=\"evenodd\" fill-opacity=\"1\" stroke=\"none\"/>\n",
       "<circle clip-path=\"url(#clip312)\" cx=\"1296.34\" cy=\"1038.04\" r=\"7.2\" fill=\"#ff0000\" fill-rule=\"evenodd\" fill-opacity=\"1\" stroke=\"none\"/>\n",
       "<circle clip-path=\"url(#clip312)\" cx=\"1296.34\" cy=\"508.609\" r=\"7.2\" fill=\"#ff0000\" fill-rule=\"evenodd\" fill-opacity=\"1\" stroke=\"none\"/>\n",
       "<circle clip-path=\"url(#clip312)\" cx=\"1309.72\" cy=\"1307.62\" r=\"7.2\" fill=\"#ff0000\" fill-rule=\"evenodd\" fill-opacity=\"1\" stroke=\"none\"/>\n",
       "<circle clip-path=\"url(#clip312)\" cx=\"1309.72\" cy=\"239.027\" r=\"7.2\" fill=\"#ff0000\" fill-rule=\"evenodd\" fill-opacity=\"1\" stroke=\"none\"/>\n",
       "<circle clip-path=\"url(#clip312)\" cx=\"1329.26\" cy=\"1034.34\" r=\"7.2\" fill=\"#ff0000\" fill-rule=\"evenodd\" fill-opacity=\"1\" stroke=\"none\"/>\n",
       "<circle clip-path=\"url(#clip312)\" cx=\"1329.26\" cy=\"512.307\" r=\"7.2\" fill=\"#ff0000\" fill-rule=\"evenodd\" fill-opacity=\"1\" stroke=\"none\"/>\n",
       "<circle clip-path=\"url(#clip312)\" cx=\"1354.45\" cy=\"1265.71\" r=\"7.2\" fill=\"#ff0000\" fill-rule=\"evenodd\" fill-opacity=\"1\" stroke=\"none\"/>\n",
       "<circle clip-path=\"url(#clip312)\" cx=\"1354.45\" cy=\"280.937\" r=\"7.2\" fill=\"#ff0000\" fill-rule=\"evenodd\" fill-opacity=\"1\" stroke=\"none\"/>\n",
       "<circle clip-path=\"url(#clip312)\" cx=\"1359.11\" cy=\"1033.56\" r=\"7.2\" fill=\"#ff0000\" fill-rule=\"evenodd\" fill-opacity=\"1\" stroke=\"none\"/>\n",
       "<circle clip-path=\"url(#clip312)\" cx=\"1359.11\" cy=\"513.091\" r=\"7.2\" fill=\"#ff0000\" fill-rule=\"evenodd\" fill-opacity=\"1\" stroke=\"none\"/>\n",
       "<circle clip-path=\"url(#clip312)\" cx=\"1383.36\" cy=\"773.326\" r=\"7.2\" fill=\"#ff0000\" fill-rule=\"evenodd\" fill-opacity=\"1\" stroke=\"none\"/>\n",
       "<circle clip-path=\"url(#clip312)\" cx=\"1384.25\" cy=\"807.556\" r=\"7.2\" fill=\"#ff0000\" fill-rule=\"evenodd\" fill-opacity=\"1\" stroke=\"none\"/>\n",
       "<circle clip-path=\"url(#clip312)\" cx=\"1384.25\" cy=\"739.096\" r=\"7.2\" fill=\"#ff0000\" fill-rule=\"evenodd\" fill-opacity=\"1\" stroke=\"none\"/>\n",
       "<circle clip-path=\"url(#clip312)\" cx=\"1385.09\" cy=\"1034.89\" r=\"7.2\" fill=\"#ff0000\" fill-rule=\"evenodd\" fill-opacity=\"1\" stroke=\"none\"/>\n",
       "<circle clip-path=\"url(#clip312)\" cx=\"1385.09\" cy=\"511.764\" r=\"7.2\" fill=\"#ff0000\" fill-rule=\"evenodd\" fill-opacity=\"1\" stroke=\"none\"/>\n",
       "<circle clip-path=\"url(#clip312)\" cx=\"1386.73\" cy=\"841.336\" r=\"7.2\" fill=\"#ff0000\" fill-rule=\"evenodd\" fill-opacity=\"1\" stroke=\"none\"/>\n",
       "<circle clip-path=\"url(#clip312)\" cx=\"1386.73\" cy=\"705.315\" r=\"7.2\" fill=\"#ff0000\" fill-rule=\"evenodd\" fill-opacity=\"1\" stroke=\"none\"/>\n",
       "<circle clip-path=\"url(#clip312)\" cx=\"1391\" cy=\"874.537\" r=\"7.2\" fill=\"#ff0000\" fill-rule=\"evenodd\" fill-opacity=\"1\" stroke=\"none\"/>\n",
       "<circle clip-path=\"url(#clip312)\" cx=\"1391\" cy=\"672.115\" r=\"7.2\" fill=\"#ff0000\" fill-rule=\"evenodd\" fill-opacity=\"1\" stroke=\"none\"/>\n",
       "<circle clip-path=\"url(#clip312)\" cx=\"1396.7\" cy=\"1216.02\" r=\"7.2\" fill=\"#ff0000\" fill-rule=\"evenodd\" fill-opacity=\"1\" stroke=\"none\"/>\n",
       "<circle clip-path=\"url(#clip312)\" cx=\"1396.7\" cy=\"330.631\" r=\"7.2\" fill=\"#ff0000\" fill-rule=\"evenodd\" fill-opacity=\"1\" stroke=\"none\"/>\n",
       "<circle clip-path=\"url(#clip312)\" cx=\"1397.44\" cy=\"906.262\" r=\"7.2\" fill=\"#ff0000\" fill-rule=\"evenodd\" fill-opacity=\"1\" stroke=\"none\"/>\n",
       "<circle clip-path=\"url(#clip312)\" cx=\"1397.44\" cy=\"640.39\" r=\"7.2\" fill=\"#ff0000\" fill-rule=\"evenodd\" fill-opacity=\"1\" stroke=\"none\"/>\n",
       "<circle clip-path=\"url(#clip312)\" cx=\"1405.75\" cy=\"935.402\" r=\"7.2\" fill=\"#ff0000\" fill-rule=\"evenodd\" fill-opacity=\"1\" stroke=\"none\"/>\n",
       "<circle clip-path=\"url(#clip312)\" cx=\"1405.75\" cy=\"611.25\" r=\"7.2\" fill=\"#ff0000\" fill-rule=\"evenodd\" fill-opacity=\"1\" stroke=\"none\"/>\n",
       "<circle clip-path=\"url(#clip312)\" cx=\"1406.68\" cy=\"1037.31\" r=\"7.2\" fill=\"#ff0000\" fill-rule=\"evenodd\" fill-opacity=\"1\" stroke=\"none\"/>\n",
       "<circle clip-path=\"url(#clip312)\" cx=\"1406.68\" cy=\"509.346\" r=\"7.2\" fill=\"#ff0000\" fill-rule=\"evenodd\" fill-opacity=\"1\" stroke=\"none\"/>\n",
       "<circle clip-path=\"url(#clip312)\" cx=\"1415.1\" cy=\"960.939\" r=\"7.2\" fill=\"#ff0000\" fill-rule=\"evenodd\" fill-opacity=\"1\" stroke=\"none\"/>\n",
       "<circle clip-path=\"url(#clip312)\" cx=\"1415.1\" cy=\"585.713\" r=\"7.2\" fill=\"#ff0000\" fill-rule=\"evenodd\" fill-opacity=\"1\" stroke=\"none\"/>\n",
       "<circle clip-path=\"url(#clip312)\" cx=\"1423.82\" cy=\"1039.8\" r=\"7.2\" fill=\"#ff0000\" fill-rule=\"evenodd\" fill-opacity=\"1\" stroke=\"none\"/>\n",
       "<circle clip-path=\"url(#clip312)\" cx=\"1423.82\" cy=\"506.853\" r=\"7.2\" fill=\"#ff0000\" fill-rule=\"evenodd\" fill-opacity=\"1\" stroke=\"none\"/>\n",
       "<circle clip-path=\"url(#clip312)\" cx=\"1424.02\" cy=\"982.516\" r=\"7.2\" fill=\"#ff0000\" fill-rule=\"evenodd\" fill-opacity=\"1\" stroke=\"none\"/>\n",
       "<circle clip-path=\"url(#clip312)\" cx=\"1424.02\" cy=\"564.136\" r=\"7.2\" fill=\"#ff0000\" fill-rule=\"evenodd\" fill-opacity=\"1\" stroke=\"none\"/>\n",
       "<circle clip-path=\"url(#clip312)\" cx=\"1431.66\" cy=\"1000.93\" r=\"7.2\" fill=\"#ff0000\" fill-rule=\"evenodd\" fill-opacity=\"1\" stroke=\"none\"/>\n",
       "<circle clip-path=\"url(#clip312)\" cx=\"1431.66\" cy=\"545.719\" r=\"7.2\" fill=\"#ff0000\" fill-rule=\"evenodd\" fill-opacity=\"1\" stroke=\"none\"/>\n",
       "<circle clip-path=\"url(#clip312)\" cx=\"1435.41\" cy=\"1159.72\" r=\"7.2\" fill=\"#ff0000\" fill-rule=\"evenodd\" fill-opacity=\"1\" stroke=\"none\"/>\n",
       "<circle clip-path=\"url(#clip312)\" cx=\"1435.41\" cy=\"386.936\" r=\"7.2\" fill=\"#ff0000\" fill-rule=\"evenodd\" fill-opacity=\"1\" stroke=\"none\"/>\n",
       "<circle clip-path=\"url(#clip312)\" cx=\"1436.59\" cy=\"1041.86\" r=\"7.2\" fill=\"#ff0000\" fill-rule=\"evenodd\" fill-opacity=\"1\" stroke=\"none\"/>\n",
       "<circle clip-path=\"url(#clip312)\" cx=\"1436.59\" cy=\"504.795\" r=\"7.2\" fill=\"#ff0000\" fill-rule=\"evenodd\" fill-opacity=\"1\" stroke=\"none\"/>\n",
       "<circle clip-path=\"url(#clip312)\" cx=\"1438.2\" cy=\"1016.5\" r=\"7.2\" fill=\"#ff0000\" fill-rule=\"evenodd\" fill-opacity=\"1\" stroke=\"none\"/>\n",
       "<circle clip-path=\"url(#clip312)\" cx=\"1438.2\" cy=\"530.152\" r=\"7.2\" fill=\"#ff0000\" fill-rule=\"evenodd\" fill-opacity=\"1\" stroke=\"none\"/>\n",
       "<circle clip-path=\"url(#clip312)\" cx=\"1443.53\" cy=\"1028.82\" r=\"7.2\" fill=\"#ff0000\" fill-rule=\"evenodd\" fill-opacity=\"1\" stroke=\"none\"/>\n",
       "<circle clip-path=\"url(#clip312)\" cx=\"1443.53\" cy=\"517.835\" r=\"7.2\" fill=\"#ff0000\" fill-rule=\"evenodd\" fill-opacity=\"1\" stroke=\"none\"/>\n",
       "<circle clip-path=\"url(#clip312)\" cx=\"1444.77\" cy=\"1042.84\" r=\"7.2\" fill=\"#ff0000\" fill-rule=\"evenodd\" fill-opacity=\"1\" stroke=\"none\"/>\n",
       "<circle clip-path=\"url(#clip312)\" cx=\"1444.77\" cy=\"503.809\" r=\"7.2\" fill=\"#ff0000\" fill-rule=\"evenodd\" fill-opacity=\"1\" stroke=\"none\"/>\n",
       "<circle clip-path=\"url(#clip312)\" cx=\"1447.15\" cy=\"1037.43\" r=\"7.2\" fill=\"#ff0000\" fill-rule=\"evenodd\" fill-opacity=\"1\" stroke=\"none\"/>\n",
       "<circle clip-path=\"url(#clip312)\" cx=\"1447.15\" cy=\"509.219\" r=\"7.2\" fill=\"#ff0000\" fill-rule=\"evenodd\" fill-opacity=\"1\" stroke=\"none\"/>\n",
       "<circle clip-path=\"url(#clip312)\" cx=\"1448.16\" cy=\"1041.95\" r=\"7.2\" fill=\"#ff0000\" fill-rule=\"evenodd\" fill-opacity=\"1\" stroke=\"none\"/>\n",
       "<circle clip-path=\"url(#clip312)\" cx=\"1448.16\" cy=\"504.701\" r=\"7.2\" fill=\"#ff0000\" fill-rule=\"evenodd\" fill-opacity=\"1\" stroke=\"none\"/>\n",
       "<circle clip-path=\"url(#clip312)\" cx=\"1470.62\" cy=\"1097.47\" r=\"7.2\" fill=\"#ff0000\" fill-rule=\"evenodd\" fill-opacity=\"1\" stroke=\"none\"/>\n",
       "<circle clip-path=\"url(#clip312)\" cx=\"1470.62\" cy=\"449.181\" r=\"7.2\" fill=\"#ff0000\" fill-rule=\"evenodd\" fill-opacity=\"1\" stroke=\"none\"/>\n",
       "<circle clip-path=\"url(#clip312)\" cx=\"1501.89\" cy=\"1027.64\" r=\"7.2\" fill=\"#ff0000\" fill-rule=\"evenodd\" fill-opacity=\"1\" stroke=\"none\"/>\n",
       "<circle clip-path=\"url(#clip312)\" cx=\"1501.89\" cy=\"519.013\" r=\"7.2\" fill=\"#ff0000\" fill-rule=\"evenodd\" fill-opacity=\"1\" stroke=\"none\"/>\n",
       "<circle clip-path=\"url(#clip312)\" cx=\"1529.33\" cy=\"949.947\" r=\"7.2\" fill=\"#ff0000\" fill-rule=\"evenodd\" fill-opacity=\"1\" stroke=\"none\"/>\n",
       "<circle clip-path=\"url(#clip312)\" cx=\"1529.33\" cy=\"596.705\" r=\"7.2\" fill=\"#ff0000\" fill-rule=\"evenodd\" fill-opacity=\"1\" stroke=\"none\"/>\n",
       "<circle clip-path=\"url(#clip312)\" cx=\"1549.86\" cy=\"865.341\" r=\"7.2\" fill=\"#ff0000\" fill-rule=\"evenodd\" fill-opacity=\"1\" stroke=\"none\"/>\n",
       "<circle clip-path=\"url(#clip312)\" cx=\"1549.86\" cy=\"681.311\" r=\"7.2\" fill=\"#ff0000\" fill-rule=\"evenodd\" fill-opacity=\"1\" stroke=\"none\"/>\n",
       "<circle clip-path=\"url(#clip312)\" cx=\"1558.32\" cy=\"773.326\" r=\"7.2\" fill=\"#ff0000\" fill-rule=\"evenodd\" fill-opacity=\"1\" stroke=\"none\"/>\n",
       "<polyline clip-path=\"url(#clip312)\" style=\"stroke:#000000; stroke-linecap:round; stroke-linejoin:round; stroke-width:4; stroke-opacity:1; fill:none\" stroke-dasharray=\"16, 10\" points=\"-1931.26,773.326 4494.77,773.326 \"/>\n",
       "<polyline clip-path=\"url(#clip312)\" style=\"stroke:#000000; stroke-linecap:round; stroke-linejoin:round; stroke-width:4; stroke-opacity:1; fill:none\" stroke-dasharray=\"16, 10\" points=\"1050.67,2722.89 1050.67,-1176.24 \"/>\n",
       "<path clip-path=\"url(#clip310)\" d=\"M1843.59 322.316 L2281.36 322.316 L2281.36 166.796 L1843.59 166.796  Z\" fill=\"#ffffff\" fill-rule=\"evenodd\" fill-opacity=\"1\"/>\n",
       "<polyline clip-path=\"url(#clip310)\" style=\"stroke:#000000; stroke-linecap:round; stroke-linejoin:round; stroke-width:4; stroke-opacity:1; fill:none\" points=\"1843.59,322.316 2281.36,322.316 2281.36,166.796 1843.59,166.796 1843.59,322.316 \"/>\n",
       "<circle clip-path=\"url(#clip310)\" cx=\"1938.79\" cy=\"218.636\" r=\"23.04\" fill=\"#0000ff\" fill-rule=\"evenodd\" fill-opacity=\"1\" stroke=\"none\"/>\n",
       "<path clip-path=\"url(#clip310)\" d=\"M2056.24 202.49 L2056.24 207.05 Q2053.58 205.777 2051.21 205.152 Q2048.85 204.527 2046.65 204.527 Q2042.83 204.527 2040.75 206.008 Q2038.69 207.49 2038.69 210.221 Q2038.69 212.513 2040.06 213.694 Q2041.45 214.851 2045.29 215.569 L2048.11 216.147 Q2053.34 217.143 2055.82 219.666 Q2058.32 222.166 2058.32 226.379 Q2058.32 231.402 2054.94 233.994 Q2051.58 236.587 2045.08 236.587 Q2042.63 236.587 2039.85 236.031 Q2037.09 235.476 2034.13 234.388 L2034.13 229.573 Q2036.98 231.17 2039.71 231.981 Q2042.44 232.791 2045.08 232.791 Q2049.08 232.791 2051.26 231.217 Q2053.44 229.643 2053.44 226.726 Q2053.44 224.18 2051.86 222.744 Q2050.31 221.309 2046.75 220.592 L2043.9 220.036 Q2038.67 218.995 2036.33 216.772 Q2033.99 214.55 2033.99 210.592 Q2033.99 206.008 2037.21 203.37 Q2040.45 200.731 2046.12 200.731 Q2048.55 200.731 2051.08 201.171 Q2053.6 201.61 2056.24 202.49 Z\" fill=\"#000000\" fill-rule=\"nonzero\" fill-opacity=\"1\" /><path clip-path=\"url(#clip310)\" d=\"M2069.55 232.027 L2069.55 245.777 L2065.26 245.777 L2065.26 209.99 L2069.55 209.99 L2069.55 213.925 Q2070.89 211.61 2072.93 210.499 Q2074.99 209.365 2077.83 209.365 Q2082.56 209.365 2085.5 213.115 Q2088.46 216.865 2088.46 222.976 Q2088.46 229.087 2085.5 232.837 Q2082.56 236.587 2077.83 236.587 Q2074.99 236.587 2072.93 235.476 Q2070.89 234.342 2069.55 232.027 M2084.04 222.976 Q2084.04 218.277 2082.09 215.615 Q2080.17 212.93 2076.79 212.93 Q2073.41 212.93 2071.47 215.615 Q2069.55 218.277 2069.55 222.976 Q2069.55 227.675 2071.47 230.36 Q2073.41 233.022 2076.79 233.022 Q2080.17 233.022 2082.09 230.36 Q2084.04 227.675 2084.04 222.976 Z\" fill=\"#000000\" fill-rule=\"nonzero\" fill-opacity=\"1\" /><path clip-path=\"url(#clip310)\" d=\"M2105.75 199.944 Q2102.65 205.268 2101.14 210.476 Q2099.64 215.684 2099.64 221.032 Q2099.64 226.379 2101.14 231.633 Q2102.67 236.865 2105.75 242.166 L2102.05 242.166 Q2098.57 236.726 2096.84 231.471 Q2095.13 226.217 2095.13 221.032 Q2095.13 215.87 2096.84 210.638 Q2098.55 205.407 2102.05 199.944 L2105.75 199.944 Z\" fill=\"#000000\" fill-rule=\"nonzero\" fill-opacity=\"1\" /><path clip-path=\"url(#clip310)\" d=\"M2125.75 205.962 L2119.41 223.161 L2132.12 223.161 L2125.75 205.962 M2123.11 201.356 L2128.41 201.356 L2141.58 235.916 L2136.72 235.916 L2133.57 227.05 L2118 227.05 L2114.85 235.916 L2109.92 235.916 L2123.11 201.356 Z\" fill=\"#000000\" fill-rule=\"nonzero\" fill-opacity=\"1\" /><path clip-path=\"url(#clip310)\" d=\"M2145.77 199.944 L2149.48 199.944 Q2152.95 205.407 2154.66 210.638 Q2156.4 215.87 2156.4 221.032 Q2156.4 226.217 2154.66 231.471 Q2152.95 236.726 2149.48 242.166 L2145.77 242.166 Q2148.85 236.865 2150.36 231.633 Q2151.88 226.379 2151.88 221.032 Q2151.88 215.684 2150.36 210.476 Q2148.85 205.268 2145.77 199.944 Z\" fill=\"#000000\" fill-rule=\"nonzero\" fill-opacity=\"1\" /><circle clip-path=\"url(#clip310)\" cx=\"1938.79\" cy=\"270.476\" r=\"23.04\" fill=\"#ff0000\" fill-rule=\"evenodd\" fill-opacity=\"1\" stroke=\"none\"/>\n",
       "<path clip-path=\"url(#clip310)\" d=\"M2056.24 254.33 L2056.24 258.89 Q2053.58 257.617 2051.21 256.992 Q2048.85 256.367 2046.65 256.367 Q2042.83 256.367 2040.75 257.848 Q2038.69 259.33 2038.69 262.061 Q2038.69 264.353 2040.06 265.534 Q2041.45 266.691 2045.29 267.409 L2048.11 267.987 Q2053.34 268.983 2055.82 271.506 Q2058.32 274.006 2058.32 278.219 Q2058.32 283.242 2054.94 285.834 Q2051.58 288.427 2045.08 288.427 Q2042.63 288.427 2039.85 287.871 Q2037.09 287.316 2034.13 286.228 L2034.13 281.413 Q2036.98 283.01 2039.71 283.821 Q2042.44 284.631 2045.08 284.631 Q2049.08 284.631 2051.26 283.057 Q2053.44 281.483 2053.44 278.566 Q2053.44 276.02 2051.86 274.584 Q2050.31 273.149 2046.75 272.432 L2043.9 271.876 Q2038.67 270.835 2036.33 268.612 Q2033.99 266.39 2033.99 262.432 Q2033.99 257.848 2037.21 255.21 Q2040.45 252.571 2046.12 252.571 Q2048.55 252.571 2051.08 253.011 Q2053.6 253.45 2056.24 254.33 Z\" fill=\"#000000\" fill-rule=\"nonzero\" fill-opacity=\"1\" /><path clip-path=\"url(#clip310)\" d=\"M2069.55 283.867 L2069.55 297.617 L2065.26 297.617 L2065.26 261.83 L2069.55 261.83 L2069.55 265.765 Q2070.89 263.45 2072.93 262.339 Q2074.99 261.205 2077.83 261.205 Q2082.56 261.205 2085.5 264.955 Q2088.46 268.705 2088.46 274.816 Q2088.46 280.927 2085.5 284.677 Q2082.56 288.427 2077.83 288.427 Q2074.99 288.427 2072.93 287.316 Q2070.89 286.182 2069.55 283.867 M2084.04 274.816 Q2084.04 270.117 2082.09 267.455 Q2080.17 264.77 2076.79 264.77 Q2073.41 264.77 2071.47 267.455 Q2069.55 270.117 2069.55 274.816 Q2069.55 279.515 2071.47 282.2 Q2073.41 284.862 2076.79 284.862 Q2080.17 284.862 2082.09 282.2 Q2084.04 279.515 2084.04 274.816 Z\" fill=\"#000000\" fill-rule=\"nonzero\" fill-opacity=\"1\" /><path clip-path=\"url(#clip310)\" d=\"M2105.75 251.784 Q2102.65 257.108 2101.14 262.316 Q2099.64 267.524 2099.64 272.872 Q2099.64 278.219 2101.14 283.473 Q2102.67 288.705 2105.75 294.006 L2102.05 294.006 Q2098.57 288.566 2096.84 283.311 Q2095.13 278.057 2095.13 272.872 Q2095.13 267.71 2096.84 262.478 Q2098.55 257.247 2102.05 251.784 L2105.75 251.784 Z\" fill=\"#000000\" fill-rule=\"nonzero\" fill-opacity=\"1\" /><path clip-path=\"url(#clip310)\" d=\"M2125.75 257.802 L2119.41 275.001 L2132.12 275.001 L2125.75 257.802 M2123.11 253.196 L2128.41 253.196 L2141.58 287.756 L2136.72 287.756 L2133.57 278.89 L2118 278.89 L2114.85 287.756 L2109.92 287.756 L2123.11 253.196 Z\" fill=\"#000000\" fill-rule=\"nonzero\" fill-opacity=\"1\" /><path clip-path=\"url(#clip310)\" d=\"M2163.78 258.034 L2163.78 270.927 L2176.68 270.927 L2176.68 274.862 L2163.78 274.862 L2163.78 287.756 L2159.89 287.756 L2159.89 274.862 L2147 274.862 L2147 270.927 L2159.89 270.927 L2159.89 258.034 L2163.78 258.034 Z\" fill=\"#000000\" fill-rule=\"nonzero\" fill-opacity=\"1\" /><path clip-path=\"url(#clip310)\" d=\"M2204.94 257.733 Q2202.58 256.112 2197.05 256.112 Q2191.19 256.112 2191.19 258.821 Q2191.19 260.95 2197.3 262.061 Q2202.12 262.918 2204.82 265.51 Q2208.11 268.635 2208.11 275.047 Q2208.11 281.182 2204.94 284.793 Q2201.77 288.427 2196.21 288.427 Q2190.68 288.427 2187.49 284.793 Q2184.32 281.182 2184.32 274.816 Q2184.32 270.094 2187.49 266.274 Q2188.71 264.793 2190.45 263.96 Q2186.84 262.131 2186.84 258.867 Q2186.84 252.571 2197.05 252.571 Q2202.16 252.571 2204.94 254.191 L2204.94 257.733 M2193.64 265.117 Q2192.07 265.788 2190.8 267.478 Q2188.81 270.094 2188.81 274.816 Q2188.81 279.515 2190.77 282.154 Q2192.76 284.816 2196.21 284.816 Q2199.62 284.816 2201.61 282.131 Q2203.6 279.446 2203.6 275.047 Q2203.6 270.441 2201.49 268.219 Q2199.25 265.835 2196.33 265.58 Q2194.85 265.441 2193.64 265.117 Z\" fill=\"#000000\" fill-rule=\"nonzero\" fill-opacity=\"1\" /><path clip-path=\"url(#clip310)\" d=\"M2226.91 257.802 L2220.56 275.001 L2233.27 275.001 L2226.91 257.802 M2224.27 253.196 L2229.57 253.196 L2242.74 287.756 L2237.88 287.756 L2234.73 278.89 L2219.15 278.89 L2216 287.756 L2211.07 287.756 L2224.27 253.196 Z\" fill=\"#000000\" fill-rule=\"nonzero\" fill-opacity=\"1\" /><path clip-path=\"url(#clip310)\" d=\"M2246.93 251.784 L2250.63 251.784 Q2254.11 257.247 2255.82 262.478 Q2257.56 267.71 2257.56 272.872 Q2257.56 278.057 2255.82 283.311 Q2254.11 288.566 2250.63 294.006 L2246.93 294.006 Q2250.01 288.705 2251.51 283.473 Q2253.04 278.219 2253.04 272.872 Q2253.04 267.524 2251.51 262.316 Q2250.01 257.108 2246.93 251.784 Z\" fill=\"#000000\" fill-rule=\"nonzero\" fill-opacity=\"1\" /></svg>\n"
      ],
      "text/html": [
       "<?xml version=\"1.0\" encoding=\"utf-8\"?>\n",
       "<svg xmlns=\"http://www.w3.org/2000/svg\" xmlns:xlink=\"http://www.w3.org/1999/xlink\" width=\"600\" height=\"400\" viewBox=\"0 0 2400 1600\">\n",
       "<defs>\n",
       "  <clipPath id=\"clip360\">\n",
       "    <rect x=\"0\" y=\"0\" width=\"2400\" height=\"1600\"/>\n",
       "  </clipPath>\n",
       "</defs>\n",
       "<path clip-path=\"url(#clip360)\" d=\"M0 1600 L2400 1600 L2400 0 L0 0  Z\" fill=\"#ffffff\" fill-rule=\"evenodd\" fill-opacity=\"1\"/>\n",
       "<defs>\n",
       "  <clipPath id=\"clip361\">\n",
       "    <rect x=\"480\" y=\"0\" width=\"1681\" height=\"1600\"/>\n",
       "  </clipPath>\n",
       "</defs>\n",
       "<path clip-path=\"url(#clip360)\" d=\"M210.746 1423.18 L2352.76 1423.18 L2352.76 123.472 L210.746 123.472  Z\" fill=\"#ffffff\" fill-rule=\"evenodd\" fill-opacity=\"1\"/>\n",
       "<defs>\n",
       "  <clipPath id=\"clip362\">\n",
       "    <rect x=\"210\" y=\"123\" width=\"2143\" height=\"1301\"/>\n",
       "  </clipPath>\n",
       "</defs>\n",
       "<polyline clip-path=\"url(#clip362)\" style=\"stroke:#000000; stroke-linecap:round; stroke-linejoin:round; stroke-width:2; stroke-opacity:0.1; fill:none\" points=\"574.841,1423.18 574.841,123.472 \"/>\n",
       "<polyline clip-path=\"url(#clip362)\" style=\"stroke:#000000; stroke-linecap:round; stroke-linejoin:round; stroke-width:2; stroke-opacity:0.1; fill:none\" points=\"1050.67,1423.18 1050.67,123.472 \"/>\n",
       "<polyline clip-path=\"url(#clip362)\" style=\"stroke:#000000; stroke-linecap:round; stroke-linejoin:round; stroke-width:2; stroke-opacity:0.1; fill:none\" points=\"1526.5,1423.18 1526.5,123.472 \"/>\n",
       "<polyline clip-path=\"url(#clip362)\" style=\"stroke:#000000; stroke-linecap:round; stroke-linejoin:round; stroke-width:2; stroke-opacity:0.1; fill:none\" points=\"2002.33,1423.18 2002.33,123.472 \"/>\n",
       "<polyline clip-path=\"url(#clip360)\" style=\"stroke:#000000; stroke-linecap:round; stroke-linejoin:round; stroke-width:4; stroke-opacity:1; fill:none\" points=\"210.746,1423.18 2352.76,1423.18 \"/>\n",
       "<polyline clip-path=\"url(#clip360)\" style=\"stroke:#000000; stroke-linecap:round; stroke-linejoin:round; stroke-width:4; stroke-opacity:1; fill:none\" points=\"574.841,1423.18 574.841,1404.28 \"/>\n",
       "<polyline clip-path=\"url(#clip360)\" style=\"stroke:#000000; stroke-linecap:round; stroke-linejoin:round; stroke-width:4; stroke-opacity:1; fill:none\" points=\"1050.67,1423.18 1050.67,1404.28 \"/>\n",
       "<polyline clip-path=\"url(#clip360)\" style=\"stroke:#000000; stroke-linecap:round; stroke-linejoin:round; stroke-width:4; stroke-opacity:1; fill:none\" points=\"1526.5,1423.18 1526.5,1404.28 \"/>\n",
       "<polyline clip-path=\"url(#clip360)\" style=\"stroke:#000000; stroke-linecap:round; stroke-linejoin:round; stroke-width:4; stroke-opacity:1; fill:none\" points=\"2002.33,1423.18 2002.33,1404.28 \"/>\n",
       "<path clip-path=\"url(#clip360)\" d=\"M544.783 1468.75 L574.459 1468.75 L574.459 1472.69 L544.783 1472.69 L544.783 1468.75 Z\" fill=\"#000000\" fill-rule=\"nonzero\" fill-opacity=\"1\" /><path clip-path=\"url(#clip360)\" d=\"M588.579 1481.64 L604.899 1481.64 L604.899 1485.58 L582.954 1485.58 L582.954 1481.64 Q585.616 1478.89 590.2 1474.26 Q594.806 1469.61 595.987 1468.27 Q598.232 1465.74 599.112 1464.01 Q600.014 1462.25 600.014 1460.56 Q600.014 1457.8 598.07 1456.07 Q596.149 1454.33 593.047 1454.33 Q590.848 1454.33 588.394 1455.09 Q585.964 1455.86 583.186 1457.41 L583.186 1452.69 Q586.01 1451.55 588.464 1450.97 Q590.917 1450.39 592.954 1450.39 Q598.325 1450.39 601.519 1453.08 Q604.714 1455.77 604.714 1460.26 Q604.714 1462.39 603.903 1464.31 Q603.116 1466.2 601.01 1468.8 Q600.431 1469.47 597.329 1472.69 Q594.227 1475.88 588.579 1481.64 Z\" fill=\"#000000\" fill-rule=\"nonzero\" fill-opacity=\"1\" /><path clip-path=\"url(#clip360)\" d=\"M1050.67 1454.1 Q1047.06 1454.1 1045.23 1457.66 Q1043.43 1461.2 1043.43 1468.33 Q1043.43 1475.44 1045.23 1479.01 Q1047.06 1482.55 1050.67 1482.55 Q1054.3 1482.55 1056.11 1479.01 Q1057.94 1475.44 1057.94 1468.33 Q1057.94 1461.2 1056.11 1457.66 Q1054.3 1454.1 1050.67 1454.1 M1050.67 1450.39 Q1056.48 1450.39 1059.54 1455 Q1062.61 1459.58 1062.61 1468.33 Q1062.61 1477.06 1059.54 1481.67 Q1056.48 1486.25 1050.67 1486.25 Q1044.86 1486.25 1041.78 1481.67 Q1038.73 1477.06 1038.73 1468.33 Q1038.73 1459.58 1041.78 1455 Q1044.86 1450.39 1050.67 1450.39 Z\" fill=\"#000000\" fill-rule=\"nonzero\" fill-opacity=\"1\" /><path clip-path=\"url(#clip360)\" d=\"M1521.15 1481.64 L1537.47 1481.64 L1537.47 1485.58 L1515.53 1485.58 L1515.53 1481.64 Q1518.19 1478.89 1522.77 1474.26 Q1527.38 1469.61 1528.56 1468.27 Q1530.81 1465.74 1531.68 1464.01 Q1532.59 1462.25 1532.59 1460.56 Q1532.59 1457.8 1530.64 1456.07 Q1528.72 1454.33 1525.62 1454.33 Q1523.42 1454.33 1520.97 1455.09 Q1518.54 1455.86 1515.76 1457.41 L1515.76 1452.69 Q1518.58 1451.55 1521.04 1450.97 Q1523.49 1450.39 1525.53 1450.39 Q1530.9 1450.39 1534.09 1453.08 Q1537.29 1455.77 1537.29 1460.26 Q1537.29 1462.39 1536.48 1464.31 Q1535.69 1466.2 1533.58 1468.8 Q1533 1469.47 1529.9 1472.69 Q1526.8 1475.88 1521.15 1481.64 Z\" fill=\"#000000\" fill-rule=\"nonzero\" fill-opacity=\"1\" /><path clip-path=\"url(#clip360)\" d=\"M2005.34 1455.09 L1993.53 1473.54 L2005.34 1473.54 L2005.34 1455.09 M2004.11 1451.02 L2009.99 1451.02 L2009.99 1473.54 L2014.92 1473.54 L2014.92 1477.43 L2009.99 1477.43 L2009.99 1485.58 L2005.34 1485.58 L2005.34 1477.43 L1989.74 1477.43 L1989.74 1472.92 L2004.11 1451.02 Z\" fill=\"#000000\" fill-rule=\"nonzero\" fill-opacity=\"1\" /><path clip-path=\"url(#clip360)\" d=\"M1163.3 1545.76 Q1165.37 1546.46 1167.31 1548.76 Q1169.28 1551.05 1171.26 1555.06 L1177.78 1568.04 L1170.88 1568.04 L1164.8 1555.85 Q1162.44 1551.08 1160.21 1549.52 Q1158.02 1547.96 1154.2 1547.96 L1147.2 1547.96 L1147.2 1568.04 L1140.77 1568.04 L1140.77 1520.52 L1155.28 1520.52 Q1163.43 1520.52 1167.44 1523.93 Q1171.45 1527.34 1171.45 1534.21 Q1171.45 1538.7 1169.35 1541.66 Q1167.28 1544.62 1163.3 1545.76 M1147.2 1525.81 L1147.2 1542.68 L1155.28 1542.68 Q1159.93 1542.68 1162.28 1540.54 Q1164.67 1538.38 1164.67 1534.21 Q1164.67 1530.04 1162.28 1527.94 Q1159.93 1525.81 1155.28 1525.81 L1147.2 1525.81 Z\" fill=\"#000000\" fill-rule=\"nonzero\" fill-opacity=\"1\" /><path clip-path=\"url(#clip360)\" d=\"M1213.37 1548.76 L1213.37 1551.62 L1186.44 1551.62 Q1186.82 1557.67 1190.07 1560.85 Q1193.35 1564 1199.17 1564 Q1202.55 1564 1205.7 1563.17 Q1208.88 1562.35 1212 1560.69 L1212 1566.23 Q1208.85 1567.57 1205.54 1568.27 Q1202.23 1568.97 1198.82 1568.97 Q1190.29 1568.97 1185.29 1564 Q1180.33 1559.04 1180.33 1550.57 Q1180.33 1541.82 1185.04 1536.69 Q1189.78 1531.54 1197.8 1531.54 Q1205 1531.54 1209.17 1536.18 Q1213.37 1540.8 1213.37 1548.76 M1207.51 1547.04 Q1207.45 1542.23 1204.81 1539.37 Q1202.2 1536.5 1197.87 1536.5 Q1192.97 1536.5 1190.01 1539.27 Q1187.08 1542.04 1186.63 1547.07 L1207.51 1547.04 Z\" fill=\"#000000\" fill-rule=\"nonzero\" fill-opacity=\"1\" /><path clip-path=\"url(#clip360)\" d=\"M1239.18 1550.12 Q1232.08 1550.12 1229.35 1551.75 Q1226.61 1553.37 1226.61 1557.29 Q1226.61 1560.4 1228.65 1562.25 Q1230.71 1564.07 1234.25 1564.07 Q1239.12 1564.07 1242.04 1560.63 Q1245 1557.16 1245 1551.43 L1245 1550.12 L1239.18 1550.12 M1250.86 1547.71 L1250.86 1568.04 L1245 1568.04 L1245 1562.63 Q1243 1565.88 1240.01 1567.44 Q1237.02 1568.97 1232.69 1568.97 Q1227.21 1568.97 1223.97 1565.91 Q1220.75 1562.82 1220.75 1557.67 Q1220.75 1551.65 1224.76 1548.6 Q1228.8 1545.54 1236.79 1545.54 L1245 1545.54 L1245 1544.97 Q1245 1540.93 1242.33 1538.73 Q1239.69 1536.5 1234.88 1536.5 Q1231.83 1536.5 1228.93 1537.23 Q1226.04 1537.97 1223.36 1539.43 L1223.36 1534.02 Q1226.58 1532.78 1229.6 1532.17 Q1232.62 1531.54 1235.49 1531.54 Q1243.22 1531.54 1247.04 1535.55 Q1250.86 1539.56 1250.86 1547.71 Z\" fill=\"#000000\" fill-rule=\"nonzero\" fill-opacity=\"1\" /><path clip-path=\"url(#clip360)\" d=\"M1262.92 1518.52 L1268.78 1518.52 L1268.78 1568.04 L1262.92 1568.04 L1262.92 1518.52 Z\" fill=\"#000000\" fill-rule=\"nonzero\" fill-opacity=\"1\" /><path clip-path=\"url(#clip360)\" d=\"M1308.44 1525.81 L1308.44 1543.66 L1316.52 1543.66 Q1321.01 1543.66 1323.46 1541.34 Q1325.91 1539.02 1325.91 1534.72 Q1325.91 1530.45 1323.46 1528.13 Q1321.01 1525.81 1316.52 1525.81 L1308.44 1525.81 M1302.01 1520.52 L1316.52 1520.52 Q1324.51 1520.52 1328.59 1524.15 Q1332.69 1527.75 1332.69 1534.72 Q1332.69 1541.75 1328.59 1545.35 Q1324.51 1548.95 1316.52 1548.95 L1308.44 1548.95 L1308.44 1568.04 L1302.01 1568.04 L1302.01 1520.52 Z\" fill=\"#000000\" fill-rule=\"nonzero\" fill-opacity=\"1\" /><path clip-path=\"url(#clip360)\" d=\"M1354.34 1550.12 Q1347.24 1550.12 1344.5 1551.75 Q1341.76 1553.37 1341.76 1557.29 Q1341.76 1560.4 1343.8 1562.25 Q1345.87 1564.07 1349.4 1564.07 Q1354.27 1564.07 1357.2 1560.63 Q1360.16 1557.16 1360.16 1551.43 L1360.16 1550.12 L1354.34 1550.12 M1366.02 1547.71 L1366.02 1568.04 L1360.16 1568.04 L1360.16 1562.63 Q1358.16 1565.88 1355.16 1567.44 Q1352.17 1568.97 1347.84 1568.97 Q1342.37 1568.97 1339.12 1565.91 Q1335.91 1562.82 1335.91 1557.67 Q1335.91 1551.65 1339.92 1548.6 Q1343.96 1545.54 1351.95 1545.54 L1360.16 1545.54 L1360.16 1544.97 Q1360.16 1540.93 1357.49 1538.73 Q1354.85 1536.5 1350.04 1536.5 Q1346.98 1536.5 1344.09 1537.23 Q1341.19 1537.97 1338.52 1539.43 L1338.52 1534.02 Q1341.73 1532.78 1344.76 1532.17 Q1347.78 1531.54 1350.64 1531.54 Q1358.38 1531.54 1362.2 1535.55 Q1366.02 1539.56 1366.02 1547.71 Z\" fill=\"#000000\" fill-rule=\"nonzero\" fill-opacity=\"1\" /><path clip-path=\"url(#clip360)\" d=\"M1398.74 1537.87 Q1397.75 1537.3 1396.57 1537.04 Q1395.43 1536.76 1394.03 1536.76 Q1389.06 1536.76 1386.39 1540 Q1383.75 1543.22 1383.75 1549.27 L1383.75 1568.04 L1377.86 1568.04 L1377.86 1532.4 L1383.75 1532.4 L1383.75 1537.93 Q1385.59 1534.69 1388.55 1533.13 Q1391.51 1531.54 1395.74 1531.54 Q1396.35 1531.54 1397.08 1531.63 Q1397.81 1531.7 1398.7 1531.85 L1398.74 1537.87 Z\" fill=\"#000000\" fill-rule=\"nonzero\" fill-opacity=\"1\" /><path clip-path=\"url(#clip360)\" d=\"M1410.67 1522.27 L1410.67 1532.4 L1422.74 1532.4 L1422.74 1536.95 L1410.67 1536.95 L1410.67 1556.3 Q1410.67 1560.66 1411.85 1561.9 Q1413.06 1563.14 1416.72 1563.14 L1422.74 1563.14 L1422.74 1568.04 L1416.72 1568.04 Q1409.94 1568.04 1407.36 1565.53 Q1404.78 1562.98 1404.78 1556.3 L1404.78 1536.95 L1400.49 1536.95 L1400.49 1532.4 L1404.78 1532.4 L1404.78 1522.27 L1410.67 1522.27 Z\" fill=\"#000000\" fill-rule=\"nonzero\" fill-opacity=\"1\" /><polyline clip-path=\"url(#clip362)\" style=\"stroke:#000000; stroke-linecap:round; stroke-linejoin:round; stroke-width:2; stroke-opacity:0.1; fill:none\" points=\"210.746,1249.16 2352.76,1249.16 \"/>\n",
       "<polyline clip-path=\"url(#clip362)\" style=\"stroke:#000000; stroke-linecap:round; stroke-linejoin:round; stroke-width:2; stroke-opacity:0.1; fill:none\" points=\"210.746,1011.24 2352.76,1011.24 \"/>\n",
       "<polyline clip-path=\"url(#clip362)\" style=\"stroke:#000000; stroke-linecap:round; stroke-linejoin:round; stroke-width:2; stroke-opacity:0.1; fill:none\" points=\"210.746,773.326 2352.76,773.326 \"/>\n",
       "<polyline clip-path=\"url(#clip362)\" style=\"stroke:#000000; stroke-linecap:round; stroke-linejoin:round; stroke-width:2; stroke-opacity:0.1; fill:none\" points=\"210.746,535.411 2352.76,535.411 \"/>\n",
       "<polyline clip-path=\"url(#clip362)\" style=\"stroke:#000000; stroke-linecap:round; stroke-linejoin:round; stroke-width:2; stroke-opacity:0.1; fill:none\" points=\"210.746,297.497 2352.76,297.497 \"/>\n",
       "<polyline clip-path=\"url(#clip360)\" style=\"stroke:#000000; stroke-linecap:round; stroke-linejoin:round; stroke-width:4; stroke-opacity:1; fill:none\" points=\"210.746,1423.18 210.746,123.472 \"/>\n",
       "<polyline clip-path=\"url(#clip360)\" style=\"stroke:#000000; stroke-linecap:round; stroke-linejoin:round; stroke-width:4; stroke-opacity:1; fill:none\" points=\"210.746,1249.16 229.644,1249.16 \"/>\n",
       "<polyline clip-path=\"url(#clip360)\" style=\"stroke:#000000; stroke-linecap:round; stroke-linejoin:round; stroke-width:4; stroke-opacity:1; fill:none\" points=\"210.746,1011.24 229.644,1011.24 \"/>\n",
       "<polyline clip-path=\"url(#clip360)\" style=\"stroke:#000000; stroke-linecap:round; stroke-linejoin:round; stroke-width:4; stroke-opacity:1; fill:none\" points=\"210.746,773.326 229.644,773.326 \"/>\n",
       "<polyline clip-path=\"url(#clip360)\" style=\"stroke:#000000; stroke-linecap:round; stroke-linejoin:round; stroke-width:4; stroke-opacity:1; fill:none\" points=\"210.746,535.411 229.644,535.411 \"/>\n",
       "<polyline clip-path=\"url(#clip360)\" style=\"stroke:#000000; stroke-linecap:round; stroke-linejoin:round; stroke-width:4; stroke-opacity:1; fill:none\" points=\"210.746,297.497 229.644,297.497 \"/>\n",
       "<path clip-path=\"url(#clip360)\" d=\"M114.631 1249.61 L144.306 1249.61 L144.306 1253.54 L114.631 1253.54 L114.631 1249.61 Z\" fill=\"#000000\" fill-rule=\"nonzero\" fill-opacity=\"1\" /><path clip-path=\"url(#clip360)\" d=\"M158.427 1262.5 L174.746 1262.5 L174.746 1266.44 L152.802 1266.44 L152.802 1262.5 Q155.464 1259.75 160.047 1255.12 Q164.653 1250.46 165.834 1249.12 Q168.079 1246.6 168.959 1244.86 Q169.862 1243.1 169.862 1241.41 Q169.862 1238.66 167.917 1236.92 Q165.996 1235.19 162.894 1235.19 Q160.695 1235.19 158.241 1235.95 Q155.811 1236.71 153.033 1238.26 L153.033 1233.54 Q155.857 1232.41 158.311 1231.83 Q160.765 1231.25 162.802 1231.25 Q168.172 1231.25 171.366 1233.94 Q174.561 1236.62 174.561 1241.11 Q174.561 1243.24 173.751 1245.16 Q172.964 1247.06 170.857 1249.65 Q170.278 1250.32 167.177 1253.54 Q164.075 1256.74 158.427 1262.5 Z\" fill=\"#000000\" fill-rule=\"nonzero\" fill-opacity=\"1\" /><path clip-path=\"url(#clip360)\" d=\"M114.26 1011.69 L143.936 1011.69 L143.936 1015.63 L114.26 1015.63 L114.26 1011.69 Z\" fill=\"#000000\" fill-rule=\"nonzero\" fill-opacity=\"1\" /><path clip-path=\"url(#clip360)\" d=\"M154.839 1024.59 L162.477 1024.59 L162.477 998.22 L154.167 999.887 L154.167 995.627 L162.431 993.961 L167.107 993.961 L167.107 1024.59 L174.746 1024.59 L174.746 1028.52 L154.839 1028.52 L154.839 1024.59 Z\" fill=\"#000000\" fill-rule=\"nonzero\" fill-opacity=\"1\" /><path clip-path=\"url(#clip360)\" d=\"M162.802 759.125 Q159.19 759.125 157.362 762.689 Q155.556 766.231 155.556 773.361 Q155.556 780.467 157.362 784.032 Q159.19 787.574 162.802 787.574 Q166.436 787.574 168.241 784.032 Q170.07 780.467 170.07 773.361 Q170.07 766.231 168.241 762.689 Q166.436 759.125 162.802 759.125 M162.802 755.421 Q168.612 755.421 171.667 760.027 Q174.746 764.611 174.746 773.361 Q174.746 782.088 171.667 786.694 Q168.612 791.277 162.802 791.277 Q156.991 791.277 153.913 786.694 Q150.857 782.088 150.857 773.361 Q150.857 764.611 153.913 760.027 Q156.991 755.421 162.802 755.421 Z\" fill=\"#000000\" fill-rule=\"nonzero\" fill-opacity=\"1\" /><path clip-path=\"url(#clip360)\" d=\"M154.839 548.756 L162.477 548.756 L162.477 522.391 L154.167 524.057 L154.167 519.798 L162.431 518.131 L167.107 518.131 L167.107 548.756 L174.746 548.756 L174.746 552.691 L154.839 552.691 L154.839 548.756 Z\" fill=\"#000000\" fill-rule=\"nonzero\" fill-opacity=\"1\" /><path clip-path=\"url(#clip360)\" d=\"M158.427 310.841 L174.746 310.841 L174.746 314.777 L152.802 314.777 L152.802 310.841 Q155.464 308.087 160.047 303.457 Q164.653 298.804 165.834 297.462 Q168.079 294.939 168.959 293.203 Q169.862 291.443 169.862 289.754 Q169.862 286.999 167.917 285.263 Q165.996 283.527 162.894 283.527 Q160.695 283.527 158.241 284.291 Q155.811 285.055 153.033 286.605 L153.033 281.883 Q155.857 280.749 158.311 280.17 Q160.765 279.592 162.802 279.592 Q168.172 279.592 171.366 282.277 Q174.561 284.962 174.561 289.453 Q174.561 291.582 173.751 293.504 Q172.964 295.402 170.857 297.994 Q170.278 298.666 167.177 301.883 Q164.075 305.078 158.427 310.841 Z\" fill=\"#000000\" fill-rule=\"nonzero\" fill-opacity=\"1\" /><path clip-path=\"url(#clip360)\" d=\"M16.4842 1008.44 L16.4842 1002.01 L64.0042 1002.01 L64.0042 1008.44 L16.4842 1008.44 Z\" fill=\"#000000\" fill-rule=\"nonzero\" fill-opacity=\"1\" /><path clip-path=\"url(#clip360)\" d=\"M35.1993 961.719 Q31.2526 959.523 29.3747 956.467 Q27.4968 953.412 27.4968 949.274 Q27.4968 943.704 31.4117 940.68 Q35.2948 937.657 42.4881 937.657 L64.0042 937.657 L64.0042 943.545 L42.679 943.545 Q37.5546 943.545 35.072 945.359 Q32.5894 947.173 32.5894 950.897 Q32.5894 955.449 35.6131 958.091 Q38.6368 960.732 43.8567 960.732 L64.0042 960.732 L64.0042 966.621 L42.679 966.621 Q37.5228 966.621 35.072 968.435 Q32.5894 970.249 32.5894 974.037 Q32.5894 978.525 35.6449 981.166 Q38.6686 983.808 43.8567 983.808 L64.0042 983.808 L64.0042 989.696 L28.3562 989.696 L28.3562 983.808 L33.8944 983.808 Q30.616 981.803 29.0564 979.002 Q27.4968 976.201 27.4968 972.35 Q27.4968 968.467 29.4702 965.761 Q31.4436 963.024 35.1993 961.719 Z\" fill=\"#000000\" fill-rule=\"nonzero\" fill-opacity=\"1\" /><path clip-path=\"url(#clip360)\" d=\"M46.0847 909.775 Q46.0847 916.873 47.7079 919.61 Q49.3312 922.347 53.2461 922.347 Q56.3653 922.347 58.2114 920.31 Q60.0256 918.241 60.0256 914.708 Q60.0256 909.839 56.5881 906.91 Q53.1188 903.95 47.3897 903.95 L46.0847 903.95 L46.0847 909.775 M43.6657 898.094 L64.0042 898.094 L64.0042 903.95 L58.5933 903.95 Q61.8398 905.955 63.3994 908.947 Q64.9272 911.939 64.9272 916.268 Q64.9272 921.742 61.8716 924.989 Q58.7843 928.204 53.6281 928.204 Q47.6125 928.204 44.5569 924.193 Q41.5014 920.151 41.5014 912.162 L41.5014 903.95 L40.9285 903.95 Q36.8862 903.95 34.6901 906.624 Q32.4621 909.266 32.4621 914.072 Q32.4621 917.127 33.1941 920.024 Q33.9262 922.92 35.3903 925.594 L29.9795 925.594 Q28.7381 922.379 28.1334 919.355 Q27.4968 916.332 27.4968 913.467 Q27.4968 905.733 31.5072 901.913 Q35.5176 898.094 43.6657 898.094 Z\" fill=\"#000000\" fill-rule=\"nonzero\" fill-opacity=\"1\" /><path clip-path=\"url(#clip360)\" d=\"M45.7664 862.573 Q39.4007 862.573 35.8996 865.215 Q32.3984 867.825 32.3984 872.567 Q32.3984 877.278 35.8996 879.92 Q39.4007 882.53 45.7664 882.53 Q52.1003 882.53 55.6014 879.92 Q59.1026 877.278 59.1026 872.567 Q59.1026 867.825 55.6014 865.215 Q52.1003 862.573 45.7664 862.573 M59.58 856.717 Q68.683 856.717 73.1071 860.759 Q77.5631 864.801 77.5631 873.14 Q77.5631 876.228 77.0857 878.965 Q76.6401 881.702 75.6852 884.28 L69.9879 884.28 Q71.3884 881.702 72.0568 879.188 Q72.7252 876.673 72.7252 874.063 Q72.7252 868.302 69.7015 865.438 Q66.7096 862.573 60.6303 862.573 L57.7339 862.573 Q60.885 864.387 62.4446 867.22 Q64.0042 870.053 64.0042 874 Q64.0042 880.556 59.0071 884.567 Q54.01 888.577 45.7664 888.577 Q37.491 888.577 32.4939 884.567 Q27.4968 880.556 27.4968 874 Q27.4968 870.053 29.0564 867.22 Q30.616 864.387 33.7671 862.573 L28.3562 862.573 L28.3562 856.717 L59.58 856.717 Z\" fill=\"#000000\" fill-rule=\"nonzero\" fill-opacity=\"1\" /><path clip-path=\"url(#clip360)\" d=\"M28.3562 844.654 L28.3562 838.797 L64.0042 838.797 L64.0042 844.654 L28.3562 844.654 M14.479 844.654 L14.479 838.797 L21.895 838.797 L21.895 844.654 L14.479 844.654 Z\" fill=\"#000000\" fill-rule=\"nonzero\" fill-opacity=\"1\" /><path clip-path=\"url(#clip360)\" d=\"M42.4881 796.911 L64.0042 796.911 L64.0042 802.767 L42.679 802.767 Q37.6183 802.767 35.1038 804.741 Q32.5894 806.714 32.5894 810.661 Q32.5894 815.403 35.6131 818.141 Q38.6368 820.878 43.8567 820.878 L64.0042 820.878 L64.0042 826.766 L28.3562 826.766 L28.3562 820.878 L33.8944 820.878 Q30.6797 818.777 29.0883 815.944 Q27.4968 813.08 27.4968 809.356 Q27.4968 803.213 31.3163 800.062 Q35.1038 796.911 42.4881 796.911 Z\" fill=\"#000000\" fill-rule=\"nonzero\" fill-opacity=\"1\" /><path clip-path=\"url(#clip360)\" d=\"M46.0847 769.029 Q46.0847 776.127 47.7079 778.864 Q49.3312 781.601 53.2461 781.601 Q56.3653 781.601 58.2114 779.564 Q60.0256 777.496 60.0256 773.963 Q60.0256 769.093 56.5881 766.165 Q53.1188 763.205 47.3897 763.205 L46.0847 763.205 L46.0847 769.029 M43.6657 757.348 L64.0042 757.348 L64.0042 763.205 L58.5933 763.205 Q61.8398 765.21 63.3994 768.202 Q64.9272 771.193 64.9272 775.522 Q64.9272 780.997 61.8716 784.243 Q58.7843 787.458 53.6281 787.458 Q47.6125 787.458 44.5569 783.447 Q41.5014 779.405 41.5014 771.416 L41.5014 763.205 L40.9285 763.205 Q36.8862 763.205 34.6901 765.878 Q32.4621 768.52 32.4621 773.326 Q32.4621 776.382 33.1941 779.278 Q33.9262 782.174 35.3903 784.848 L29.9795 784.848 Q28.7381 781.633 28.1334 778.61 Q27.4968 775.586 27.4968 772.721 Q27.4968 764.987 31.5072 761.167 Q35.5176 757.348 43.6657 757.348 Z\" fill=\"#000000\" fill-rule=\"nonzero\" fill-opacity=\"1\" /><path clip-path=\"url(#clip360)\" d=\"M33.8307 724.628 Q33.2578 725.615 33.0032 726.793 Q32.7167 727.938 32.7167 729.339 Q32.7167 734.304 35.9632 736.978 Q39.1779 739.62 45.2253 739.62 L64.0042 739.62 L64.0042 745.508 L28.3562 745.508 L28.3562 739.62 L33.8944 739.62 Q30.6479 737.774 29.0883 734.813 Q27.4968 731.853 27.4968 727.62 Q27.4968 727.015 27.5923 726.283 Q27.656 725.551 27.8151 724.66 L33.8307 724.628 Z\" fill=\"#000000\" fill-rule=\"nonzero\" fill-opacity=\"1\" /><path clip-path=\"url(#clip360)\" d=\"M67.3143 703.653 Q73.68 706.136 75.6216 708.491 Q77.5631 710.847 77.5631 714.793 L77.5631 719.472 L72.6615 719.472 L72.6615 716.035 Q72.6615 713.616 71.5157 712.279 Q70.3699 710.942 66.1048 709.319 L63.4312 708.268 L28.3562 722.687 L28.3562 716.48 L56.238 705.34 L28.3562 694.2 L28.3562 687.994 L67.3143 703.653 Z\" fill=\"#000000\" fill-rule=\"nonzero\" fill-opacity=\"1\" /><path clip-path=\"url(#clip360)\" d=\"M21.7677 652.505 L39.6235 652.505 L39.6235 644.42 Q39.6235 639.933 37.3 637.482 Q34.9765 635.031 30.6797 635.031 Q26.4147 635.031 24.0912 637.482 Q21.7677 639.933 21.7677 644.42 L21.7677 652.505 M16.4842 658.934 L16.4842 644.42 Q16.4842 636.431 20.1126 632.357 Q23.7092 628.252 30.6797 628.252 Q37.7138 628.252 41.3104 632.357 Q44.907 636.431 44.907 644.42 L44.907 652.505 L64.0042 652.505 L64.0042 658.934 L16.4842 658.934 Z\" fill=\"#000000\" fill-rule=\"nonzero\" fill-opacity=\"1\" /><path clip-path=\"url(#clip360)\" d=\"M46.0847 606.608 Q46.0847 613.706 47.7079 616.443 Q49.3312 619.18 53.2461 619.18 Q56.3653 619.18 58.2114 617.143 Q60.0256 615.075 60.0256 611.542 Q60.0256 606.672 56.5881 603.744 Q53.1188 600.784 47.3897 600.784 L46.0847 600.784 L46.0847 606.608 M43.6657 594.927 L64.0042 594.927 L64.0042 600.784 L58.5933 600.784 Q61.8398 602.789 63.3994 605.781 Q64.9272 608.772 64.9272 613.101 Q64.9272 618.576 61.8716 621.822 Q58.7843 625.037 53.6281 625.037 Q47.6125 625.037 44.5569 621.026 Q41.5014 616.984 41.5014 608.995 L41.5014 600.784 L40.9285 600.784 Q36.8862 600.784 34.6901 603.457 Q32.4621 606.099 32.4621 610.905 Q32.4621 613.961 33.1941 616.857 Q33.9262 619.753 35.3903 622.427 L29.9795 622.427 Q28.7381 619.212 28.1334 616.189 Q27.4968 613.165 27.4968 610.3 Q27.4968 602.566 31.5072 598.746 Q35.5176 594.927 43.6657 594.927 Z\" fill=\"#000000\" fill-rule=\"nonzero\" fill-opacity=\"1\" /><path clip-path=\"url(#clip360)\" d=\"M33.8307 562.207 Q33.2578 563.194 33.0032 564.372 Q32.7167 565.517 32.7167 566.918 Q32.7167 571.883 35.9632 574.557 Q39.1779 577.199 45.2253 577.199 L64.0042 577.199 L64.0042 583.087 L28.3562 583.087 L28.3562 577.199 L33.8944 577.199 Q30.6479 575.353 29.0883 572.392 Q27.4968 569.432 27.4968 565.199 Q27.4968 564.594 27.5923 563.862 Q27.656 563.13 27.8151 562.239 L33.8307 562.207 Z\" fill=\"#000000\" fill-rule=\"nonzero\" fill-opacity=\"1\" /><path clip-path=\"url(#clip360)\" d=\"M18.2347 550.272 L28.3562 550.272 L28.3562 538.209 L32.9077 538.209 L32.9077 550.272 L52.2594 550.272 Q56.6199 550.272 57.8613 549.094 Q59.1026 547.884 59.1026 544.224 L59.1026 538.209 L64.0042 538.209 L64.0042 544.224 Q64.0042 551.004 61.4897 553.582 Q58.9434 556.16 52.2594 556.16 L32.9077 556.16 L32.9077 560.457 L28.3562 560.457 L28.3562 556.16 L18.2347 556.16 L18.2347 550.272 Z\" fill=\"#000000\" fill-rule=\"nonzero\" fill-opacity=\"1\" /><path clip-path=\"url(#clip360)\" d=\"M722.645 18.8205 L722.645 41.5461 L732.934 41.5461 Q738.646 41.5461 741.765 38.5889 Q744.885 35.6318 744.885 30.163 Q744.885 24.7348 741.765 21.7777 Q738.646 18.8205 732.934 18.8205 L722.645 18.8205 M714.462 12.096 L732.934 12.096 Q743.102 12.096 748.287 16.714 Q753.513 21.2916 753.513 30.163 Q753.513 39.1155 748.287 43.6931 Q743.102 48.2706 732.934 48.2706 L722.645 48.2706 L722.645 72.576 L714.462 72.576 L714.462 12.096 Z\" fill=\"#000000\" fill-rule=\"nonzero\" fill-opacity=\"1\" /><path clip-path=\"url(#clip360)\" d=\"M800.017 48.0275 L800.017 51.6733 L765.747 51.6733 Q766.233 59.3701 770.365 63.421 Q774.537 67.4314 781.95 67.4314 Q786.244 67.4314 790.255 66.3781 Q794.306 65.3249 798.276 63.2184 L798.276 70.267 Q794.265 71.9684 790.052 72.8596 Q785.839 73.7508 781.505 73.7508 Q770.648 73.7508 764.288 67.4314 Q757.969 61.1119 757.969 50.3365 Q757.969 39.1965 763.964 32.6746 Q770 26.1121 780.208 26.1121 Q789.364 26.1121 794.67 32.0264 Q800.017 37.9003 800.017 48.0275 M792.564 45.84 Q792.483 39.7232 789.12 36.0774 Q785.799 32.4315 780.289 32.4315 Q774.051 32.4315 770.284 35.9558 Q766.557 39.4801 765.99 45.8805 L792.564 45.84 Z\" fill=\"#000000\" fill-rule=\"nonzero\" fill-opacity=\"1\" /><path clip-path=\"url(#clip360)\" d=\"M838.541 34.1734 Q837.286 33.4443 835.787 33.1202 Q834.329 32.7556 832.546 32.7556 Q826.227 32.7556 822.824 36.8875 Q819.462 40.9789 819.462 48.6757 L819.462 72.576 L811.968 72.576 L811.968 27.2059 L819.462 27.2059 L819.462 34.2544 Q821.811 30.1225 825.579 28.1376 Q829.346 26.1121 834.734 26.1121 Q835.503 26.1121 836.435 26.2337 Q837.367 26.3147 838.501 26.5172 L838.541 34.1734 Z\" fill=\"#000000\" fill-rule=\"nonzero\" fill-opacity=\"1\" /><path clip-path=\"url(#clip360)\" d=\"M853.732 14.324 L853.732 27.2059 L869.085 27.2059 L869.085 32.9987 L853.732 32.9987 L853.732 57.6282 Q853.732 63.1779 855.231 64.7578 Q856.771 66.3376 861.429 66.3376 L869.085 66.3376 L869.085 72.576 L861.429 72.576 Q852.801 72.576 849.519 69.3758 Q846.238 66.1351 846.238 57.6282 L846.238 32.9987 L840.769 32.9987 L840.769 27.2059 L846.238 27.2059 L846.238 14.324 L853.732 14.324 Z\" fill=\"#000000\" fill-rule=\"nonzero\" fill-opacity=\"1\" /><path clip-path=\"url(#clip360)\" d=\"M878.119 54.671 L878.119 27.2059 L885.572 27.2059 L885.572 54.3874 Q885.572 60.8284 888.084 64.0691 Q890.596 67.2693 895.619 67.2693 Q901.655 67.2693 905.138 63.421 Q908.663 59.5726 908.663 52.9291 L908.663 27.2059 L916.116 27.2059 L916.116 72.576 L908.663 72.576 L908.663 65.6084 Q905.949 69.7404 902.343 71.7658 Q898.778 73.7508 894.039 73.7508 Q886.221 73.7508 882.17 68.8897 Q878.119 64.0286 878.119 54.671 M896.875 26.1121 L896.875 26.1121 Z\" fill=\"#000000\" fill-rule=\"nonzero\" fill-opacity=\"1\" /><path clip-path=\"url(#clip360)\" d=\"M957.76 34.1734 Q956.504 33.4443 955.005 33.1202 Q953.547 32.7556 951.764 32.7556 Q945.445 32.7556 942.042 36.8875 Q938.68 40.9789 938.68 48.6757 L938.68 72.576 L931.186 72.576 L931.186 27.2059 L938.68 27.2059 L938.68 34.2544 Q941.029 30.1225 944.797 28.1376 Q948.564 26.1121 953.952 26.1121 Q954.721 26.1121 955.653 26.2337 Q956.585 26.3147 957.719 26.5172 L957.76 34.1734 Z\" fill=\"#000000\" fill-rule=\"nonzero\" fill-opacity=\"1\" /><path clip-path=\"url(#clip360)\" d=\"M998.147 49.9314 Q998.147 41.7081 994.744 37.0496 Q991.382 32.3505 985.468 32.3505 Q979.553 32.3505 976.151 37.0496 Q972.788 41.7081 972.788 49.9314 Q972.788 58.1548 976.151 62.8538 Q979.553 67.5124 985.468 67.5124 Q991.382 67.5124 994.744 62.8538 Q998.147 58.1548 998.147 49.9314 M972.788 34.0924 Q975.138 30.0415 978.703 28.0971 Q982.308 26.1121 987.291 26.1121 Q995.555 26.1121 1000.7 32.6746 Q1005.88 39.2371 1005.88 49.9314 Q1005.88 60.6258 1000.7 67.1883 Q995.555 73.7508 987.291 73.7508 Q982.308 73.7508 978.703 71.8063 Q975.138 69.8214 972.788 65.7705 L972.788 72.576 L965.294 72.576 L965.294 9.54393 L972.788 9.54393 L972.788 34.0924 Z\" fill=\"#000000\" fill-rule=\"nonzero\" fill-opacity=\"1\" /><path clip-path=\"url(#clip360)\" d=\"M1038.86 49.7694 Q1029.83 49.7694 1026.34 51.8354 Q1022.86 53.9013 1022.86 58.8839 Q1022.86 62.8538 1025.45 65.2034 Q1028.08 67.5124 1032.58 67.5124 Q1038.78 67.5124 1042.5 63.1374 Q1046.27 58.7219 1046.27 51.4303 L1046.27 49.7694 L1038.86 49.7694 M1053.73 46.6907 L1053.73 72.576 L1046.27 72.576 L1046.27 65.6895 Q1043.72 69.8214 1039.91 71.8063 Q1036.1 73.7508 1030.59 73.7508 Q1023.63 73.7508 1019.5 69.8619 Q1015.4 65.9325 1015.4 59.3701 Q1015.4 51.7138 1020.51 47.825 Q1025.65 43.9361 1035.82 43.9361 L1046.27 43.9361 L1046.27 43.2069 Q1046.27 38.0623 1042.87 35.2672 Q1039.51 32.4315 1033.39 32.4315 Q1029.5 32.4315 1025.81 33.3632 Q1022.13 34.295 1018.73 36.1584 L1018.73 29.2718 Q1022.82 27.692 1026.67 26.9223 Q1030.51 26.1121 1034.16 26.1121 Q1044 26.1121 1048.86 31.2163 Q1053.73 36.3204 1053.73 46.6907 Z\" fill=\"#000000\" fill-rule=\"nonzero\" fill-opacity=\"1\" /><path clip-path=\"url(#clip360)\" d=\"M1076.45 14.324 L1076.45 27.2059 L1091.8 27.2059 L1091.8 32.9987 L1076.45 32.9987 L1076.45 57.6282 Q1076.45 63.1779 1077.95 64.7578 Q1079.49 66.3376 1084.15 66.3376 L1091.8 66.3376 L1091.8 72.576 L1084.15 72.576 Q1075.52 72.576 1072.24 69.3758 Q1068.96 66.1351 1068.96 57.6282 L1068.96 32.9987 L1063.49 32.9987 L1063.49 27.2059 L1068.96 27.2059 L1068.96 14.324 L1076.45 14.324 Z\" fill=\"#000000\" fill-rule=\"nonzero\" fill-opacity=\"1\" /><path clip-path=\"url(#clip360)\" d=\"M1101.61 27.2059 L1109.06 27.2059 L1109.06 72.576 L1101.61 72.576 L1101.61 27.2059 M1101.61 9.54393 L1109.06 9.54393 L1109.06 18.9825 L1101.61 18.9825 L1101.61 9.54393 Z\" fill=\"#000000\" fill-rule=\"nonzero\" fill-opacity=\"1\" /><path clip-path=\"url(#clip360)\" d=\"M1142.24 32.4315 Q1136.24 32.4315 1132.76 37.1306 Q1129.27 41.7891 1129.27 49.9314 Q1129.27 58.0738 1132.72 62.7728 Q1136.2 67.4314 1142.24 67.4314 Q1148.19 67.4314 1151.68 62.7323 Q1155.16 58.0333 1155.16 49.9314 Q1155.16 41.8701 1151.68 37.1711 Q1148.19 32.4315 1142.24 32.4315 M1142.24 26.1121 Q1151.96 26.1121 1157.51 32.4315 Q1163.06 38.7509 1163.06 49.9314 Q1163.06 61.0714 1157.51 67.4314 Q1151.96 73.7508 1142.24 73.7508 Q1132.48 73.7508 1126.93 67.4314 Q1121.42 61.0714 1121.42 49.9314 Q1121.42 38.7509 1126.93 32.4315 Q1132.48 26.1121 1142.24 26.1121 Z\" fill=\"#000000\" fill-rule=\"nonzero\" fill-opacity=\"1\" /><path clip-path=\"url(#clip360)\" d=\"M1213.13 45.1919 L1213.13 72.576 L1205.67 72.576 L1205.67 45.4349 Q1205.67 38.994 1203.16 35.7938 Q1200.65 32.5936 1195.63 32.5936 Q1189.59 32.5936 1186.11 36.4419 Q1182.63 40.2903 1182.63 46.9338 L1182.63 72.576 L1175.13 72.576 L1175.13 27.2059 L1182.63 27.2059 L1182.63 34.2544 Q1185.3 30.163 1188.9 28.1376 Q1192.55 26.1121 1197.29 26.1121 Q1205.11 26.1121 1209.12 30.9732 Q1213.13 35.7938 1213.13 45.1919 Z\" fill=\"#000000\" fill-rule=\"nonzero\" fill-opacity=\"1\" /><path clip-path=\"url(#clip360)\" d=\"M1271.95 32.4315 Q1265.95 32.4315 1262.47 37.1306 Q1258.98 41.7891 1258.98 49.9314 Q1258.98 58.0738 1262.43 62.7728 Q1265.91 67.4314 1271.95 67.4314 Q1277.9 67.4314 1281.39 62.7323 Q1284.87 58.0333 1284.87 49.9314 Q1284.87 41.8701 1281.39 37.1711 Q1277.9 32.4315 1271.95 32.4315 M1271.95 26.1121 Q1281.67 26.1121 1287.22 32.4315 Q1292.77 38.7509 1292.77 49.9314 Q1292.77 61.0714 1287.22 67.4314 Q1281.67 73.7508 1271.95 73.7508 Q1262.19 73.7508 1256.64 67.4314 Q1251.13 61.0714 1251.13 49.9314 Q1251.13 38.7509 1256.64 32.4315 Q1262.19 26.1121 1271.95 26.1121 Z\" fill=\"#000000\" fill-rule=\"nonzero\" fill-opacity=\"1\" /><path clip-path=\"url(#clip360)\" d=\"M1328.09 9.54393 L1328.09 15.7418 L1320.96 15.7418 Q1316.95 15.7418 1315.37 17.3622 Q1313.83 18.9825 1313.83 23.1955 L1313.83 27.2059 L1326.11 27.2059 L1326.11 32.9987 L1313.83 32.9987 L1313.83 72.576 L1306.34 72.576 L1306.34 32.9987 L1299.21 32.9987 L1299.21 27.2059 L1306.34 27.2059 L1306.34 24.0462 Q1306.34 16.471 1309.86 13.0277 Q1313.39 9.54393 1321.04 9.54393 L1328.09 9.54393 Z\" fill=\"#000000\" fill-rule=\"nonzero\" fill-opacity=\"1\" /><path clip-path=\"url(#clip360)\" d=\"M1399.51 48.0275 L1399.51 51.6733 L1365.24 51.6733 Q1365.73 59.3701 1369.86 63.421 Q1374.03 67.4314 1381.44 67.4314 Q1385.74 67.4314 1389.75 66.3781 Q1393.8 65.3249 1397.77 63.2184 L1397.77 70.267 Q1393.76 71.9684 1389.55 72.8596 Q1385.33 73.7508 1381 73.7508 Q1370.14 73.7508 1363.78 67.4314 Q1357.46 61.1119 1357.46 50.3365 Q1357.46 39.1965 1363.46 32.6746 Q1369.49 26.1121 1379.7 26.1121 Q1388.86 26.1121 1394.16 32.0264 Q1399.51 37.9003 1399.51 48.0275 M1392.06 45.84 Q1391.98 39.7232 1388.61 36.0774 Q1385.29 32.4315 1379.78 32.4315 Q1373.54 32.4315 1369.78 35.9558 Q1366.05 39.4801 1365.48 45.8805 L1392.06 45.84 Z\" fill=\"#000000\" fill-rule=\"nonzero\" fill-opacity=\"1\" /><path clip-path=\"url(#clip360)\" d=\"M1411.74 27.2059 L1419.2 27.2059 L1419.2 72.576 L1411.74 72.576 L1411.74 27.2059 M1411.74 9.54393 L1419.2 9.54393 L1419.2 18.9825 L1411.74 18.9825 L1411.74 9.54393 Z\" fill=\"#000000\" fill-rule=\"nonzero\" fill-opacity=\"1\" /><path clip-path=\"url(#clip360)\" d=\"M1464.65 49.3643 Q1464.65 41.2625 1461.29 36.8065 Q1457.97 32.3505 1451.93 32.3505 Q1445.93 32.3505 1442.57 36.8065 Q1439.25 41.2625 1439.25 49.3643 Q1439.25 57.4256 1442.57 61.8816 Q1445.93 66.3376 1451.93 66.3376 Q1457.97 66.3376 1461.29 61.8816 Q1464.65 57.4256 1464.65 49.3643 M1472.1 66.9452 Q1472.1 78.5308 1466.96 84.1616 Q1461.81 89.8329 1451.2 89.8329 Q1447.27 89.8329 1443.79 89.2252 Q1440.3 88.6581 1437.02 87.4428 L1437.02 80.1917 Q1440.3 81.9741 1443.5 82.8248 Q1446.7 83.6755 1450.03 83.6755 Q1457.36 83.6755 1461 79.8271 Q1464.65 76.0193 1464.65 68.282 L1464.65 64.5957 Q1462.34 68.6061 1458.73 70.5911 Q1455.13 72.576 1450.11 72.576 Q1441.76 72.576 1436.66 66.2161 Q1431.55 59.8562 1431.55 49.3643 Q1431.55 38.832 1436.66 32.472 Q1441.76 26.1121 1450.11 26.1121 Q1455.13 26.1121 1458.73 28.0971 Q1462.34 30.082 1464.65 34.0924 L1464.65 27.2059 L1472.1 27.2059 L1472.1 66.9452 Z\" fill=\"#000000\" fill-rule=\"nonzero\" fill-opacity=\"1\" /><path clip-path=\"url(#clip360)\" d=\"M1526.26 48.0275 L1526.26 51.6733 L1491.99 51.6733 Q1492.48 59.3701 1496.61 63.421 Q1500.78 67.4314 1508.2 67.4314 Q1512.49 67.4314 1516.5 66.3781 Q1520.55 65.3249 1524.52 63.2184 L1524.52 70.267 Q1520.51 71.9684 1516.3 72.8596 Q1512.09 73.7508 1507.75 73.7508 Q1496.89 73.7508 1490.53 67.4314 Q1484.22 61.1119 1484.22 50.3365 Q1484.22 39.1965 1490.21 32.6746 Q1496.25 26.1121 1506.45 26.1121 Q1515.61 26.1121 1520.92 32.0264 Q1526.26 37.9003 1526.26 48.0275 M1518.81 45.84 Q1518.73 39.7232 1515.37 36.0774 Q1512.04 32.4315 1506.54 32.4315 Q1500.3 32.4315 1496.53 35.9558 Q1492.8 39.4801 1492.24 45.8805 L1518.81 45.84 Z\" fill=\"#000000\" fill-rule=\"nonzero\" fill-opacity=\"1\" /><path clip-path=\"url(#clip360)\" d=\"M1576.21 45.1919 L1576.21 72.576 L1568.76 72.576 L1568.76 45.4349 Q1568.76 38.994 1566.25 35.7938 Q1563.73 32.5936 1558.71 32.5936 Q1552.68 32.5936 1549.19 36.4419 Q1545.71 40.2903 1545.71 46.9338 L1545.71 72.576 L1538.21 72.576 L1538.21 27.2059 L1545.71 27.2059 L1545.71 34.2544 Q1548.38 30.163 1551.99 28.1376 Q1555.63 26.1121 1560.37 26.1121 Q1568.19 26.1121 1572.2 30.9732 Q1576.21 35.7938 1576.21 45.1919 Z\" fill=\"#000000\" fill-rule=\"nonzero\" fill-opacity=\"1\" /><path clip-path=\"url(#clip360)\" d=\"M1585.73 27.2059 L1593.63 27.2059 L1607.81 65.2844 L1621.99 27.2059 L1629.89 27.2059 L1612.87 72.576 L1602.74 72.576 L1585.73 27.2059 Z\" fill=\"#000000\" fill-rule=\"nonzero\" fill-opacity=\"1\" /><path clip-path=\"url(#clip360)\" d=\"M1660.79 49.7694 Q1651.76 49.7694 1648.28 51.8354 Q1644.79 53.9013 1644.79 58.8839 Q1644.79 62.8538 1647.39 65.2034 Q1650.02 67.5124 1654.52 67.5124 Q1660.71 67.5124 1664.44 63.1374 Q1668.21 58.7219 1668.21 51.4303 L1668.21 49.7694 L1660.79 49.7694 M1675.66 46.6907 L1675.66 72.576 L1668.21 72.576 L1668.21 65.6895 Q1665.66 69.8214 1661.85 71.8063 Q1658.04 73.7508 1652.53 73.7508 Q1645.56 73.7508 1641.43 69.8619 Q1637.34 65.9325 1637.34 59.3701 Q1637.34 51.7138 1642.44 47.825 Q1647.59 43.9361 1657.76 43.9361 L1668.21 43.9361 L1668.21 43.2069 Q1668.21 38.0623 1664.8 35.2672 Q1661.44 32.4315 1655.33 32.4315 Q1651.44 32.4315 1647.75 33.3632 Q1644.06 34.295 1640.66 36.1584 L1640.66 29.2718 Q1644.75 27.692 1648.6 26.9223 Q1652.45 26.1121 1656.09 26.1121 Q1665.94 26.1121 1670.8 31.2163 Q1675.66 36.3204 1675.66 46.6907 Z\" fill=\"#000000\" fill-rule=\"nonzero\" fill-opacity=\"1\" /><path clip-path=\"url(#clip360)\" d=\"M1691.01 9.54393 L1698.47 9.54393 L1698.47 72.576 L1691.01 72.576 L1691.01 9.54393 Z\" fill=\"#000000\" fill-rule=\"nonzero\" fill-opacity=\"1\" /><path clip-path=\"url(#clip360)\" d=\"M1713.29 54.671 L1713.29 27.2059 L1720.75 27.2059 L1720.75 54.3874 Q1720.75 60.8284 1723.26 64.0691 Q1725.77 67.2693 1730.79 67.2693 Q1736.83 67.2693 1740.31 63.421 Q1743.84 59.5726 1743.84 52.9291 L1743.84 27.2059 L1751.29 27.2059 L1751.29 72.576 L1743.84 72.576 L1743.84 65.6084 Q1741.12 69.7404 1737.52 71.7658 Q1733.95 73.7508 1729.21 73.7508 Q1721.4 73.7508 1717.34 68.8897 Q1713.29 64.0286 1713.29 54.671 M1732.05 26.1121 L1732.05 26.1121 Z\" fill=\"#000000\" fill-rule=\"nonzero\" fill-opacity=\"1\" /><path clip-path=\"url(#clip360)\" d=\"M1805.45 48.0275 L1805.45 51.6733 L1771.18 51.6733 Q1771.67 59.3701 1775.8 63.421 Q1779.97 67.4314 1787.38 67.4314 Q1791.68 67.4314 1795.69 66.3781 Q1799.74 65.3249 1803.71 63.2184 L1803.71 70.267 Q1799.7 71.9684 1795.49 72.8596 Q1791.27 73.7508 1786.94 73.7508 Q1776.08 73.7508 1769.72 67.4314 Q1763.4 61.1119 1763.4 50.3365 Q1763.4 39.1965 1769.4 32.6746 Q1775.43 26.1121 1785.64 26.1121 Q1794.8 26.1121 1800.1 32.0264 Q1805.45 37.9003 1805.45 48.0275 M1798 45.84 Q1797.92 39.7232 1794.55 36.0774 Q1791.23 32.4315 1785.72 32.4315 Q1779.49 32.4315 1775.72 35.9558 Q1771.99 39.4801 1771.42 45.8805 L1798 45.84 Z\" fill=\"#000000\" fill-rule=\"nonzero\" fill-opacity=\"1\" /><path clip-path=\"url(#clip360)\" d=\"M1846.61 28.5427 L1846.61 35.5912 Q1843.45 33.9709 1840.05 33.1607 Q1836.64 32.3505 1833 32.3505 Q1827.45 32.3505 1824.65 34.0519 Q1821.9 35.7533 1821.9 39.156 Q1821.9 41.7486 1823.88 43.2475 Q1825.87 44.7058 1831.86 46.0426 L1834.42 46.6097 Q1842.36 48.3111 1845.68 51.4303 Q1849.04 54.509 1849.04 60.0587 Q1849.04 66.3781 1844.02 70.0644 Q1839.03 73.7508 1830.28 73.7508 Q1826.64 73.7508 1822.67 73.0216 Q1818.74 72.3329 1814.36 70.9151 L1814.36 63.2184 Q1818.5 65.3654 1822.51 66.4591 Q1826.52 67.5124 1830.45 67.5124 Q1835.71 67.5124 1838.55 65.73 Q1841.38 63.9071 1841.38 60.6258 Q1841.38 57.5877 1839.32 55.9673 Q1837.29 54.3469 1830.36 52.8481 L1827.77 52.2405 Q1820.85 50.7821 1817.77 47.7845 Q1814.69 44.7463 1814.69 39.4801 Q1814.69 33.0797 1819.22 29.5959 Q1823.76 26.1121 1832.11 26.1121 Q1836.24 26.1121 1839.88 26.7198 Q1843.53 27.3274 1846.61 28.5427 Z\" fill=\"#000000\" fill-rule=\"nonzero\" fill-opacity=\"1\" /><circle clip-path=\"url(#clip362)\" cx=\"1067.9\" cy=\"1311.43\" r=\"7.2\" fill=\"#0000ff\" fill-rule=\"evenodd\" fill-opacity=\"1\" stroke=\"none\"/>\n",
       "<circle clip-path=\"url(#clip362)\" cx=\"1067.9\" cy=\"235.218\" r=\"7.2\" fill=\"#0000ff\" fill-rule=\"evenodd\" fill-opacity=\"1\" stroke=\"none\"/>\n",
       "<circle clip-path=\"url(#clip362)\" cx=\"1069.11\" cy=\"1310.23\" r=\"7.2\" fill=\"#0000ff\" fill-rule=\"evenodd\" fill-opacity=\"1\" stroke=\"none\"/>\n",
       "<circle clip-path=\"url(#clip362)\" cx=\"1069.11\" cy=\"236.426\" r=\"7.2\" fill=\"#0000ff\" fill-rule=\"evenodd\" fill-opacity=\"1\" stroke=\"none\"/>\n",
       "<circle clip-path=\"url(#clip362)\" cx=\"1071.13\" cy=\"1308.22\" r=\"7.2\" fill=\"#0000ff\" fill-rule=\"evenodd\" fill-opacity=\"1\" stroke=\"none\"/>\n",
       "<circle clip-path=\"url(#clip362)\" cx=\"1071.13\" cy=\"238.434\" r=\"7.2\" fill=\"#0000ff\" fill-rule=\"evenodd\" fill-opacity=\"1\" stroke=\"none\"/>\n",
       "<circle clip-path=\"url(#clip362)\" cx=\"1073.96\" cy=\"1305.41\" r=\"7.2\" fill=\"#0000ff\" fill-rule=\"evenodd\" fill-opacity=\"1\" stroke=\"none\"/>\n",
       "<circle clip-path=\"url(#clip362)\" cx=\"1073.96\" cy=\"241.237\" r=\"7.2\" fill=\"#0000ff\" fill-rule=\"evenodd\" fill-opacity=\"1\" stroke=\"none\"/>\n",
       "<circle clip-path=\"url(#clip362)\" cx=\"1077.59\" cy=\"1301.82\" r=\"7.2\" fill=\"#0000ff\" fill-rule=\"evenodd\" fill-opacity=\"1\" stroke=\"none\"/>\n",
       "<circle clip-path=\"url(#clip362)\" cx=\"1077.59\" cy=\"244.827\" r=\"7.2\" fill=\"#0000ff\" fill-rule=\"evenodd\" fill-opacity=\"1\" stroke=\"none\"/>\n",
       "<circle clip-path=\"url(#clip362)\" cx=\"1082.02\" cy=\"1297.46\" r=\"7.2\" fill=\"#0000ff\" fill-rule=\"evenodd\" fill-opacity=\"1\" stroke=\"none\"/>\n",
       "<circle clip-path=\"url(#clip362)\" cx=\"1082.02\" cy=\"249.192\" r=\"7.2\" fill=\"#0000ff\" fill-rule=\"evenodd\" fill-opacity=\"1\" stroke=\"none\"/>\n",
       "<circle clip-path=\"url(#clip362)\" cx=\"1087.24\" cy=\"1292.33\" r=\"7.2\" fill=\"#0000ff\" fill-rule=\"evenodd\" fill-opacity=\"1\" stroke=\"none\"/>\n",
       "<circle clip-path=\"url(#clip362)\" cx=\"1087.24\" cy=\"254.318\" r=\"7.2\" fill=\"#0000ff\" fill-rule=\"evenodd\" fill-opacity=\"1\" stroke=\"none\"/>\n",
       "<circle clip-path=\"url(#clip362)\" cx=\"1093.25\" cy=\"1286.46\" r=\"7.2\" fill=\"#0000ff\" fill-rule=\"evenodd\" fill-opacity=\"1\" stroke=\"none\"/>\n",
       "<circle clip-path=\"url(#clip362)\" cx=\"1093.25\" cy=\"260.19\" r=\"7.2\" fill=\"#0000ff\" fill-rule=\"evenodd\" fill-opacity=\"1\" stroke=\"none\"/>\n",
       "<circle clip-path=\"url(#clip362)\" cx=\"1100.04\" cy=\"1279.86\" r=\"7.2\" fill=\"#0000ff\" fill-rule=\"evenodd\" fill-opacity=\"1\" stroke=\"none\"/>\n",
       "<circle clip-path=\"url(#clip362)\" cx=\"1100.04\" cy=\"266.788\" r=\"7.2\" fill=\"#0000ff\" fill-rule=\"evenodd\" fill-opacity=\"1\" stroke=\"none\"/>\n",
       "<circle clip-path=\"url(#clip362)\" cx=\"1107.61\" cy=\"1272.56\" r=\"7.2\" fill=\"#0000ff\" fill-rule=\"evenodd\" fill-opacity=\"1\" stroke=\"none\"/>\n",
       "<circle clip-path=\"url(#clip362)\" cx=\"1107.61\" cy=\"274.09\" r=\"7.2\" fill=\"#0000ff\" fill-rule=\"evenodd\" fill-opacity=\"1\" stroke=\"none\"/>\n",
       "<circle clip-path=\"url(#clip362)\" cx=\"1115.94\" cy=\"1264.58\" r=\"7.2\" fill=\"#0000ff\" fill-rule=\"evenodd\" fill-opacity=\"1\" stroke=\"none\"/>\n",
       "<circle clip-path=\"url(#clip362)\" cx=\"1115.94\" cy=\"282.071\" r=\"7.2\" fill=\"#0000ff\" fill-rule=\"evenodd\" fill-opacity=\"1\" stroke=\"none\"/>\n",
       "<circle clip-path=\"url(#clip362)\" cx=\"1125.02\" cy=\"1255.95\" r=\"7.2\" fill=\"#0000ff\" fill-rule=\"evenodd\" fill-opacity=\"1\" stroke=\"none\"/>\n",
       "<circle clip-path=\"url(#clip362)\" cx=\"1125.02\" cy=\"290.701\" r=\"7.2\" fill=\"#0000ff\" fill-rule=\"evenodd\" fill-opacity=\"1\" stroke=\"none\"/>\n",
       "<circle clip-path=\"url(#clip362)\" cx=\"1134.86\" cy=\"1246.7\" r=\"7.2\" fill=\"#0000ff\" fill-rule=\"evenodd\" fill-opacity=\"1\" stroke=\"none\"/>\n",
       "<circle clip-path=\"url(#clip362)\" cx=\"1134.86\" cy=\"299.949\" r=\"7.2\" fill=\"#0000ff\" fill-rule=\"evenodd\" fill-opacity=\"1\" stroke=\"none\"/>\n",
       "<circle clip-path=\"url(#clip362)\" cx=\"1145.43\" cy=\"1236.87\" r=\"7.2\" fill=\"#0000ff\" fill-rule=\"evenodd\" fill-opacity=\"1\" stroke=\"none\"/>\n",
       "<circle clip-path=\"url(#clip362)\" cx=\"1145.43\" cy=\"309.778\" r=\"7.2\" fill=\"#0000ff\" fill-rule=\"evenodd\" fill-opacity=\"1\" stroke=\"none\"/>\n",
       "<circle clip-path=\"url(#clip362)\" cx=\"1156.73\" cy=\"1226.51\" r=\"7.2\" fill=\"#0000ff\" fill-rule=\"evenodd\" fill-opacity=\"1\" stroke=\"none\"/>\n",
       "<circle clip-path=\"url(#clip362)\" cx=\"1156.73\" cy=\"320.147\" r=\"7.2\" fill=\"#0000ff\" fill-rule=\"evenodd\" fill-opacity=\"1\" stroke=\"none\"/>\n",
       "<circle clip-path=\"url(#clip362)\" cx=\"1168.75\" cy=\"1215.64\" r=\"7.2\" fill=\"#0000ff\" fill-rule=\"evenodd\" fill-opacity=\"1\" stroke=\"none\"/>\n",
       "<circle clip-path=\"url(#clip362)\" cx=\"1168.75\" cy=\"331.008\" r=\"7.2\" fill=\"#0000ff\" fill-rule=\"evenodd\" fill-opacity=\"1\" stroke=\"none\"/>\n",
       "<circle clip-path=\"url(#clip362)\" cx=\"1181.48\" cy=\"1204.34\" r=\"7.2\" fill=\"#0000ff\" fill-rule=\"evenodd\" fill-opacity=\"1\" stroke=\"none\"/>\n",
       "<circle clip-path=\"url(#clip362)\" cx=\"1181.48\" cy=\"342.31\" r=\"7.2\" fill=\"#0000ff\" fill-rule=\"evenodd\" fill-opacity=\"1\" stroke=\"none\"/>\n",
       "<circle clip-path=\"url(#clip362)\" cx=\"1194.9\" cy=\"1192.66\" r=\"7.2\" fill=\"#0000ff\" fill-rule=\"evenodd\" fill-opacity=\"1\" stroke=\"none\"/>\n",
       "<circle clip-path=\"url(#clip362)\" cx=\"1194.9\" cy=\"353.992\" r=\"7.2\" fill=\"#0000ff\" fill-rule=\"evenodd\" fill-opacity=\"1\" stroke=\"none\"/>\n",
       "<circle clip-path=\"url(#clip362)\" cx=\"1209\" cy=\"1180.66\" r=\"7.2\" fill=\"#0000ff\" fill-rule=\"evenodd\" fill-opacity=\"1\" stroke=\"none\"/>\n",
       "<circle clip-path=\"url(#clip362)\" cx=\"1209\" cy=\"365.987\" r=\"7.2\" fill=\"#0000ff\" fill-rule=\"evenodd\" fill-opacity=\"1\" stroke=\"none\"/>\n",
       "<circle clip-path=\"url(#clip362)\" cx=\"1223.77\" cy=\"1168.43\" r=\"7.2\" fill=\"#0000ff\" fill-rule=\"evenodd\" fill-opacity=\"1\" stroke=\"none\"/>\n",
       "<circle clip-path=\"url(#clip362)\" cx=\"1223.77\" cy=\"378.217\" r=\"7.2\" fill=\"#0000ff\" fill-rule=\"evenodd\" fill-opacity=\"1\" stroke=\"none\"/>\n",
       "<circle clip-path=\"url(#clip362)\" cx=\"1239.18\" cy=\"1156.06\" r=\"7.2\" fill=\"#0000ff\" fill-rule=\"evenodd\" fill-opacity=\"1\" stroke=\"none\"/>\n",
       "<circle clip-path=\"url(#clip362)\" cx=\"1239.18\" cy=\"390.593\" r=\"7.2\" fill=\"#0000ff\" fill-rule=\"evenodd\" fill-opacity=\"1\" stroke=\"none\"/>\n",
       "<circle clip-path=\"url(#clip362)\" cx=\"1255.2\" cy=\"1143.64\" r=\"7.2\" fill=\"#0000ff\" fill-rule=\"evenodd\" fill-opacity=\"1\" stroke=\"none\"/>\n",
       "<circle clip-path=\"url(#clip362)\" cx=\"1255.2\" cy=\"403.011\" r=\"7.2\" fill=\"#0000ff\" fill-rule=\"evenodd\" fill-opacity=\"1\" stroke=\"none\"/>\n",
       "<circle clip-path=\"url(#clip362)\" cx=\"1271.82\" cy=\"1131.3\" r=\"7.2\" fill=\"#0000ff\" fill-rule=\"evenodd\" fill-opacity=\"1\" stroke=\"none\"/>\n",
       "<circle clip-path=\"url(#clip362)\" cx=\"1271.82\" cy=\"415.351\" r=\"7.2\" fill=\"#0000ff\" fill-rule=\"evenodd\" fill-opacity=\"1\" stroke=\"none\"/>\n",
       "<circle clip-path=\"url(#clip362)\" cx=\"1288.97\" cy=\"1119.18\" r=\"7.2\" fill=\"#0000ff\" fill-rule=\"evenodd\" fill-opacity=\"1\" stroke=\"none\"/>\n",
       "<circle clip-path=\"url(#clip362)\" cx=\"1288.97\" cy=\"427.474\" r=\"7.2\" fill=\"#0000ff\" fill-rule=\"evenodd\" fill-opacity=\"1\" stroke=\"none\"/>\n",
       "<circle clip-path=\"url(#clip362)\" cx=\"1306.59\" cy=\"1107.43\" r=\"7.2\" fill=\"#0000ff\" fill-rule=\"evenodd\" fill-opacity=\"1\" stroke=\"none\"/>\n",
       "<circle clip-path=\"url(#clip362)\" cx=\"1306.59\" cy=\"439.219\" r=\"7.2\" fill=\"#0000ff\" fill-rule=\"evenodd\" fill-opacity=\"1\" stroke=\"none\"/>\n",
       "<circle clip-path=\"url(#clip362)\" cx=\"1324.58\" cy=\"1096.25\" r=\"7.2\" fill=\"#0000ff\" fill-rule=\"evenodd\" fill-opacity=\"1\" stroke=\"none\"/>\n",
       "<circle clip-path=\"url(#clip362)\" cx=\"1324.58\" cy=\"450.401\" r=\"7.2\" fill=\"#0000ff\" fill-rule=\"evenodd\" fill-opacity=\"1\" stroke=\"none\"/>\n",
       "<circle clip-path=\"url(#clip362)\" cx=\"1342.79\" cy=\"1085.84\" r=\"7.2\" fill=\"#0000ff\" fill-rule=\"evenodd\" fill-opacity=\"1\" stroke=\"none\"/>\n",
       "<circle clip-path=\"url(#clip362)\" cx=\"1342.79\" cy=\"460.811\" r=\"7.2\" fill=\"#0000ff\" fill-rule=\"evenodd\" fill-opacity=\"1\" stroke=\"none\"/>\n",
       "<circle clip-path=\"url(#clip362)\" cx=\"1361.01\" cy=\"1076.43\" r=\"7.2\" fill=\"#0000ff\" fill-rule=\"evenodd\" fill-opacity=\"1\" stroke=\"none\"/>\n",
       "<circle clip-path=\"url(#clip362)\" cx=\"1361.01\" cy=\"470.225\" r=\"7.2\" fill=\"#0000ff\" fill-rule=\"evenodd\" fill-opacity=\"1\" stroke=\"none\"/>\n",
       "<circle clip-path=\"url(#clip362)\" cx=\"1378.94\" cy=\"1068.23\" r=\"7.2\" fill=\"#0000ff\" fill-rule=\"evenodd\" fill-opacity=\"1\" stroke=\"none\"/>\n",
       "<circle clip-path=\"url(#clip362)\" cx=\"1378.94\" cy=\"478.42\" r=\"7.2\" fill=\"#0000ff\" fill-rule=\"evenodd\" fill-opacity=\"1\" stroke=\"none\"/>\n",
       "<circle clip-path=\"url(#clip362)\" cx=\"1396.15\" cy=\"1061.44\" r=\"7.2\" fill=\"#0000ff\" fill-rule=\"evenodd\" fill-opacity=\"1\" stroke=\"none\"/>\n",
       "<circle clip-path=\"url(#clip362)\" cx=\"1396.15\" cy=\"485.209\" r=\"7.2\" fill=\"#0000ff\" fill-rule=\"evenodd\" fill-opacity=\"1\" stroke=\"none\"/>\n",
       "<circle clip-path=\"url(#clip362)\" cx=\"1412.1\" cy=\"1056.15\" r=\"7.2\" fill=\"#0000ff\" fill-rule=\"evenodd\" fill-opacity=\"1\" stroke=\"none\"/>\n",
       "<circle clip-path=\"url(#clip362)\" cx=\"1412.1\" cy=\"490.503\" r=\"7.2\" fill=\"#0000ff\" fill-rule=\"evenodd\" fill-opacity=\"1\" stroke=\"none\"/>\n",
       "<circle clip-path=\"url(#clip362)\" cx=\"1426.09\" cy=\"1052.25\" r=\"7.2\" fill=\"#0000ff\" fill-rule=\"evenodd\" fill-opacity=\"1\" stroke=\"none\"/>\n",
       "<circle clip-path=\"url(#clip362)\" cx=\"1426.09\" cy=\"494.406\" r=\"7.2\" fill=\"#0000ff\" fill-rule=\"evenodd\" fill-opacity=\"1\" stroke=\"none\"/>\n",
       "<circle clip-path=\"url(#clip362)\" cx=\"1433\" cy=\"784.64\" r=\"7.2\" fill=\"#0000ff\" fill-rule=\"evenodd\" fill-opacity=\"1\" stroke=\"none\"/>\n",
       "<circle clip-path=\"url(#clip362)\" cx=\"1433\" cy=\"762.012\" r=\"7.2\" fill=\"#0000ff\" fill-rule=\"evenodd\" fill-opacity=\"1\" stroke=\"none\"/>\n",
       "<circle clip-path=\"url(#clip362)\" cx=\"1433.19\" cy=\"807.223\" r=\"7.2\" fill=\"#0000ff\" fill-rule=\"evenodd\" fill-opacity=\"1\" stroke=\"none\"/>\n",
       "<circle clip-path=\"url(#clip362)\" cx=\"1433.19\" cy=\"739.429\" r=\"7.2\" fill=\"#0000ff\" fill-rule=\"evenodd\" fill-opacity=\"1\" stroke=\"none\"/>\n",
       "<circle clip-path=\"url(#clip362)\" cx=\"1433.57\" cy=\"829.67\" r=\"7.2\" fill=\"#0000ff\" fill-rule=\"evenodd\" fill-opacity=\"1\" stroke=\"none\"/>\n",
       "<circle clip-path=\"url(#clip362)\" cx=\"1433.57\" cy=\"716.982\" r=\"7.2\" fill=\"#0000ff\" fill-rule=\"evenodd\" fill-opacity=\"1\" stroke=\"none\"/>\n",
       "<circle clip-path=\"url(#clip362)\" cx=\"1434.15\" cy=\"851.886\" r=\"7.2\" fill=\"#0000ff\" fill-rule=\"evenodd\" fill-opacity=\"1\" stroke=\"none\"/>\n",
       "<circle clip-path=\"url(#clip362)\" cx=\"1434.15\" cy=\"694.766\" r=\"7.2\" fill=\"#0000ff\" fill-rule=\"evenodd\" fill-opacity=\"1\" stroke=\"none\"/>\n",
       "<circle clip-path=\"url(#clip362)\" cx=\"1434.94\" cy=\"873.769\" r=\"7.2\" fill=\"#0000ff\" fill-rule=\"evenodd\" fill-opacity=\"1\" stroke=\"none\"/>\n",
       "<circle clip-path=\"url(#clip362)\" cx=\"1434.94\" cy=\"672.883\" r=\"7.2\" fill=\"#0000ff\" fill-rule=\"evenodd\" fill-opacity=\"1\" stroke=\"none\"/>\n",
       "<circle clip-path=\"url(#clip362)\" cx=\"1435.95\" cy=\"895.205\" r=\"7.2\" fill=\"#0000ff\" fill-rule=\"evenodd\" fill-opacity=\"1\" stroke=\"none\"/>\n",
       "<circle clip-path=\"url(#clip362)\" cx=\"1435.95\" cy=\"651.447\" r=\"7.2\" fill=\"#0000ff\" fill-rule=\"evenodd\" fill-opacity=\"1\" stroke=\"none\"/>\n",
       "<circle clip-path=\"url(#clip362)\" cx=\"1437.21\" cy=\"916.068\" r=\"7.2\" fill=\"#0000ff\" fill-rule=\"evenodd\" fill-opacity=\"1\" stroke=\"none\"/>\n",
       "<circle clip-path=\"url(#clip362)\" cx=\"1437.21\" cy=\"630.584\" r=\"7.2\" fill=\"#0000ff\" fill-rule=\"evenodd\" fill-opacity=\"1\" stroke=\"none\"/>\n",
       "<circle clip-path=\"url(#clip362)\" cx=\"1437.44\" cy=\"1049.35\" r=\"7.2\" fill=\"#0000ff\" fill-rule=\"evenodd\" fill-opacity=\"1\" stroke=\"none\"/>\n",
       "<circle clip-path=\"url(#clip362)\" cx=\"1437.44\" cy=\"497.302\" r=\"7.2\" fill=\"#0000ff\" fill-rule=\"evenodd\" fill-opacity=\"1\" stroke=\"none\"/>\n",
       "<circle clip-path=\"url(#clip362)\" cx=\"1438.73\" cy=\"936.209\" r=\"7.2\" fill=\"#0000ff\" fill-rule=\"evenodd\" fill-opacity=\"1\" stroke=\"none\"/>\n",
       "<circle clip-path=\"url(#clip362)\" cx=\"1438.73\" cy=\"610.443\" r=\"7.2\" fill=\"#0000ff\" fill-rule=\"evenodd\" fill-opacity=\"1\" stroke=\"none\"/>\n",
       "<circle clip-path=\"url(#clip362)\" cx=\"1440.51\" cy=\"955.454\" r=\"7.2\" fill=\"#0000ff\" fill-rule=\"evenodd\" fill-opacity=\"1\" stroke=\"none\"/>\n",
       "<circle clip-path=\"url(#clip362)\" cx=\"1440.51\" cy=\"591.198\" r=\"7.2\" fill=\"#0000ff\" fill-rule=\"evenodd\" fill-opacity=\"1\" stroke=\"none\"/>\n",
       "<circle clip-path=\"url(#clip362)\" cx=\"1442.53\" cy=\"973.593\" r=\"7.2\" fill=\"#0000ff\" fill-rule=\"evenodd\" fill-opacity=\"1\" stroke=\"none\"/>\n",
       "<circle clip-path=\"url(#clip362)\" cx=\"1442.53\" cy=\"573.059\" r=\"7.2\" fill=\"#0000ff\" fill-rule=\"evenodd\" fill-opacity=\"1\" stroke=\"none\"/>\n",
       "<circle clip-path=\"url(#clip362)\" cx=\"1444.75\" cy=\"990.377\" r=\"7.2\" fill=\"#0000ff\" fill-rule=\"evenodd\" fill-opacity=\"1\" stroke=\"none\"/>\n",
       "<circle clip-path=\"url(#clip362)\" cx=\"1444.75\" cy=\"556.275\" r=\"7.2\" fill=\"#0000ff\" fill-rule=\"evenodd\" fill-opacity=\"1\" stroke=\"none\"/>\n",
       "<circle clip-path=\"url(#clip362)\" cx=\"1445.52\" cy=\"1046.74\" r=\"7.2\" fill=\"#0000ff\" fill-rule=\"evenodd\" fill-opacity=\"1\" stroke=\"none\"/>\n",
       "<circle clip-path=\"url(#clip362)\" cx=\"1445.52\" cy=\"499.917\" r=\"7.2\" fill=\"#0000ff\" fill-rule=\"evenodd\" fill-opacity=\"1\" stroke=\"none\"/>\n",
       "<circle clip-path=\"url(#clip362)\" cx=\"1447.05\" cy=\"1005.51\" r=\"7.2\" fill=\"#0000ff\" fill-rule=\"evenodd\" fill-opacity=\"1\" stroke=\"none\"/>\n",
       "<circle clip-path=\"url(#clip362)\" cx=\"1447.05\" cy=\"541.14\" r=\"7.2\" fill=\"#0000ff\" fill-rule=\"evenodd\" fill-opacity=\"1\" stroke=\"none\"/>\n",
       "<circle clip-path=\"url(#clip362)\" cx=\"1449.21\" cy=\"1018.67\" r=\"7.2\" fill=\"#0000ff\" fill-rule=\"evenodd\" fill-opacity=\"1\" stroke=\"none\"/>\n",
       "<circle clip-path=\"url(#clip362)\" cx=\"1449.21\" cy=\"527.981\" r=\"7.2\" fill=\"#0000ff\" fill-rule=\"evenodd\" fill-opacity=\"1\" stroke=\"none\"/>\n",
       "<circle clip-path=\"url(#clip362)\" cx=\"1450.04\" cy=\"1043.32\" r=\"7.2\" fill=\"#0000ff\" fill-rule=\"evenodd\" fill-opacity=\"1\" stroke=\"none\"/>\n",
       "<circle clip-path=\"url(#clip362)\" cx=\"1450.04\" cy=\"503.333\" r=\"7.2\" fill=\"#0000ff\" fill-rule=\"evenodd\" fill-opacity=\"1\" stroke=\"none\"/>\n",
       "<circle clip-path=\"url(#clip362)\" cx=\"1450.86\" cy=\"1029.52\" r=\"7.2\" fill=\"#0000ff\" fill-rule=\"evenodd\" fill-opacity=\"1\" stroke=\"none\"/>\n",
       "<circle clip-path=\"url(#clip362)\" cx=\"1450.86\" cy=\"517.135\" r=\"7.2\" fill=\"#0000ff\" fill-rule=\"evenodd\" fill-opacity=\"1\" stroke=\"none\"/>\n",
       "<circle clip-path=\"url(#clip362)\" cx=\"1451.43\" cy=\"1037.77\" r=\"7.2\" fill=\"#0000ff\" fill-rule=\"evenodd\" fill-opacity=\"1\" stroke=\"none\"/>\n",
       "<circle clip-path=\"url(#clip362)\" cx=\"1451.43\" cy=\"508.882\" r=\"7.2\" fill=\"#0000ff\" fill-rule=\"evenodd\" fill-opacity=\"1\" stroke=\"none\"/>\n",
       "<circle clip-path=\"url(#clip362)\" cx=\"1005.18\" cy=\"1287.74\" r=\"7.2\" fill=\"#ff0000\" fill-rule=\"evenodd\" fill-opacity=\"1\" stroke=\"none\"/>\n",
       "<circle clip-path=\"url(#clip362)\" cx=\"1005.18\" cy=\"258.915\" r=\"7.2\" fill=\"#ff0000\" fill-rule=\"evenodd\" fill-opacity=\"1\" stroke=\"none\"/>\n",
       "<circle clip-path=\"url(#clip362)\" cx=\"1009.01\" cy=\"1257.75\" r=\"7.2\" fill=\"#ff0000\" fill-rule=\"evenodd\" fill-opacity=\"1\" stroke=\"none\"/>\n",
       "<circle clip-path=\"url(#clip362)\" cx=\"1009.01\" cy=\"288.899\" r=\"7.2\" fill=\"#ff0000\" fill-rule=\"evenodd\" fill-opacity=\"1\" stroke=\"none\"/>\n",
       "<circle clip-path=\"url(#clip362)\" cx=\"1009.46\" cy=\"1316.69\" r=\"7.2\" fill=\"#ff0000\" fill-rule=\"evenodd\" fill-opacity=\"1\" stroke=\"none\"/>\n",
       "<circle clip-path=\"url(#clip362)\" cx=\"1009.46\" cy=\"229.962\" r=\"7.2\" fill=\"#ff0000\" fill-rule=\"evenodd\" fill-opacity=\"1\" stroke=\"none\"/>\n",
       "<circle clip-path=\"url(#clip362)\" cx=\"1019.73\" cy=\"1228.87\" r=\"7.2\" fill=\"#ff0000\" fill-rule=\"evenodd\" fill-opacity=\"1\" stroke=\"none\"/>\n",
       "<circle clip-path=\"url(#clip362)\" cx=\"1019.73\" cy=\"317.784\" r=\"7.2\" fill=\"#ff0000\" fill-rule=\"evenodd\" fill-opacity=\"1\" stroke=\"none\"/>\n",
       "<circle clip-path=\"url(#clip362)\" cx=\"1022.22\" cy=\"1342.47\" r=\"7.2\" fill=\"#ff0000\" fill-rule=\"evenodd\" fill-opacity=\"1\" stroke=\"none\"/>\n",
       "<circle clip-path=\"url(#clip362)\" cx=\"1022.22\" cy=\"204.185\" r=\"7.2\" fill=\"#ff0000\" fill-rule=\"evenodd\" fill-opacity=\"1\" stroke=\"none\"/>\n",
       "<circle clip-path=\"url(#clip362)\" cx=\"1034.74\" cy=\"1201.22\" r=\"7.2\" fill=\"#ff0000\" fill-rule=\"evenodd\" fill-opacity=\"1\" stroke=\"none\"/>\n",
       "<circle clip-path=\"url(#clip362)\" cx=\"1034.74\" cy=\"345.431\" r=\"7.2\" fill=\"#ff0000\" fill-rule=\"evenodd\" fill-opacity=\"1\" stroke=\"none\"/>\n",
       "<circle clip-path=\"url(#clip362)\" cx=\"1042.8\" cy=\"1362.45\" r=\"7.2\" fill=\"#ff0000\" fill-rule=\"evenodd\" fill-opacity=\"1\" stroke=\"none\"/>\n",
       "<circle clip-path=\"url(#clip362)\" cx=\"1042.8\" cy=\"184.207\" r=\"7.2\" fill=\"#ff0000\" fill-rule=\"evenodd\" fill-opacity=\"1\" stroke=\"none\"/>\n",
       "<circle clip-path=\"url(#clip362)\" cx=\"1054.73\" cy=\"1173.1\" r=\"7.2\" fill=\"#ff0000\" fill-rule=\"evenodd\" fill-opacity=\"1\" stroke=\"none\"/>\n",
       "<circle clip-path=\"url(#clip362)\" cx=\"1054.73\" cy=\"373.548\" r=\"7.2\" fill=\"#ff0000\" fill-rule=\"evenodd\" fill-opacity=\"1\" stroke=\"none\"/>\n",
       "<circle clip-path=\"url(#clip362)\" cx=\"1068.18\" cy=\"1375.27\" r=\"7.2\" fill=\"#ff0000\" fill-rule=\"evenodd\" fill-opacity=\"1\" stroke=\"none\"/>\n",
       "<circle clip-path=\"url(#clip362)\" cx=\"1068.18\" cy=\"171.378\" r=\"7.2\" fill=\"#ff0000\" fill-rule=\"evenodd\" fill-opacity=\"1\" stroke=\"none\"/>\n",
       "<circle clip-path=\"url(#clip362)\" cx=\"1082\" cy=\"1146.67\" r=\"7.2\" fill=\"#ff0000\" fill-rule=\"evenodd\" fill-opacity=\"1\" stroke=\"none\"/>\n",
       "<circle clip-path=\"url(#clip362)\" cx=\"1082\" cy=\"399.977\" r=\"7.2\" fill=\"#ff0000\" fill-rule=\"evenodd\" fill-opacity=\"1\" stroke=\"none\"/>\n",
       "<circle clip-path=\"url(#clip362)\" cx=\"1097.41\" cy=\"1383.71\" r=\"7.2\" fill=\"#ff0000\" fill-rule=\"evenodd\" fill-opacity=\"1\" stroke=\"none\"/>\n",
       "<circle clip-path=\"url(#clip362)\" cx=\"1097.41\" cy=\"162.94\" r=\"7.2\" fill=\"#ff0000\" fill-rule=\"evenodd\" fill-opacity=\"1\" stroke=\"none\"/>\n",
       "<circle clip-path=\"url(#clip362)\" cx=\"1120.66\" cy=\"1124.02\" r=\"7.2\" fill=\"#ff0000\" fill-rule=\"evenodd\" fill-opacity=\"1\" stroke=\"none\"/>\n",
       "<circle clip-path=\"url(#clip362)\" cx=\"1120.66\" cy=\"422.63\" r=\"7.2\" fill=\"#ff0000\" fill-rule=\"evenodd\" fill-opacity=\"1\" stroke=\"none\"/>\n",
       "<circle clip-path=\"url(#clip362)\" cx=\"1128.57\" cy=\"1133.45\" r=\"7.2\" fill=\"#ff0000\" fill-rule=\"evenodd\" fill-opacity=\"1\" stroke=\"none\"/>\n",
       "<circle clip-path=\"url(#clip362)\" cx=\"1128.57\" cy=\"413.203\" r=\"7.2\" fill=\"#ff0000\" fill-rule=\"evenodd\" fill-opacity=\"1\" stroke=\"none\"/>\n",
       "<circle clip-path=\"url(#clip362)\" cx=\"1133.44\" cy=\"1386.4\" r=\"7.2\" fill=\"#ff0000\" fill-rule=\"evenodd\" fill-opacity=\"1\" stroke=\"none\"/>\n",
       "<circle clip-path=\"url(#clip362)\" cx=\"1133.44\" cy=\"160.256\" r=\"7.2\" fill=\"#ff0000\" fill-rule=\"evenodd\" fill-opacity=\"1\" stroke=\"none\"/>\n",
       "<circle clip-path=\"url(#clip362)\" cx=\"1154.96\" cy=\"1093.16\" r=\"7.2\" fill=\"#ff0000\" fill-rule=\"evenodd\" fill-opacity=\"1\" stroke=\"none\"/>\n",
       "<circle clip-path=\"url(#clip362)\" cx=\"1154.96\" cy=\"453.489\" r=\"7.2\" fill=\"#ff0000\" fill-rule=\"evenodd\" fill-opacity=\"1\" stroke=\"none\"/>\n",
       "<circle clip-path=\"url(#clip362)\" cx=\"1174.44\" cy=\"1380.18\" r=\"7.2\" fill=\"#ff0000\" fill-rule=\"evenodd\" fill-opacity=\"1\" stroke=\"none\"/>\n",
       "<circle clip-path=\"url(#clip362)\" cx=\"1174.44\" cy=\"166.469\" r=\"7.2\" fill=\"#ff0000\" fill-rule=\"evenodd\" fill-opacity=\"1\" stroke=\"none\"/>\n",
       "<circle clip-path=\"url(#clip362)\" cx=\"1189.41\" cy=\"1072.22\" r=\"7.2\" fill=\"#ff0000\" fill-rule=\"evenodd\" fill-opacity=\"1\" stroke=\"none\"/>\n",
       "<circle clip-path=\"url(#clip362)\" cx=\"1189.41\" cy=\"474.435\" r=\"7.2\" fill=\"#ff0000\" fill-rule=\"evenodd\" fill-opacity=\"1\" stroke=\"none\"/>\n",
       "<circle clip-path=\"url(#clip362)\" cx=\"1218.27\" cy=\"1365.02\" r=\"7.2\" fill=\"#ff0000\" fill-rule=\"evenodd\" fill-opacity=\"1\" stroke=\"none\"/>\n",
       "<circle clip-path=\"url(#clip362)\" cx=\"1218.27\" cy=\"181.635\" r=\"7.2\" fill=\"#ff0000\" fill-rule=\"evenodd\" fill-opacity=\"1\" stroke=\"none\"/>\n",
       "<circle clip-path=\"url(#clip362)\" cx=\"1225.41\" cy=\"1056.56\" r=\"7.2\" fill=\"#ff0000\" fill-rule=\"evenodd\" fill-opacity=\"1\" stroke=\"none\"/>\n",
       "<circle clip-path=\"url(#clip362)\" cx=\"1225.41\" cy=\"490.097\" r=\"7.2\" fill=\"#ff0000\" fill-rule=\"evenodd\" fill-opacity=\"1\" stroke=\"none\"/>\n",
       "<circle clip-path=\"url(#clip362)\" cx=\"1261.36\" cy=\"1045.35\" r=\"7.2\" fill=\"#ff0000\" fill-rule=\"evenodd\" fill-opacity=\"1\" stroke=\"none\"/>\n",
       "<circle clip-path=\"url(#clip362)\" cx=\"1261.36\" cy=\"501.298\" r=\"7.2\" fill=\"#ff0000\" fill-rule=\"evenodd\" fill-opacity=\"1\" stroke=\"none\"/>\n",
       "<circle clip-path=\"url(#clip362)\" cx=\"1263.8\" cy=\"1340.86\" r=\"7.2\" fill=\"#ff0000\" fill-rule=\"evenodd\" fill-opacity=\"1\" stroke=\"none\"/>\n",
       "<circle clip-path=\"url(#clip362)\" cx=\"1263.8\" cy=\"205.793\" r=\"7.2\" fill=\"#ff0000\" fill-rule=\"evenodd\" fill-opacity=\"1\" stroke=\"none\"/>\n",
       "<circle clip-path=\"url(#clip362)\" cx=\"1296.34\" cy=\"1038.04\" r=\"7.2\" fill=\"#ff0000\" fill-rule=\"evenodd\" fill-opacity=\"1\" stroke=\"none\"/>\n",
       "<circle clip-path=\"url(#clip362)\" cx=\"1296.34\" cy=\"508.609\" r=\"7.2\" fill=\"#ff0000\" fill-rule=\"evenodd\" fill-opacity=\"1\" stroke=\"none\"/>\n",
       "<circle clip-path=\"url(#clip362)\" cx=\"1309.72\" cy=\"1307.62\" r=\"7.2\" fill=\"#ff0000\" fill-rule=\"evenodd\" fill-opacity=\"1\" stroke=\"none\"/>\n",
       "<circle clip-path=\"url(#clip362)\" cx=\"1309.72\" cy=\"239.027\" r=\"7.2\" fill=\"#ff0000\" fill-rule=\"evenodd\" fill-opacity=\"1\" stroke=\"none\"/>\n",
       "<circle clip-path=\"url(#clip362)\" cx=\"1329.26\" cy=\"1034.34\" r=\"7.2\" fill=\"#ff0000\" fill-rule=\"evenodd\" fill-opacity=\"1\" stroke=\"none\"/>\n",
       "<circle clip-path=\"url(#clip362)\" cx=\"1329.26\" cy=\"512.307\" r=\"7.2\" fill=\"#ff0000\" fill-rule=\"evenodd\" fill-opacity=\"1\" stroke=\"none\"/>\n",
       "<circle clip-path=\"url(#clip362)\" cx=\"1354.45\" cy=\"1265.71\" r=\"7.2\" fill=\"#ff0000\" fill-rule=\"evenodd\" fill-opacity=\"1\" stroke=\"none\"/>\n",
       "<circle clip-path=\"url(#clip362)\" cx=\"1354.45\" cy=\"280.937\" r=\"7.2\" fill=\"#ff0000\" fill-rule=\"evenodd\" fill-opacity=\"1\" stroke=\"none\"/>\n",
       "<circle clip-path=\"url(#clip362)\" cx=\"1359.11\" cy=\"1033.56\" r=\"7.2\" fill=\"#ff0000\" fill-rule=\"evenodd\" fill-opacity=\"1\" stroke=\"none\"/>\n",
       "<circle clip-path=\"url(#clip362)\" cx=\"1359.11\" cy=\"513.091\" r=\"7.2\" fill=\"#ff0000\" fill-rule=\"evenodd\" fill-opacity=\"1\" stroke=\"none\"/>\n",
       "<circle clip-path=\"url(#clip362)\" cx=\"1383.36\" cy=\"773.326\" r=\"7.2\" fill=\"#ff0000\" fill-rule=\"evenodd\" fill-opacity=\"1\" stroke=\"none\"/>\n",
       "<circle clip-path=\"url(#clip362)\" cx=\"1384.25\" cy=\"807.556\" r=\"7.2\" fill=\"#ff0000\" fill-rule=\"evenodd\" fill-opacity=\"1\" stroke=\"none\"/>\n",
       "<circle clip-path=\"url(#clip362)\" cx=\"1384.25\" cy=\"739.096\" r=\"7.2\" fill=\"#ff0000\" fill-rule=\"evenodd\" fill-opacity=\"1\" stroke=\"none\"/>\n",
       "<circle clip-path=\"url(#clip362)\" cx=\"1385.09\" cy=\"1034.89\" r=\"7.2\" fill=\"#ff0000\" fill-rule=\"evenodd\" fill-opacity=\"1\" stroke=\"none\"/>\n",
       "<circle clip-path=\"url(#clip362)\" cx=\"1385.09\" cy=\"511.764\" r=\"7.2\" fill=\"#ff0000\" fill-rule=\"evenodd\" fill-opacity=\"1\" stroke=\"none\"/>\n",
       "<circle clip-path=\"url(#clip362)\" cx=\"1386.73\" cy=\"841.336\" r=\"7.2\" fill=\"#ff0000\" fill-rule=\"evenodd\" fill-opacity=\"1\" stroke=\"none\"/>\n",
       "<circle clip-path=\"url(#clip362)\" cx=\"1386.73\" cy=\"705.315\" r=\"7.2\" fill=\"#ff0000\" fill-rule=\"evenodd\" fill-opacity=\"1\" stroke=\"none\"/>\n",
       "<circle clip-path=\"url(#clip362)\" cx=\"1391\" cy=\"874.537\" r=\"7.2\" fill=\"#ff0000\" fill-rule=\"evenodd\" fill-opacity=\"1\" stroke=\"none\"/>\n",
       "<circle clip-path=\"url(#clip362)\" cx=\"1391\" cy=\"672.115\" r=\"7.2\" fill=\"#ff0000\" fill-rule=\"evenodd\" fill-opacity=\"1\" stroke=\"none\"/>\n",
       "<circle clip-path=\"url(#clip362)\" cx=\"1396.7\" cy=\"1216.02\" r=\"7.2\" fill=\"#ff0000\" fill-rule=\"evenodd\" fill-opacity=\"1\" stroke=\"none\"/>\n",
       "<circle clip-path=\"url(#clip362)\" cx=\"1396.7\" cy=\"330.631\" r=\"7.2\" fill=\"#ff0000\" fill-rule=\"evenodd\" fill-opacity=\"1\" stroke=\"none\"/>\n",
       "<circle clip-path=\"url(#clip362)\" cx=\"1397.44\" cy=\"906.262\" r=\"7.2\" fill=\"#ff0000\" fill-rule=\"evenodd\" fill-opacity=\"1\" stroke=\"none\"/>\n",
       "<circle clip-path=\"url(#clip362)\" cx=\"1397.44\" cy=\"640.39\" r=\"7.2\" fill=\"#ff0000\" fill-rule=\"evenodd\" fill-opacity=\"1\" stroke=\"none\"/>\n",
       "<circle clip-path=\"url(#clip362)\" cx=\"1405.75\" cy=\"935.402\" r=\"7.2\" fill=\"#ff0000\" fill-rule=\"evenodd\" fill-opacity=\"1\" stroke=\"none\"/>\n",
       "<circle clip-path=\"url(#clip362)\" cx=\"1405.75\" cy=\"611.25\" r=\"7.2\" fill=\"#ff0000\" fill-rule=\"evenodd\" fill-opacity=\"1\" stroke=\"none\"/>\n",
       "<circle clip-path=\"url(#clip362)\" cx=\"1406.68\" cy=\"1037.31\" r=\"7.2\" fill=\"#ff0000\" fill-rule=\"evenodd\" fill-opacity=\"1\" stroke=\"none\"/>\n",
       "<circle clip-path=\"url(#clip362)\" cx=\"1406.68\" cy=\"509.346\" r=\"7.2\" fill=\"#ff0000\" fill-rule=\"evenodd\" fill-opacity=\"1\" stroke=\"none\"/>\n",
       "<circle clip-path=\"url(#clip362)\" cx=\"1415.1\" cy=\"960.939\" r=\"7.2\" fill=\"#ff0000\" fill-rule=\"evenodd\" fill-opacity=\"1\" stroke=\"none\"/>\n",
       "<circle clip-path=\"url(#clip362)\" cx=\"1415.1\" cy=\"585.713\" r=\"7.2\" fill=\"#ff0000\" fill-rule=\"evenodd\" fill-opacity=\"1\" stroke=\"none\"/>\n",
       "<circle clip-path=\"url(#clip362)\" cx=\"1423.82\" cy=\"1039.8\" r=\"7.2\" fill=\"#ff0000\" fill-rule=\"evenodd\" fill-opacity=\"1\" stroke=\"none\"/>\n",
       "<circle clip-path=\"url(#clip362)\" cx=\"1423.82\" cy=\"506.853\" r=\"7.2\" fill=\"#ff0000\" fill-rule=\"evenodd\" fill-opacity=\"1\" stroke=\"none\"/>\n",
       "<circle clip-path=\"url(#clip362)\" cx=\"1424.02\" cy=\"982.516\" r=\"7.2\" fill=\"#ff0000\" fill-rule=\"evenodd\" fill-opacity=\"1\" stroke=\"none\"/>\n",
       "<circle clip-path=\"url(#clip362)\" cx=\"1424.02\" cy=\"564.136\" r=\"7.2\" fill=\"#ff0000\" fill-rule=\"evenodd\" fill-opacity=\"1\" stroke=\"none\"/>\n",
       "<circle clip-path=\"url(#clip362)\" cx=\"1431.66\" cy=\"1000.93\" r=\"7.2\" fill=\"#ff0000\" fill-rule=\"evenodd\" fill-opacity=\"1\" stroke=\"none\"/>\n",
       "<circle clip-path=\"url(#clip362)\" cx=\"1431.66\" cy=\"545.719\" r=\"7.2\" fill=\"#ff0000\" fill-rule=\"evenodd\" fill-opacity=\"1\" stroke=\"none\"/>\n",
       "<circle clip-path=\"url(#clip362)\" cx=\"1435.41\" cy=\"1159.72\" r=\"7.2\" fill=\"#ff0000\" fill-rule=\"evenodd\" fill-opacity=\"1\" stroke=\"none\"/>\n",
       "<circle clip-path=\"url(#clip362)\" cx=\"1435.41\" cy=\"386.936\" r=\"7.2\" fill=\"#ff0000\" fill-rule=\"evenodd\" fill-opacity=\"1\" stroke=\"none\"/>\n",
       "<circle clip-path=\"url(#clip362)\" cx=\"1436.59\" cy=\"1041.86\" r=\"7.2\" fill=\"#ff0000\" fill-rule=\"evenodd\" fill-opacity=\"1\" stroke=\"none\"/>\n",
       "<circle clip-path=\"url(#clip362)\" cx=\"1436.59\" cy=\"504.795\" r=\"7.2\" fill=\"#ff0000\" fill-rule=\"evenodd\" fill-opacity=\"1\" stroke=\"none\"/>\n",
       "<circle clip-path=\"url(#clip362)\" cx=\"1438.2\" cy=\"1016.5\" r=\"7.2\" fill=\"#ff0000\" fill-rule=\"evenodd\" fill-opacity=\"1\" stroke=\"none\"/>\n",
       "<circle clip-path=\"url(#clip362)\" cx=\"1438.2\" cy=\"530.152\" r=\"7.2\" fill=\"#ff0000\" fill-rule=\"evenodd\" fill-opacity=\"1\" stroke=\"none\"/>\n",
       "<circle clip-path=\"url(#clip362)\" cx=\"1443.53\" cy=\"1028.82\" r=\"7.2\" fill=\"#ff0000\" fill-rule=\"evenodd\" fill-opacity=\"1\" stroke=\"none\"/>\n",
       "<circle clip-path=\"url(#clip362)\" cx=\"1443.53\" cy=\"517.835\" r=\"7.2\" fill=\"#ff0000\" fill-rule=\"evenodd\" fill-opacity=\"1\" stroke=\"none\"/>\n",
       "<circle clip-path=\"url(#clip362)\" cx=\"1444.77\" cy=\"1042.84\" r=\"7.2\" fill=\"#ff0000\" fill-rule=\"evenodd\" fill-opacity=\"1\" stroke=\"none\"/>\n",
       "<circle clip-path=\"url(#clip362)\" cx=\"1444.77\" cy=\"503.809\" r=\"7.2\" fill=\"#ff0000\" fill-rule=\"evenodd\" fill-opacity=\"1\" stroke=\"none\"/>\n",
       "<circle clip-path=\"url(#clip362)\" cx=\"1447.15\" cy=\"1037.43\" r=\"7.2\" fill=\"#ff0000\" fill-rule=\"evenodd\" fill-opacity=\"1\" stroke=\"none\"/>\n",
       "<circle clip-path=\"url(#clip362)\" cx=\"1447.15\" cy=\"509.219\" r=\"7.2\" fill=\"#ff0000\" fill-rule=\"evenodd\" fill-opacity=\"1\" stroke=\"none\"/>\n",
       "<circle clip-path=\"url(#clip362)\" cx=\"1448.16\" cy=\"1041.95\" r=\"7.2\" fill=\"#ff0000\" fill-rule=\"evenodd\" fill-opacity=\"1\" stroke=\"none\"/>\n",
       "<circle clip-path=\"url(#clip362)\" cx=\"1448.16\" cy=\"504.701\" r=\"7.2\" fill=\"#ff0000\" fill-rule=\"evenodd\" fill-opacity=\"1\" stroke=\"none\"/>\n",
       "<circle clip-path=\"url(#clip362)\" cx=\"1470.62\" cy=\"1097.47\" r=\"7.2\" fill=\"#ff0000\" fill-rule=\"evenodd\" fill-opacity=\"1\" stroke=\"none\"/>\n",
       "<circle clip-path=\"url(#clip362)\" cx=\"1470.62\" cy=\"449.181\" r=\"7.2\" fill=\"#ff0000\" fill-rule=\"evenodd\" fill-opacity=\"1\" stroke=\"none\"/>\n",
       "<circle clip-path=\"url(#clip362)\" cx=\"1501.89\" cy=\"1027.64\" r=\"7.2\" fill=\"#ff0000\" fill-rule=\"evenodd\" fill-opacity=\"1\" stroke=\"none\"/>\n",
       "<circle clip-path=\"url(#clip362)\" cx=\"1501.89\" cy=\"519.013\" r=\"7.2\" fill=\"#ff0000\" fill-rule=\"evenodd\" fill-opacity=\"1\" stroke=\"none\"/>\n",
       "<circle clip-path=\"url(#clip362)\" cx=\"1529.33\" cy=\"949.947\" r=\"7.2\" fill=\"#ff0000\" fill-rule=\"evenodd\" fill-opacity=\"1\" stroke=\"none\"/>\n",
       "<circle clip-path=\"url(#clip362)\" cx=\"1529.33\" cy=\"596.705\" r=\"7.2\" fill=\"#ff0000\" fill-rule=\"evenodd\" fill-opacity=\"1\" stroke=\"none\"/>\n",
       "<circle clip-path=\"url(#clip362)\" cx=\"1549.86\" cy=\"865.341\" r=\"7.2\" fill=\"#ff0000\" fill-rule=\"evenodd\" fill-opacity=\"1\" stroke=\"none\"/>\n",
       "<circle clip-path=\"url(#clip362)\" cx=\"1549.86\" cy=\"681.311\" r=\"7.2\" fill=\"#ff0000\" fill-rule=\"evenodd\" fill-opacity=\"1\" stroke=\"none\"/>\n",
       "<circle clip-path=\"url(#clip362)\" cx=\"1558.32\" cy=\"773.326\" r=\"7.2\" fill=\"#ff0000\" fill-rule=\"evenodd\" fill-opacity=\"1\" stroke=\"none\"/>\n",
       "<polyline clip-path=\"url(#clip362)\" style=\"stroke:#000000; stroke-linecap:round; stroke-linejoin:round; stroke-width:4; stroke-opacity:1; fill:none\" stroke-dasharray=\"16, 10\" points=\"-1931.26,773.326 4494.77,773.326 \"/>\n",
       "<polyline clip-path=\"url(#clip362)\" style=\"stroke:#000000; stroke-linecap:round; stroke-linejoin:round; stroke-width:4; stroke-opacity:1; fill:none\" stroke-dasharray=\"16, 10\" points=\"1050.67,2722.89 1050.67,-1176.24 \"/>\n",
       "<path clip-path=\"url(#clip360)\" d=\"M1843.59 322.316 L2281.36 322.316 L2281.36 166.796 L1843.59 166.796  Z\" fill=\"#ffffff\" fill-rule=\"evenodd\" fill-opacity=\"1\"/>\n",
       "<polyline clip-path=\"url(#clip360)\" style=\"stroke:#000000; stroke-linecap:round; stroke-linejoin:round; stroke-width:4; stroke-opacity:1; fill:none\" points=\"1843.59,322.316 2281.36,322.316 2281.36,166.796 1843.59,166.796 1843.59,322.316 \"/>\n",
       "<circle clip-path=\"url(#clip360)\" cx=\"1938.79\" cy=\"218.636\" r=\"23.04\" fill=\"#0000ff\" fill-rule=\"evenodd\" fill-opacity=\"1\" stroke=\"none\"/>\n",
       "<path clip-path=\"url(#clip360)\" d=\"M2056.24 202.49 L2056.24 207.05 Q2053.58 205.777 2051.21 205.152 Q2048.85 204.527 2046.65 204.527 Q2042.83 204.527 2040.75 206.008 Q2038.69 207.49 2038.69 210.221 Q2038.69 212.513 2040.06 213.694 Q2041.45 214.851 2045.29 215.569 L2048.11 216.147 Q2053.34 217.143 2055.82 219.666 Q2058.32 222.166 2058.32 226.379 Q2058.32 231.402 2054.94 233.994 Q2051.58 236.587 2045.08 236.587 Q2042.63 236.587 2039.85 236.031 Q2037.09 235.476 2034.13 234.388 L2034.13 229.573 Q2036.98 231.17 2039.71 231.981 Q2042.44 232.791 2045.08 232.791 Q2049.08 232.791 2051.26 231.217 Q2053.44 229.643 2053.44 226.726 Q2053.44 224.18 2051.86 222.744 Q2050.31 221.309 2046.75 220.592 L2043.9 220.036 Q2038.67 218.995 2036.33 216.772 Q2033.99 214.55 2033.99 210.592 Q2033.99 206.008 2037.21 203.37 Q2040.45 200.731 2046.12 200.731 Q2048.55 200.731 2051.08 201.171 Q2053.6 201.61 2056.24 202.49 Z\" fill=\"#000000\" fill-rule=\"nonzero\" fill-opacity=\"1\" /><path clip-path=\"url(#clip360)\" d=\"M2069.55 232.027 L2069.55 245.777 L2065.26 245.777 L2065.26 209.99 L2069.55 209.99 L2069.55 213.925 Q2070.89 211.61 2072.93 210.499 Q2074.99 209.365 2077.83 209.365 Q2082.56 209.365 2085.5 213.115 Q2088.46 216.865 2088.46 222.976 Q2088.46 229.087 2085.5 232.837 Q2082.56 236.587 2077.83 236.587 Q2074.99 236.587 2072.93 235.476 Q2070.89 234.342 2069.55 232.027 M2084.04 222.976 Q2084.04 218.277 2082.09 215.615 Q2080.17 212.93 2076.79 212.93 Q2073.41 212.93 2071.47 215.615 Q2069.55 218.277 2069.55 222.976 Q2069.55 227.675 2071.47 230.36 Q2073.41 233.022 2076.79 233.022 Q2080.17 233.022 2082.09 230.36 Q2084.04 227.675 2084.04 222.976 Z\" fill=\"#000000\" fill-rule=\"nonzero\" fill-opacity=\"1\" /><path clip-path=\"url(#clip360)\" d=\"M2105.75 199.944 Q2102.65 205.268 2101.14 210.476 Q2099.64 215.684 2099.64 221.032 Q2099.64 226.379 2101.14 231.633 Q2102.67 236.865 2105.75 242.166 L2102.05 242.166 Q2098.57 236.726 2096.84 231.471 Q2095.13 226.217 2095.13 221.032 Q2095.13 215.87 2096.84 210.638 Q2098.55 205.407 2102.05 199.944 L2105.75 199.944 Z\" fill=\"#000000\" fill-rule=\"nonzero\" fill-opacity=\"1\" /><path clip-path=\"url(#clip360)\" d=\"M2125.75 205.962 L2119.41 223.161 L2132.12 223.161 L2125.75 205.962 M2123.11 201.356 L2128.41 201.356 L2141.58 235.916 L2136.72 235.916 L2133.57 227.05 L2118 227.05 L2114.85 235.916 L2109.92 235.916 L2123.11 201.356 Z\" fill=\"#000000\" fill-rule=\"nonzero\" fill-opacity=\"1\" /><path clip-path=\"url(#clip360)\" d=\"M2145.77 199.944 L2149.48 199.944 Q2152.95 205.407 2154.66 210.638 Q2156.4 215.87 2156.4 221.032 Q2156.4 226.217 2154.66 231.471 Q2152.95 236.726 2149.48 242.166 L2145.77 242.166 Q2148.85 236.865 2150.36 231.633 Q2151.88 226.379 2151.88 221.032 Q2151.88 215.684 2150.36 210.476 Q2148.85 205.268 2145.77 199.944 Z\" fill=\"#000000\" fill-rule=\"nonzero\" fill-opacity=\"1\" /><circle clip-path=\"url(#clip360)\" cx=\"1938.79\" cy=\"270.476\" r=\"23.04\" fill=\"#ff0000\" fill-rule=\"evenodd\" fill-opacity=\"1\" stroke=\"none\"/>\n",
       "<path clip-path=\"url(#clip360)\" d=\"M2056.24 254.33 L2056.24 258.89 Q2053.58 257.617 2051.21 256.992 Q2048.85 256.367 2046.65 256.367 Q2042.83 256.367 2040.75 257.848 Q2038.69 259.33 2038.69 262.061 Q2038.69 264.353 2040.06 265.534 Q2041.45 266.691 2045.29 267.409 L2048.11 267.987 Q2053.34 268.983 2055.82 271.506 Q2058.32 274.006 2058.32 278.219 Q2058.32 283.242 2054.94 285.834 Q2051.58 288.427 2045.08 288.427 Q2042.63 288.427 2039.85 287.871 Q2037.09 287.316 2034.13 286.228 L2034.13 281.413 Q2036.98 283.01 2039.71 283.821 Q2042.44 284.631 2045.08 284.631 Q2049.08 284.631 2051.26 283.057 Q2053.44 281.483 2053.44 278.566 Q2053.44 276.02 2051.86 274.584 Q2050.31 273.149 2046.75 272.432 L2043.9 271.876 Q2038.67 270.835 2036.33 268.612 Q2033.99 266.39 2033.99 262.432 Q2033.99 257.848 2037.21 255.21 Q2040.45 252.571 2046.12 252.571 Q2048.55 252.571 2051.08 253.011 Q2053.6 253.45 2056.24 254.33 Z\" fill=\"#000000\" fill-rule=\"nonzero\" fill-opacity=\"1\" /><path clip-path=\"url(#clip360)\" d=\"M2069.55 283.867 L2069.55 297.617 L2065.26 297.617 L2065.26 261.83 L2069.55 261.83 L2069.55 265.765 Q2070.89 263.45 2072.93 262.339 Q2074.99 261.205 2077.83 261.205 Q2082.56 261.205 2085.5 264.955 Q2088.46 268.705 2088.46 274.816 Q2088.46 280.927 2085.5 284.677 Q2082.56 288.427 2077.83 288.427 Q2074.99 288.427 2072.93 287.316 Q2070.89 286.182 2069.55 283.867 M2084.04 274.816 Q2084.04 270.117 2082.09 267.455 Q2080.17 264.77 2076.79 264.77 Q2073.41 264.77 2071.47 267.455 Q2069.55 270.117 2069.55 274.816 Q2069.55 279.515 2071.47 282.2 Q2073.41 284.862 2076.79 284.862 Q2080.17 284.862 2082.09 282.2 Q2084.04 279.515 2084.04 274.816 Z\" fill=\"#000000\" fill-rule=\"nonzero\" fill-opacity=\"1\" /><path clip-path=\"url(#clip360)\" d=\"M2105.75 251.784 Q2102.65 257.108 2101.14 262.316 Q2099.64 267.524 2099.64 272.872 Q2099.64 278.219 2101.14 283.473 Q2102.67 288.705 2105.75 294.006 L2102.05 294.006 Q2098.57 288.566 2096.84 283.311 Q2095.13 278.057 2095.13 272.872 Q2095.13 267.71 2096.84 262.478 Q2098.55 257.247 2102.05 251.784 L2105.75 251.784 Z\" fill=\"#000000\" fill-rule=\"nonzero\" fill-opacity=\"1\" /><path clip-path=\"url(#clip360)\" d=\"M2125.75 257.802 L2119.41 275.001 L2132.12 275.001 L2125.75 257.802 M2123.11 253.196 L2128.41 253.196 L2141.58 287.756 L2136.72 287.756 L2133.57 278.89 L2118 278.89 L2114.85 287.756 L2109.92 287.756 L2123.11 253.196 Z\" fill=\"#000000\" fill-rule=\"nonzero\" fill-opacity=\"1\" /><path clip-path=\"url(#clip360)\" d=\"M2163.78 258.034 L2163.78 270.927 L2176.68 270.927 L2176.68 274.862 L2163.78 274.862 L2163.78 287.756 L2159.89 287.756 L2159.89 274.862 L2147 274.862 L2147 270.927 L2159.89 270.927 L2159.89 258.034 L2163.78 258.034 Z\" fill=\"#000000\" fill-rule=\"nonzero\" fill-opacity=\"1\" /><path clip-path=\"url(#clip360)\" d=\"M2204.94 257.733 Q2202.58 256.112 2197.05 256.112 Q2191.19 256.112 2191.19 258.821 Q2191.19 260.95 2197.3 262.061 Q2202.12 262.918 2204.82 265.51 Q2208.11 268.635 2208.11 275.047 Q2208.11 281.182 2204.94 284.793 Q2201.77 288.427 2196.21 288.427 Q2190.68 288.427 2187.49 284.793 Q2184.32 281.182 2184.32 274.816 Q2184.32 270.094 2187.49 266.274 Q2188.71 264.793 2190.45 263.96 Q2186.84 262.131 2186.84 258.867 Q2186.84 252.571 2197.05 252.571 Q2202.16 252.571 2204.94 254.191 L2204.94 257.733 M2193.64 265.117 Q2192.07 265.788 2190.8 267.478 Q2188.81 270.094 2188.81 274.816 Q2188.81 279.515 2190.77 282.154 Q2192.76 284.816 2196.21 284.816 Q2199.62 284.816 2201.61 282.131 Q2203.6 279.446 2203.6 275.047 Q2203.6 270.441 2201.49 268.219 Q2199.25 265.835 2196.33 265.58 Q2194.85 265.441 2193.64 265.117 Z\" fill=\"#000000\" fill-rule=\"nonzero\" fill-opacity=\"1\" /><path clip-path=\"url(#clip360)\" d=\"M2226.91 257.802 L2220.56 275.001 L2233.27 275.001 L2226.91 257.802 M2224.27 253.196 L2229.57 253.196 L2242.74 287.756 L2237.88 287.756 L2234.73 278.89 L2219.15 278.89 L2216 287.756 L2211.07 287.756 L2224.27 253.196 Z\" fill=\"#000000\" fill-rule=\"nonzero\" fill-opacity=\"1\" /><path clip-path=\"url(#clip360)\" d=\"M2246.93 251.784 L2250.63 251.784 Q2254.11 257.247 2255.82 262.478 Q2257.56 267.71 2257.56 272.872 Q2257.56 278.057 2255.82 283.311 Q2254.11 288.566 2250.63 294.006 L2246.93 294.006 Q2250.01 288.705 2251.51 283.473 Q2253.04 278.219 2253.04 272.872 Q2253.04 267.524 2251.51 262.316 Q2250.01 257.108 2246.93 251.784 Z\" fill=\"#000000\" fill-rule=\"nonzero\" fill-opacity=\"1\" /></svg>\n"
      ]
     },
     "metadata": {},
     "output_type": "display_data"
    }
   ],
   "source": [
    "p = scatter(real.(Λ), imag.(Λ), xlabel=\"Real Part\", ylabel=\"Imaginary Part\", title=\"Perturbation of eigenvalues\", \n",
    "            label=\"Sp(A)\", marker=:circle, markersize=2, markerstrokewidth=0, color=:blue, aspect_ratio=:equal)\n",
    "scatter!(p, real.(Θ), imag.(Θ), label=\"Sp(A+δA)\", marker=:circle, markersize=2, markerstrokewidth=0, color=:red)\n",
    "hline!([0], color=:black, linestyle=:dash, label=\"\")\n",
    "vline!([0], color=:black, linestyle=:dash, label=\"\")\n",
    "display(current())"
   ]
  },
  {
   "cell_type": "markdown",
   "id": "09cb06ba-a7ae-46aa-abdd-fdd22ab7041f",
   "metadata": {},
   "source": [
    "Hence, we see that, despite being well-conditioned for linear solves, the Grcar matrix has ill-conditioned eigenvalues, which confirms that, indeed, **the condition number is a problem-dependent quantity**."
   ]
  }
 ],
 "metadata": {
  "kernelspec": {
   "display_name": "Julia 1.11.5",
   "language": "julia",
   "name": "julia-1.11"
  },
  "language_info": {
   "file_extension": ".jl",
   "mimetype": "application/julia",
   "name": "julia",
   "version": "1.11.5"
  }
 },
 "nbformat": 4,
 "nbformat_minor": 5
}
