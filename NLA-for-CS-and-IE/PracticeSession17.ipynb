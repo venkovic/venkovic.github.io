{
 "cells": [
  {
   "cell_type": "raw",
   "id": "f539775f-3278-4b11-9f7b-df48a7f1ee74",
   "metadata": {},
   "source": [
    "\\section*{Numerical Linear Algebra for Computational Science and Information Engineering}\n",
    "\n",
    "\\subsection*{Introduction to Communication-Avoiding Algorithms}\n",
    "\n",
    "Nicolas Venkovic (nicolas.venkovic@tum.edu)"
   ]
  },
  {
   "cell_type": "code",
   "execution_count": null,
   "id": "7d3b195b-76c1-43a2-8c10-41df474b8f92",
   "metadata": {},
   "outputs": [],
   "source": [
    "using LinearAlgebra, Plots, Printf, Latexify, LaTeXStrings, BenchmarkTools"
   ]
  },
  {
   "cell_type": "raw",
   "id": "5a7b8a84-c3a2-4a75-8a24-8a81f2a4ecc6",
   "metadata": {},
   "source": [
    "\\subsection*{Exercise \\#1: Title}"
   ]
  },
  {
   "cell_type": "code",
   "execution_count": null,
   "id": "7f0f8e46-c8ea-4293-b114-759ebdd99190",
   "metadata": {},
   "outputs": [],
   "source": []
  }
 ],
 "metadata": {
  "kernelspec": {
   "display_name": "Julia 1.11.5",
   "language": "julia",
   "name": "julia-1.11"
  },
  "language_info": {
   "file_extension": ".jl",
   "mimetype": "application/julia",
   "name": "julia",
   "version": "1.11.5"
  }
 },
 "nbformat": 4,
 "nbformat_minor": 5
}
