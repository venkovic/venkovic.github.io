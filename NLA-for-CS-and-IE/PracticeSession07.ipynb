{
 "cells": [
  {
   "cell_type": "raw",
   "id": "4dcf4c59-e44d-4dfc-8124-fbd840c3fdfc",
   "metadata": {
    "jp-MarkdownHeadingCollapsed": true
   },
   "source": [
    "\\section*{Numerical Linear Algebra for Computational Science and Information Engineering}\n",
    "\n",
    "\\subsection*{Orthogonalization and Least-Squares Problems}\n",
    "\n",
    "Nicolas Venkovic (nicolas.venkovic@tum.edu)"
   ]
  },
  {
   "cell_type": "code",
   "execution_count": 1,
   "id": "2642133f-a3e5-41d4-b858-0f9a5417450f",
   "metadata": {},
   "outputs": [],
   "source": [
    "using LinearAlgebra, Plots, Printf, Latexify, LaTeXStrings, BenchmarkTools, Random, SparseArrays"
   ]
  },
  {
   "cell_type": "code",
   "execution_count": 2,
   "id": "887bdb5b",
   "metadata": {},
   "outputs": [],
   "source": [
    "function conditioned_matrix(m::Int, n::Int, cond::Float64)\n",
    "  U, _ = qr(randn(m, m))\n",
    "  V, _ = qr(randn(n, n))\n",
    "  s = range(1.0, 1/cond; length=n)\n",
    "  Σ = Diagonal(s)\n",
    "  A = U[:, 1:n] * Σ * V'\n",
    "  return A\n",
    "end;"
   ]
  },
  {
   "cell_type": "raw",
   "id": "3016fed9-20fe-4c6b-9c29-51fe48c8f698",
   "metadata": {},
   "source": [
    "\\subsection*{Exercise \\#1: Implement and test your implementation of HouseholderQR}"
   ]
  },
  {
   "cell_type": "code",
   "execution_count": 3,
   "id": "25fa216d",
   "metadata": {},
   "outputs": [],
   "source": [
    "function HouseholderQR(A)\n",
    "  m, n = size(A)\n",
    "  Q = Matrix{Float64}(I, m, m)\n",
    "  R = copy(A)\n",
    "  for k = 1:n\n",
    "    # Compute Householder vector\n",
    "    v = R[k:m, k]\n",
    "    v[1] -= sign(v[1]) * norm(v) # usage of sign(v[1]) allows to prevent catastrophic cancellation\n",
    "    beta = 2. / v'v \n",
    "    # Apply Householder reflection\n",
    "    R[k:m, k:n] -= beta .* v * (v'R[k:m, k:n])\n",
    "    Q[1:m, k:m] -= Q[1:m, k:m] * v * (beta .* v')\n",
    "  end\n",
    "  return Q, R\n",
    "end;"
   ]
  },
  {
   "cell_type": "code",
   "execution_count": 4,
   "id": "2d60be6a",
   "metadata": {},
   "outputs": [],
   "source": [
    "m = 1_000;\n",
    "n = 200;\n",
    "Random.seed!(3);\n",
    "A1 = conditioned_matrix(m, n, 1e8);\n",
    "A2 = conditioned_matrix(m, n, 1e10);"
   ]
  },
  {
   "cell_type": "code",
   "execution_count": 5,
   "id": "17fc8ba9",
   "metadata": {},
   "outputs": [
    {
     "name": "stdout",
     "output_type": "stream",
     "text": [
      "  2.437 s (7807 allocations: 5.94 GiB)\n",
      "||A - QR|| = 1.15E-14, ||I - Q'Q|| = 4.62E-14"
     ]
    }
   ],
   "source": [
    "Q, R = @btime HouseholderQR(A1);\n",
    "@printf \"||A - QR|| = %.2E, ||I - Q'Q|| = %.2E\" norm(A1 - Q * R) norm(I - Q'Q)"
   ]
  },
  {
   "cell_type": "code",
   "execution_count": 6,
   "id": "b9738c46",
   "metadata": {},
   "outputs": [
    {
     "name": "stdout",
     "output_type": "stream",
     "text": [
      "  2.519 s (7807 allocations: 5.94 GiB)\n",
      "||A - QR|| = 1.09E-14, ||I - Q'Q|| = 4.54E-14"
     ]
    }
   ],
   "source": [
    "Q, R = @btime HouseholderQR(A2);\n",
    "@printf \"||A - QR|| = %.2E, ||I - Q'Q|| = %.2E\" norm(A2 - Q * R) norm(I - Q'Q)"
   ]
  },
  {
   "cell_type": "raw",
   "id": "7314ee27",
   "metadata": {},
   "source": [
    "\\subsection*{Exercise \\#2: Implement CholeskyQR, CholeskyQR2 and Shifted CholeskyQR3}"
   ]
  },
  {
   "cell_type": "code",
   "execution_count": 7,
   "id": "ecf356db",
   "metadata": {},
   "outputs": [],
   "source": [
    "function CholeskyQR(A)\n",
    "  X = A'A\n",
    "  chol = cholesky(X)\n",
    "  Q = A / chol.U\n",
    "  return Q, chol.U\n",
    "end;"
   ]
  },
  {
   "cell_type": "code",
   "execution_count": 8,
   "id": "e41c8100",
   "metadata": {},
   "outputs": [],
   "source": [
    "function CholeskyQR2(A)\n",
    "  Q1, R1 = CholeskyQR(A)\n",
    "  Q, R2 = CholeskyQR(Q1)\n",
    "  return Q, R2 * R1\n",
    "end;"
   ]
  },
  {
   "cell_type": "code",
   "execution_count": 9,
   "id": "7e866d82",
   "metadata": {},
   "outputs": [],
   "source": [
    "function ShiftedCholeskyQR(A)\n",
    "  X = A'A\n",
    "  s = 11 * (m * n + n * (n + 1)) * eps() * norm(A)\n",
    "  X += s * I\n",
    "  chol = cholesky(X)\n",
    "  Q = A / chol.U\n",
    "  return Q, chol.U\n",
    "end;"
   ]
  },
  {
   "cell_type": "code",
   "execution_count": 10,
   "id": "024660e0",
   "metadata": {},
   "outputs": [],
   "source": [
    "function ShiftedCholeskyQR3(A)\n",
    "  Q1, R1 = ShiftedCholeskyQR(A)\n",
    "  Q, R2 = CholeskyQR2(Q1)\n",
    "  return Q, R2 * R1\n",
    "end;"
   ]
  },
  {
   "cell_type": "raw",
   "id": "bb000319",
   "metadata": {},
   "source": [
    "\\subsection*{Exercise \\#3: Compare loss of orthogonality and residual of each CholeskyQR implementation}"
   ]
  },
  {
   "cell_type": "code",
   "execution_count": 11,
   "id": "8b83dc67",
   "metadata": {},
   "outputs": [
    {
     "name": "stdout",
     "output_type": "stream",
     "text": [
      "  2.357 ms (10 allocations: 2.14 MiB)\n",
      "||A - QR|| = 9.30E-16, ||I - Q'Q|| = 2.77E-02"
     ]
    }
   ],
   "source": [
    "Q, R = @btime CholeskyQR(A1);\n",
    "@printf \"||A - QR|| = %.2E, ||I - Q'Q|| = %.2E\" norm(A1 - Q * R) norm(I - Q'Q)"
   ]
  },
  {
   "cell_type": "code",
   "execution_count": 12,
   "id": "e723322c",
   "metadata": {},
   "outputs": [
    {
     "ename": "LoadError",
     "evalue": "PosDefException: matrix is not positive definite; Factorization failed.",
     "output_type": "error",
     "traceback": [
      "PosDefException: matrix is not positive definite; Factorization failed.",
      "",
      "Stacktrace:",
      "  [1] checkpositivedefinite",
      "    @ ~/.julia/juliaup/julia-1.11.5+0.x64.linux.gnu/share/julia/stdlib/v1.11/LinearAlgebra/src/factorization.jl:68 [inlined]",
      "  [2] #cholesky!#163",
      "    @ ~/.julia/juliaup/julia-1.11.5+0.x64.linux.gnu/share/julia/stdlib/v1.11/LinearAlgebra/src/cholesky.jl:269 [inlined]",
      "  [3] cholesky!",
      "    @ ~/.julia/juliaup/julia-1.11.5+0.x64.linux.gnu/share/julia/stdlib/v1.11/LinearAlgebra/src/cholesky.jl:267 [inlined]",
      "  [4] #cholesky!#164",
      "    @ ~/.julia/juliaup/julia-1.11.5+0.x64.linux.gnu/share/julia/stdlib/v1.11/LinearAlgebra/src/cholesky.jl:301 [inlined]",
      "  [5] cholesky! (repeats 2 times)",
      "    @ ~/.julia/juliaup/julia-1.11.5+0.x64.linux.gnu/share/julia/stdlib/v1.11/LinearAlgebra/src/cholesky.jl:295 [inlined]",
      "  [6] _cholesky",
      "    @ ~/.julia/juliaup/julia-1.11.5+0.x64.linux.gnu/share/julia/stdlib/v1.11/LinearAlgebra/src/cholesky.jl:411 [inlined]",
      "  [7] cholesky(A::Matrix{Float64}, ::NoPivot; check::Bool)",
      "    @ LinearAlgebra ~/.julia/juliaup/julia-1.11.5+0.x64.linux.gnu/share/julia/stdlib/v1.11/LinearAlgebra/src/cholesky.jl:401",
      "  [8] cholesky (repeats 2 times)",
      "    @ ~/.julia/juliaup/julia-1.11.5+0.x64.linux.gnu/share/julia/stdlib/v1.11/LinearAlgebra/src/cholesky.jl:401 [inlined]",
      "  [9] CholeskyQR(A::Matrix{Float64})",
      "    @ Main ./In[7]:3",
      " [10] var\"##core#256\"()",
      "    @ Main ~/.julia/packages/BenchmarkTools/1i1mY/src/execution.jl:598",
      " [11] var\"##sample#257\"(::Tuple{}, __params::BenchmarkTools.Parameters)",
      "    @ Main ~/.julia/packages/BenchmarkTools/1i1mY/src/execution.jl:607",
      " [12] _lineartrial(b::BenchmarkTools.Benchmark, p::BenchmarkTools.Parameters; maxevals::Int64, kwargs::@Kwargs{})",
      "    @ BenchmarkTools ~/.julia/packages/BenchmarkTools/1i1mY/src/execution.jl:186",
      " [13] _lineartrial(b::BenchmarkTools.Benchmark, p::BenchmarkTools.Parameters)",
      "    @ BenchmarkTools ~/.julia/packages/BenchmarkTools/1i1mY/src/execution.jl:181",
      " [14] #invokelatest#2",
      "    @ ./essentials.jl:1055 [inlined]",
      " [15] invokelatest",
      "    @ ./essentials.jl:1052 [inlined]",
      " [16] #lineartrial#46",
      "    @ ~/.julia/packages/BenchmarkTools/1i1mY/src/execution.jl:51 [inlined]",
      " [17] lineartrial",
      "    @ ~/.julia/packages/BenchmarkTools/1i1mY/src/execution.jl:50 [inlined]",
      " [18] tune!(b::BenchmarkTools.Benchmark, p::BenchmarkTools.Parameters; progressid::Nothing, nleaves::Float64, ndone::Float64, verbose::Bool, pad::String, kwargs::@Kwargs{})",
      "    @ BenchmarkTools ~/.julia/packages/BenchmarkTools/1i1mY/src/execution.jl:299",
      " [19] tune!",
      "    @ ~/.julia/packages/BenchmarkTools/1i1mY/src/execution.jl:288 [inlined]",
      " [20] tune!(b::BenchmarkTools.Benchmark)",
      "    @ BenchmarkTools ~/.julia/packages/BenchmarkTools/1i1mY/src/execution.jl:288",
      " [21] top-level scope",
      "    @ ~/.julia/packages/BenchmarkTools/1i1mY/src/execution.jl:728"
     ]
    }
   ],
   "source": [
    "Q, R = @btime CholeskyQR(A2);\n",
    "@printf \"||A - QR|| = %.2E, ||I - Q'Q|| = %.2E\" norm(A1 - Q * R) norm(I - Q'Q)"
   ]
  },
  {
   "cell_type": "code",
   "execution_count": 13,
   "id": "4ae91948",
   "metadata": {},
   "outputs": [
    {
     "name": "stdout",
     "output_type": "stream",
     "text": [
      "  4.780 ms (22 allocations: 4.58 MiB)\n",
      "||A - QR|| = 3.35E-15, ||I - Q'Q|| = 5.57E-15"
     ]
    }
   ],
   "source": [
    "Q, R = @btime CholeskyQR2(A1);\n",
    "@printf \"||A - QR|| = %.2E, ||I - Q'Q|| = %.2E\" norm(A1 - Q * R) norm(I - Q'Q)"
   ]
  },
  {
   "cell_type": "code",
   "execution_count": 14,
   "id": "85529c07",
   "metadata": {},
   "outputs": [
    {
     "ename": "LoadError",
     "evalue": "PosDefException: matrix is not positive definite; Factorization failed.",
     "output_type": "error",
     "traceback": [
      "PosDefException: matrix is not positive definite; Factorization failed.",
      "",
      "Stacktrace:",
      "  [1] checkpositivedefinite",
      "    @ ~/.julia/juliaup/julia-1.11.5+0.x64.linux.gnu/share/julia/stdlib/v1.11/LinearAlgebra/src/factorization.jl:68 [inlined]",
      "  [2] #cholesky!#163",
      "    @ ~/.julia/juliaup/julia-1.11.5+0.x64.linux.gnu/share/julia/stdlib/v1.11/LinearAlgebra/src/cholesky.jl:269 [inlined]",
      "  [3] cholesky!",
      "    @ ~/.julia/juliaup/julia-1.11.5+0.x64.linux.gnu/share/julia/stdlib/v1.11/LinearAlgebra/src/cholesky.jl:267 [inlined]",
      "  [4] #cholesky!#164",
      "    @ ~/.julia/juliaup/julia-1.11.5+0.x64.linux.gnu/share/julia/stdlib/v1.11/LinearAlgebra/src/cholesky.jl:301 [inlined]",
      "  [5] cholesky! (repeats 2 times)",
      "    @ ~/.julia/juliaup/julia-1.11.5+0.x64.linux.gnu/share/julia/stdlib/v1.11/LinearAlgebra/src/cholesky.jl:295 [inlined]",
      "  [6] _cholesky",
      "    @ ~/.julia/juliaup/julia-1.11.5+0.x64.linux.gnu/share/julia/stdlib/v1.11/LinearAlgebra/src/cholesky.jl:411 [inlined]",
      "  [7] cholesky(A::Matrix{Float64}, ::NoPivot; check::Bool)",
      "    @ LinearAlgebra ~/.julia/juliaup/julia-1.11.5+0.x64.linux.gnu/share/julia/stdlib/v1.11/LinearAlgebra/src/cholesky.jl:401",
      "  [8] cholesky (repeats 2 times)",
      "    @ ~/.julia/juliaup/julia-1.11.5+0.x64.linux.gnu/share/julia/stdlib/v1.11/LinearAlgebra/src/cholesky.jl:401 [inlined]",
      "  [9] CholeskyQR(A::Matrix{Float64})",
      "    @ Main ./In[7]:3",
      " [10] CholeskyQR2(A::Matrix{Float64})",
      "    @ Main ./In[8]:2",
      " [11] var\"##core#270\"()",
      "    @ Main ~/.julia/packages/BenchmarkTools/1i1mY/src/execution.jl:598",
      " [12] var\"##sample#271\"(::Tuple{}, __params::BenchmarkTools.Parameters)",
      "    @ Main ~/.julia/packages/BenchmarkTools/1i1mY/src/execution.jl:607",
      " [13] _lineartrial(b::BenchmarkTools.Benchmark, p::BenchmarkTools.Parameters; maxevals::Int64, kwargs::@Kwargs{})",
      "    @ BenchmarkTools ~/.julia/packages/BenchmarkTools/1i1mY/src/execution.jl:186",
      " [14] _lineartrial(b::BenchmarkTools.Benchmark, p::BenchmarkTools.Parameters)",
      "    @ BenchmarkTools ~/.julia/packages/BenchmarkTools/1i1mY/src/execution.jl:181",
      " [15] #invokelatest#2",
      "    @ ./essentials.jl:1055 [inlined]",
      " [16] invokelatest",
      "    @ ./essentials.jl:1052 [inlined]",
      " [17] #lineartrial#46",
      "    @ ~/.julia/packages/BenchmarkTools/1i1mY/src/execution.jl:51 [inlined]",
      " [18] lineartrial",
      "    @ ~/.julia/packages/BenchmarkTools/1i1mY/src/execution.jl:50 [inlined]",
      " [19] tune!(b::BenchmarkTools.Benchmark, p::BenchmarkTools.Parameters; progressid::Nothing, nleaves::Float64, ndone::Float64, verbose::Bool, pad::String, kwargs::@Kwargs{})",
      "    @ BenchmarkTools ~/.julia/packages/BenchmarkTools/1i1mY/src/execution.jl:299",
      " [20] tune!",
      "    @ ~/.julia/packages/BenchmarkTools/1i1mY/src/execution.jl:288 [inlined]",
      " [21] tune!(b::BenchmarkTools.Benchmark)",
      "    @ BenchmarkTools ~/.julia/packages/BenchmarkTools/1i1mY/src/execution.jl:288",
      " [22] top-level scope",
      "    @ ~/.julia/packages/BenchmarkTools/1i1mY/src/execution.jl:728"
     ]
    }
   ],
   "source": [
    "Q, R = @btime CholeskyQR2(A2);\n",
    "@printf \"||A - QR|| = %.2E, ||I - Q'Q|| = %.2E\" norm(A2 - Q * R) norm(I - Q'Q)"
   ]
  },
  {
   "cell_type": "code",
   "execution_count": 15,
   "id": "c64eb6a4",
   "metadata": {},
   "outputs": [
    {
     "name": "stdout",
     "output_type": "stream",
     "text": [
      "  7.750 ms (51 allocations: 7.33 MiB)\n",
      "||A - QR|| = 3.89E-15, ||I - Q'Q|| = 4.35E-15"
     ]
    }
   ],
   "source": [
    "Q, R = @btime ShiftedCholeskyQR3(A1);\n",
    "@printf \"||A - QR|| = %.2E, ||I - Q'Q|| = %.2E\" norm(A1 - Q * R) norm(I - Q'Q)"
   ]
  },
  {
   "cell_type": "code",
   "execution_count": 16,
   "id": "c4403f6d",
   "metadata": {},
   "outputs": [
    {
     "name": "stdout",
     "output_type": "stream",
     "text": [
      "  8.398 ms (51 allocations: 7.33 MiB)\n",
      "||A - QR|| = 3.93E-15, ||I - Q'Q|| = 4.27E-15"
     ]
    }
   ],
   "source": [
    "Q, R = @btime ShiftedCholeskyQR3(A2);\n",
    "@printf \"||A - QR|| = %.2E, ||I - Q'Q|| = %.2E\" norm(A2 - Q * R) norm(I - Q'Q)"
   ]
  },
  {
   "cell_type": "raw",
   "id": "65e735ad",
   "metadata": {},
   "source": [
    "\\subsection*{Exercise \\#4: Implement CGS, MGS and CGS2}"
   ]
  },
  {
   "cell_type": "code",
   "execution_count": 17,
   "id": "14add3d0",
   "metadata": {},
   "outputs": [],
   "source": [
    "function CGS_naive(X::Array{Float64,2})\n",
    "  n, m = size(X)\n",
    "  Q = Array{Float64,2}(undef, n, m)\n",
    "  R = zeros(Float64, m, m)\n",
    "  R[1, 1] = norm(X[:, 1])\n",
    "  Q[:, 1] = X[:, 1] ./ R[1, 1]\n",
    "  for i in 2:m\n",
    "    Q[:, i] = X[:, i]\n",
    "    R[1:i-1, i] .= Q[:, 1:i-1]'X[:, i] # creates temporary array => very slow\n",
    "    Q[:, i] -= Q[:, 1:i-1] * R[1:i-1, i] # creates temporary array => very slow\n",
    "    R[i, i] = norm(Q[:, i])\n",
    "    Q[:, i] ./= R[i, i]\n",
    "  end\n",
    "  return Q, R\n",
    "end;\n",
    "\n",
    "function CGS(X::Array{Float64,2})\n",
    "  n, m = size(X)\n",
    "  Q = zeros(Float64, n, m)\n",
    "  R = zeros(Float64, m, m)\n",
    "  r = zeros(Float64, m)\n",
    "  w = zeros(Float64, n)\n",
    "  R[1, 1] = norm(X[:, 1])\n",
    "  Q[:, 1] = X[:, 1] ./ R[1, 1]\n",
    "  for i in 2:m\n",
    "    w .= X[:, i]\n",
    "    r .= (w'Q)'\n",
    "    r[i:m] .= 0.\n",
    "    R[:, i] = r\n",
    "    w -= Q * r\n",
    "    R[i, i] = norm(w)\n",
    "    Q[:, i] = w ./ R[i, i]\n",
    "  end\n",
    "  return Q, R\n",
    "end;"
   ]
  },
  {
   "cell_type": "code",
   "execution_count": 18,
   "id": "f1627a12",
   "metadata": {},
   "outputs": [],
   "source": [
    "function MGS_naive(X::Array{Float64,2})\n",
    "  n, m = size(X)\n",
    "  Q = Array{Float64,2}(undef, n, m)\n",
    "  R = zeros(Float64, m, m)\n",
    "  R[1, 1] = norm(X[:, 1])\n",
    "  Q[:, 1] = X[:, 1] ./ R[1, 1]\n",
    "  for i in 2:m \n",
    "    Q[:, i] = X[:, i]\n",
    "    for j in 1:i-1\n",
    "      R[j, i] = Q[:, j]'Q[:, i]\n",
    "      Q[:, i] -= R[j, i] .* Q[:, j]\n",
    "    end\n",
    "    R[i, i] = norm(Q[:, i])\n",
    "    Q[:, i] ./= R[i, i]\n",
    "  end\n",
    "  return Q, R\n",
    "end;\n",
    "\n",
    "function MGS(X::Array{Float64,2})\n",
    "  n, m = size(X)\n",
    "  Q = Array{Float64,2}(undef, n, m)\n",
    "  q = Vector{Float64}(undef, n)\n",
    "  R = zeros(Float64, m, m)\n",
    "  w = Vector{Float64}(undef, n)\n",
    "  R[1, 1] = norm(X[:, 1])\n",
    "  Q[:, 1] = X[:, 1] ./ R[1, 1]\n",
    "  for i in 2:m \n",
    "    w .= X[:, i]\n",
    "    for j in 1:i-1\n",
    "      q .= Q[:, j]\n",
    "      R[j, i] = q'w\n",
    "      w -= R[j, i] .* q\n",
    "    end\n",
    "    R[i, i] = norm(w)\n",
    "    Q[:, i] = w ./ R[i, i]\n",
    "  end\n",
    "  return Q, R\n",
    "end;"
   ]
  },
  {
   "cell_type": "code",
   "execution_count": 19,
   "id": "08bcec14",
   "metadata": {},
   "outputs": [],
   "source": [
    "function CGS2_naive(X::Array{Float64,2})\n",
    "  n, m = size(X)\n",
    "  Q = Array{Float64,2}(undef, n, m)\n",
    "  R = zeros(Float64, m, m)\n",
    "  R[1, 1] = norm(X[:, 1])\n",
    "  Q[:, 1] = X[:, 1] ./ R[1, 1]\n",
    "  for i in 2:m\n",
    "    Q[:, i] = X[:, i]\n",
    "    R[1:i-1, i] .= Q[:, 1:i-1]'X[:, i] # creates temporary array => very slow\n",
    "    Q[:, i] -= Q[:, 1:i-1] * R[1:i-1, i] # creates temporary array => very slow\n",
    "    r = Q[:, 1:i-1]'Q[:, i] # creates temporary array => very slow\n",
    "    Q[:, i] -= Q[:, 1:i-1] * r # creates temporary array => very slow\n",
    "    R[i, i] = norm(Q[:, i])\n",
    "    Q[:, i] ./= R[i, i]\n",
    "  end\n",
    "  return Q, R\n",
    "end;\n",
    "\n",
    "function CGS2(X::Array{Float64,2})\n",
    "  n, m = size(X)\n",
    "  Q = zeros(Float64, n, m)\n",
    "  R = zeros(Float64, m, m)\n",
    "  r = zeros(Float64, m)\n",
    "  w = zeros(Float64, n)\n",
    "  R[1, 1] = norm(X[:, 1])\n",
    "  Q[:, 1] = X[:, 1] ./ R[1, 1]\n",
    "  for i in 2:m\n",
    "    w .= X[:, i]\n",
    "    r .= Q'w\n",
    "    r[i:m] .= 0.\n",
    "    R[:, i] = r\n",
    "    w -= Q * r\n",
    "    r .= Q'w\n",
    "    r[i:m] .= 0.\n",
    "    w -= Q * r\n",
    "    R[i, i] = norm(w)\n",
    "    Q[:, i] = w ./ R[i, i]\n",
    "  end\n",
    "  return Q, R\n",
    "end;"
   ]
  },
  {
   "cell_type": "raw",
   "id": "a809a3bc",
   "metadata": {},
   "source": [
    "\\subsection*{Exercise \\#5: Compare runtime, loss of orthogonality and residual of CGS, MGS and CGS2}"
   ]
  },
  {
   "cell_type": "code",
   "execution_count": 20,
   "id": "3eda8139",
   "metadata": {},
   "outputs": [
    {
     "name": "stdout",
     "output_type": "stream",
     "text": [
      "  55.181 ms (5985 allocations: 316.59 MiB)\n",
      "  14.985 ms (2806 allocations: 8.31 MiB)\n",
      "||A - QR|| = 2.45E-15, ||I - Q'Q|| = 9.54E-08"
     ]
    }
   ],
   "source": [
    "Q, R = @btime CGS_naive(A1);\n",
    "Q, R = @btime CGS(A1);\n",
    "@printf \"||A - QR|| = %.2E, ||I - Q'Q|| = %.2E\" norm(A1 - Q * R) norm(I - Q'Q)"
   ]
  },
  {
   "cell_type": "code",
   "execution_count": 21,
   "id": "9c592217",
   "metadata": {},
   "outputs": [
    {
     "name": "stdout",
     "output_type": "stream",
     "text": [
      "  14.345 ms (2806 allocations: 8.31 MiB)\n",
      "||A - QR|| = 2.47E-15, ||I - Q'Q|| = 1.43E-05"
     ]
    }
   ],
   "source": [
    "Q, R = @btime CGS(A2);\n",
    "@printf \"||A - QR|| = %.2E, ||I - Q'Q|| = %.2E\" norm(A2 - Q * R) norm(I - Q'Q)"
   ]
  },
  {
   "cell_type": "code",
   "execution_count": 22,
   "id": "404c1a6b",
   "metadata": {},
   "outputs": [
    {
     "name": "stdout",
     "output_type": "stream",
     "text": [
      "  140.893 ms (359807 allocations: 925.59 MiB)\n",
      "  82.462 ms (180315 allocations: 464.51 MiB)\n",
      "||A - QR|| = 3.81E-15, ||I - Q'Q|| = 1.35E-08"
     ]
    }
   ],
   "source": [
    "Q, R = @btime MGS_naive(A1);\n",
    "Q, R = @btime MGS(A1);\n",
    "@printf \"||A - QR|| = %.2E, ||I - Q'Q|| = %.2E\" norm(A1 - Q * R) norm(I - Q'Q)"
   ]
  },
  {
   "cell_type": "code",
   "execution_count": 23,
   "id": "69fdc246",
   "metadata": {},
   "outputs": [
    {
     "name": "stdout",
     "output_type": "stream",
     "text": [
      "  73.142 ms (180315 allocations: 464.51 MiB)\n",
      "||A - QR|| = 3.85E-15, ||I - Q'Q|| = 1.47E-06"
     ]
    }
   ],
   "source": [
    "Q, R = @btime MGS(A2);\n",
    "@printf \"||A - QR|| = %.2E, ||I - Q'Q|| = %.2E\" norm(A2 - Q * R) norm(I - Q'Q)"
   ]
  },
  {
   "cell_type": "code",
   "execution_count": 24,
   "id": "a7ae6a63",
   "metadata": {},
   "outputs": [
    {
     "name": "stdout",
     "output_type": "stream",
     "text": [
      "  110.824 ms (9965 allocations: 626.57 MiB)\n",
      "||A - QR|| = 3.30E-15, ||I - Q'Q|| = 5.73E-15  27.846 ms (4398 allocations: 11.69 MiB)\n",
      "||A - QR|| = 3.30E-15, ||I - Q'Q|| = 5.55E-15"
     ]
    }
   ],
   "source": [
    "Q, R = @btime CGS2_naive(A1);\n",
    "@printf \"||A - QR|| = %.2E, ||I - Q'Q|| = %.2E\" norm(A1 - Q * R) norm(I - Q'Q)\n",
    "Q, R = @btime CGS2(A1);\n",
    "@printf \"||A - QR|| = %.2E, ||I - Q'Q|| = %.2E\" norm(A1 - Q * R) norm(I - Q'Q)"
   ]
  },
  {
   "cell_type": "code",
   "execution_count": 25,
   "id": "c59c085e",
   "metadata": {},
   "outputs": [
    {
     "name": "stdout",
     "output_type": "stream",
     "text": [
      "  28.367 ms (4398 allocations: 11.69 MiB)\n",
      "||A - QR|| = 3.33E-15, ||I - Q'Q|| = 5.36E-15"
     ]
    }
   ],
   "source": [
    "Q, R = @btime CGS2(A2);\n",
    "@printf \"||A - QR|| = %.2E, ||I - Q'Q|| = %.2E\" norm(A2 - Q * R) norm(I - Q'Q)"
   ]
  },
  {
   "cell_type": "raw",
   "id": "40733bec",
   "metadata": {},
   "source": [
    "\\subsection*{Exercise \\#6: Implement Golub-Kahan bidiagonalization and verify matrix transformation}"
   ]
  },
  {
   "cell_type": "code",
   "execution_count": 26,
   "id": "7fa92742",
   "metadata": {},
   "outputs": [],
   "source": [
    "function bidiagonalization(A, r0, k)\n",
    "  m, n = size(A)\n",
    "  U = zeros(Float64, m, k + 1)\n",
    "  V = zeros(Float64, n, k + 1)\n",
    "  beta = zeros(Float64, k + 1)\n",
    "  alpha = zeros(Float64, k + 1)\n",
    "  U[:, 1] = r0\n",
    "  beta[1] = norm(U[:,1])\n",
    "  U[:, 1] = U[:, 1] ./ beta[1]\n",
    "  V[:, 1] = A'U[:, 1]\n",
    "  alpha[1] = norm(V[:, 1])\n",
    "  V[:, 1] = V[:, 1] ./ alpha[1]\n",
    "  for i = 1:k\n",
    "    U[:, i + 1] = A * V[:, i] - alpha[i] * U[:, i]\n",
    "    beta[i + 1] = norm(U[:, i + 1])\n",
    "    U[:, i + 1] = U[:, i + 1] / beta[i + 1]\n",
    "    V[:, i + 1] = A'U[:, i + 1] - beta[i + 1] * V[:, i]\n",
    "    alpha[i + 1] = norm(V[:, i + 1])\n",
    "    V[:, i + 1] = V[:, i + 1] / alpha[i + 1]        \n",
    "  end\n",
    "  return U, V[:, 1:k], alpha[1:k], beta\n",
    "end;"
   ]
  },
  {
   "cell_type": "code",
   "execution_count": 27,
   "id": "b8045795",
   "metadata": {},
   "outputs": [],
   "source": [
    "Random.seed!(3)\n",
    "m = 100_000; n = 200;\n",
    "A = sprand(Float64, m, n, .4);\n",
    "b = rand(m);"
   ]
  },
  {
   "cell_type": "code",
   "execution_count": 28,
   "id": "96d7cadd",
   "metadata": {},
   "outputs": [
    {
     "data": {
      "text/plain": [
       "6.415087381394998"
      ]
     },
     "execution_count": 28,
     "metadata": {},
     "output_type": "execute_result"
    }
   ],
   "source": [
    "k = 5;\n",
    "U, V, alpha, beta = bidiagonalization(A, rand(m), k);\n",
    "B = spdiagm(k + 1, k, 0=>alpha, -1=>beta[2:k+1]);\n",
    "norm(U'A*V - B)"
   ]
  },
  {
   "cell_type": "code",
   "execution_count": 29,
   "id": "22e8ccd7",
   "metadata": {},
   "outputs": [
    {
     "data": {
      "text/plain": [
       "6×5 Matrix{Float64}:\n",
       " 773.996         8.41039e-11   1.57414e-7   0.000298512   0.589457\n",
       " 457.727         4.65152       9.30947e-8   0.00017654    0.348604\n",
       "   9.09368e-10  96.5391        4.41971      9.91893e-8    0.000195861\n",
       "   1.70404e-6    4.54171e-9   96.5037       4.36742       1.04521e-7\n",
       "   0.00322698    8.59641e-6    4.58986e-9  96.6373        4.1883\n",
       "   6.37841       0.0169915     9.07075e-6   4.78334e-9   96.5428"
      ]
     },
     "execution_count": 29,
     "metadata": {},
     "output_type": "execute_result"
    }
   ],
   "source": [
    "U'A*V"
   ]
  },
  {
   "cell_type": "code",
   "execution_count": 30,
   "id": "273bf8b0",
   "metadata": {},
   "outputs": [
    {
     "data": {
      "text/plain": [
       "6×5 SparseMatrixCSC{Float64, Int64} with 10 stored entries:\n",
       " 773.996    ⋅         ⋅         ⋅         ⋅ \n",
       " 457.727   4.65152    ⋅         ⋅         ⋅ \n",
       "    ⋅     96.5391    4.41971    ⋅         ⋅ \n",
       "    ⋅       ⋅       96.5037    4.36742    ⋅ \n",
       "    ⋅       ⋅         ⋅       96.6373    4.1883\n",
       "    ⋅       ⋅         ⋅         ⋅       96.5428"
      ]
     },
     "execution_count": 30,
     "metadata": {},
     "output_type": "execute_result"
    }
   ],
   "source": [
    "B"
   ]
  },
  {
   "cell_type": "code",
   "execution_count": 31,
   "id": "798a11c4",
   "metadata": {},
   "outputs": [
    {
     "data": {
      "text/plain": [
       "0.01003147391463673"
      ]
     },
     "execution_count": 31,
     "metadata": {},
     "output_type": "execute_result"
    }
   ],
   "source": [
    "norm(I - U'U)"
   ]
  },
  {
   "cell_type": "code",
   "execution_count": 32,
   "id": "4417753f",
   "metadata": {},
   "outputs": [
    {
     "data": {
      "text/plain": [
       "0.0010770355772659224"
      ]
     },
     "execution_count": 32,
     "metadata": {},
     "output_type": "execute_result"
    }
   ],
   "source": [
    "norm(I - V'V)"
   ]
  },
  {
   "cell_type": "raw",
   "id": "9874b158",
   "metadata": {},
   "source": [
    "\\subsection*{Exercise \\#7: Implement and test LSQR}"
   ]
  },
  {
   "cell_type": "code",
   "execution_count": 33,
   "id": "785d7e71",
   "metadata": {},
   "outputs": [],
   "source": [
    "function LSQR(A, b, x0, k, tol)\n",
    "  A_F = sqrt(sum(A.nzval.^2))\n",
    "  m, n = size(A)\n",
    "  U = zeros(Float64, m, k + 1)\n",
    "  V = zeros(Float64, n, k)\n",
    "  B = spdiagm(k + 1, k, 0=>zeros(Float64, k), -1=>zeros(Float64, k))\n",
    "  U[:, 1] = b - A * x0\n",
    "  beta1 = norm(U[:,1])\n",
    "  U[:, 1] = U[:, 1] ./ beta1\n",
    "  V[:, 1] = A'U[:, 1]\n",
    "  B[1, 1] = norm(V[:, 1])\n",
    "  V[:, 1] = V[:, 1] / B[1, 1]\n",
    "  beta1_x_e1 = zeros(Float64, k + 1); beta1_x_e1[1] = beta1\n",
    "  i = 0\n",
    "  err = 1.\n",
    "  yi = 1.\n",
    "  while (err > tol && i < k)\n",
    "    i += 1\n",
    "    U[:, i + 1] = A * V[:, i] - B[i, i] * U[:, i]\n",
    "    B[i + 1, i] = norm(U[:, i + 1])\n",
    "    U[:, i + 1] = U[:, i + 1] / B[i + 1, i]\n",
    "    V[:, i + 1] = A'U[:, i + 1] - B[i + 1, i] * V[:, i]\n",
    "    B[i + 1, i + 1] = norm(V[:, i + 1])\n",
    "    V[:, i + 1] = V[:, i + 1] / B[i + 1, i + 1]        \n",
    "    yi = B[1:i+1, 1:i] \\ beta1_x_e1[1:i+1]\n",
    "    ti = beta1_x_e1[1:i+1] - B[1:i+1, 1:i] * yi  # ||ti|| =  ||ri||\n",
    "    si = B[1:i+1, 1:i+1]'ti                      # ||si|| = ||A'ri||\n",
    "    err = norm(si) / (A_F * norm(ti))\n",
    "    @printf \"i = %i, ||A'ri||/(||A||.||ri||) = %.2E\\n\" i err\n",
    "  end\n",
    "  return x0 + V[:, 1:i] * yi\n",
    "end;"
   ]
  },
  {
   "cell_type": "code",
   "execution_count": 34,
   "id": "a20edaed",
   "metadata": {},
   "outputs": [
    {
     "name": "stdout",
     "output_type": "stream",
     "text": [
      "i = 1, ||A'ri||/(||A||.||ri||) = 5.75E-02\n",
      "i = 2, ||A'ri||/(||A||.||ri||) = 1.07E-02\n",
      "i = 3, ||A'ri||/(||A||.||ri||) = 4.53E-04\n",
      "i = 4, ||A'ri||/(||A||.||ri||) = 2.17E-05\n",
      "i = 5, ||A'ri||/(||A||.||ri||) = 1.07E-06\n"
     ]
    },
    {
     "data": {
      "text/plain": [
       "92.84273159426289"
      ]
     },
     "execution_count": 34,
     "metadata": {},
     "output_type": "execute_result"
    }
   ],
   "source": [
    "x = LSQR(A, b, rand(n), 100, 1e-5);\n",
    "norm(b - A * x)"
   ]
  },
  {
   "cell_type": "code",
   "execution_count": 35,
   "id": "bb49cc6a",
   "metadata": {},
   "outputs": [
    {
     "data": {
      "text/plain": [
       "92.84273158157164"
      ]
     },
     "execution_count": 35,
     "metadata": {},
     "output_type": "execute_result"
    }
   ],
   "source": [
    "x = A \\ b;\n",
    "norm(A * x - b)"
   ]
  }
 ],
 "metadata": {
  "kernelspec": {
   "display_name": "Julia 1.11.5",
   "language": "julia",
   "name": "julia-1.11"
  },
  "language_info": {
   "file_extension": ".jl",
   "mimetype": "application/julia",
   "name": "julia",
   "version": "1.11.5"
  }
 },
 "nbformat": 4,
 "nbformat_minor": 5
}
