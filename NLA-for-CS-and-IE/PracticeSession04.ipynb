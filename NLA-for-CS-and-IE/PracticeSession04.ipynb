{
 "cells": [
  {
   "cell_type": "raw",
   "id": "f6032e40-1121-4a54-b9c0-2cc7a0b02db7",
   "metadata": {},
   "source": [
    "\\section*{Numerical Linear Algebra for Computational Science and Information Engineering}\n",
    "\n",
    "\\subsection*{Direct Methods for Dense Linear Systems}\n",
    "\n",
    "Nicolas Venkovic (nicolas.venkovic@tum.edu)"
   ]
  },
  {
   "cell_type": "code",
   "execution_count": 1,
   "id": "11f14196-e19a-4fa6-9108-256f7c5db2a1",
   "metadata": {},
   "outputs": [],
   "source": [
    "using LinearAlgebra, Random, Plots, Printf, Latexify, LaTeXStrings"
   ]
  },
  {
   "cell_type": "raw",
   "id": "a6f16668-d662-4755-9714-c7d8d6df7a8e",
   "metadata": {},
   "source": [
    "\\subsection*{Exercise \\#1: Forward substition with row-wise data access}"
   ]
  },
  {
   "cell_type": "markdown",
   "id": "3cc6561f-66bc-4f9e-a0b3-85a37f3c3fd3",
   "metadata": {},
   "source": [
    "As we saw, to solve a lower triangular system $\\,Lx=b\\,$, we start by $\\,x_1=b_1/l_{11}$, which we then substitute in the expression to solve for $x_{2}$, and we keep moving **forward** like this. This yields the expression\n",
    "\n",
    "$$\n",
    "x_i:=\\left(b_i-\\sum_{j=1}^{i-1}l_{ij}x_j\\right)/l_{ii}\\;\\text{ for }\\;i=2,\\dots,n\n",
    "$$\n",
    "\n",
    "which is coded as follows:"
   ]
  },
  {
   "cell_type": "code",
   "execution_count": 2,
   "id": "d05b79cb-935c-446d-9983-63b43927f29d",
   "metadata": {},
   "outputs": [],
   "source": [
    "# Forward substitution with row-wise access to L\n",
    "function RowMajorForwardSubstitution(L, b) # ~ trtrsRow(L, b), p. 67 in Darve and Wootters (2021)\n",
    "  n = length(b)\n",
    "  x = Vector{Float64}(undef, n)\n",
    "  for i = 1:n\n",
    "    z = 0.\n",
    "    for j = 1:i-1\n",
    "      z += L[i, j] * x[j]\n",
    "    end\n",
    "    x[i] = (b[i] - z) / L[i, i]\n",
    "  end\n",
    "  return x\n",
    "end;"
   ]
  },
  {
   "cell_type": "markdown",
   "id": "cdd9dbaf-6fdb-4487-8ffa-348bd91f8d56",
   "metadata": {},
   "source": [
    "One thing we notice in this implementation is that, the data from $\\,L\\,$ is fetched **row-wise**, i.e., for a given index value $i$, the summation first uses $l_{i1}$, then $\\,l_{i2}\\,$, and then $\\,l_{i3}\\,$, and so on, until $\\,l_{i,i-1}$.\n",
    "\n",
    "However **Julia matrices** are stored in a **column-major** format, so that this pattern of data access results in multiple cache misses. "
   ]
  },
  {
   "cell_type": "raw",
   "id": "315d108a-d6f0-4c49-8663-895cf30a7628",
   "metadata": {},
   "source": [
    "\\subsection*{Exercise \\#2: Reorganizing forward substition to avoid cache misses}"
   ]
  },
  {
   "cell_type": "markdown",
   "id": "b39ca7e8",
   "metadata": {},
   "source": [
    "Instead of following a row-wise data access, we prefer to compute $\\,x_i\\,$ by streaming through the components of $\\,L\\,$ in a **column-wise** fashion. To see how to do that, let us expose how the components of $\\,x\\,$ are formed:\n",
    "\\begin{align*}\n",
    "&\\,x_1:=b_1/l_{11}\\\\\n",
    "&\\,x_2:=\\left(b_2-l_{21}x_1\\right)/l_{11}\\\\\n",
    "&\\,x_3:=\\left(b_3-l_{31}x_1-l_{32}x_2\\right)/l_{33}\\\\\n",
    "&\\,x_4:=\\left(b_4-l_{41}x_1-l_{42}x_2-l_{43}x_3\\right)/l_{44}\\\\\n",
    "&\\hspace{2cm}\\vdots\\\\\n",
    "&\\,x_{n}:=\\left(b_{n}-l_{n1}x_1-l_{n2}x_2-l_{n3}x_3-\\dots-l_{n,n-1}x_{n-1}\\right)/l_{nn}.\n",
    "\\end{align*}\n",
    "We can see that, once we are done evaluating $\\,x_i$, the partial contributions $\\,l_{i+1,i}x_i,\\,l_{i+2,i}x_i,\\,\\dots,\\,l_{ni}x_i\\,$ can all be added one after the other to $\\,x_{i+1},\\,x_{i+2},\\dots,x_n$, respectivelly.\n",
    "When doing so, the requirement is that $\\,x_{i+1}\\,$ is fully evaluated before adding its the partial contributions to the subsequent component $\\,x_{i+1},\\,x_{i+2},\\dots,x_n$.\n",
    "Thus, the calculation can be re-ordered as follows:\n",
    "\n",
    "\\begin{align*}\n",
    "0.\\;\\:&\\,x_1:=b_1,\\;x_2:=b_2,\\;\\dots,\\;x_n=b_n\\\\\n",
    "1.\\;\\:&\\,x_1:=x_1/l_{11}\\\\\n",
    "2.\\;\\:&\\,x_2:=x_2-l_{21}x_1,\\;x_3:=x_3-l_{31}x_1,\\;x_4:=x_4-l_{41}x_1,\\;\\dots,\\;x_n:=x_n-l_{n1}x_1\\\\\n",
    "3.\\;\\:&\\,x_2:=x_2/l_{22}\\\\\n",
    "4.\\;\\:&\\,\\hspace{3.447cm}x_3:=x_3-l_{32}x_2,\\;x_4:=x_4-l_{42}x_2,\\;\\dots,\\;x_n:=x_n-l_{n2}x_2\\\\\n",
    "5.\\;\\:&\\,x_3:=x_3/l_{33}\\\\\n",
    "6.\\;\\:&\\,\\hspace{6.85cm}x_4:=x_4-l_{43}x_3,\\;\\dots,\\;x_n:=x_n-l_{n3}x_3\\\\\n",
    "&\\hspace{1cm}\\vdots\\hspace{3cm}\\vdots\\hspace{3cm}\\vdots\\hspace{3cm}\\vdots\\\\\n",
    "2n-2.\\;\\:&\\,x_{n-1}:=x_{n-1}/l_{n-1,n-1}\\\\\n",
    "2n-1.\\;\\:&\\,\\hspace{11.2cm}x_n:=x_n-l_{n,n-1}x_{n-1}\\\\\n",
    "2n.\\;\\:&\\,x_n:=x_n/l_{nn}\n",
    "\\end{align*}\n",
    "\n",
    "where, clearly, the components of $\\,L\\,$ are now accessed row-wise. This is coded as follows:"
   ]
  },
  {
   "cell_type": "code",
   "execution_count": 3,
   "id": "341a89ae-200d-473f-a11a-da43301e6fa9",
   "metadata": {},
   "outputs": [],
   "source": [
    "# Forward substitution with column-wise access to L\n",
    "function ColumnMajorForwardSubstitution(L, b) # ~ trtrs(L, b), p. 67 in Darve and Wootters (2021)\n",
    "  n = length(b)\n",
    "  x = copy(b)\n",
    "  for j = 1:n\n",
    "    x[j] = x[j] / L[j, j]\n",
    "    for i = j+1:n\n",
    "      x[i] -= L[i, j] * x[j]\n",
    "    end\n",
    "  end\n",
    "  return x\n",
    "end;"
   ]
  },
  {
   "cell_type": "raw",
   "id": "27e22998-88fb-4b63-a056-e07de15f5318",
   "metadata": {},
   "source": [
    "\\subsection*{Exercise \\#3: Performance comparison of data access patterns for forward substitution}"
   ]
  },
  {
   "cell_type": "markdown",
   "id": "c5d40931-9f2c-4b5f-b5d0-624c2ae042d8",
   "metadata": {},
   "source": [
    "Let us now introduce a lower triangular matrix and measure the difference in runtime between the two approaches."
   ]
  },
  {
   "cell_type": "code",
   "execution_count": 4,
   "id": "a9f72aad-4574-4476-9f34-98d40cef26ba",
   "metadata": {},
   "outputs": [
    {
     "name": "stdout",
     "output_type": "stream",
     "text": [
      "n = 2000\n",
      "Row-wise access: dt = 3.65E-03, ||x - x_exact||_2 = 0.000000E+00\n",
      " Cache-friendly: dt = 2.66E-03, ||x - x_exact||_2 = 0.000000E+00\n",
      "n = 20000\n",
      "Row-wise access: dt = 1.36E+00, ||x - x_exact||_2 = 0.000000E+00\n",
      " Cache-friendly: dt = 1.47E-01, ||x - x_exact||_2 = 0.000000E+00\n"
     ]
    }
   ],
   "source": [
    "function get_L(n)\n",
    "  L = zeros(n, n)\n",
    "  for j=1:n\n",
    "    L[j,j] = 1.\n",
    "    L[j+1:n,j] = rand(-2:2, n-j)\n",
    "  end\n",
    "  return L\n",
    "end\n",
    "\n",
    "Random.seed!(123467);\n",
    "for n in (2_000, 20_000)\n",
    "  L = get_L(n)\n",
    "  x_exact = rand(0:9, n)\n",
    "  b = L * x_exact\n",
    "  dt1 = @elapsed x1 = RowMajorForwardSubstitution(L, b)\n",
    "  dt2 = @elapsed x2 = ColumnMajorForwardSubstitution(L, b)  \n",
    "  @printf \"n = %d\\n\" n\n",
    "  @printf \"Row-wise access: dt = %.2E, ||x - x_exact||_2 = %E\\n\" dt1 norm(x1 - x_exact)\n",
    "  @printf \" Cache-friendly: dt = %.2E, ||x - x_exact||_2 = %E\\n\" dt2 norm(x2 - x_exact)\n",
    "end"
   ]
  },
  {
   "cell_type": "raw",
   "id": "a2385708-cae9-477f-82f2-314baa63883c",
   "metadata": {},
   "source": [
    "\\subsection*{Exercise \\#4: Forward elimination without pivoting with row-wise access}"
   ]
  },
  {
   "cell_type": "markdown",
   "id": "168cb2bd-b435-4761-ac5e-95264c879766",
   "metadata": {},
   "source": [
    "For a given matrix $\\,A\\,$ with components $\\,a_{ij}=:a_{ij}^{(0)}$, we saw that **forward elimination without pivoting** goes a follows:\n",
    "\n",
    "\\begin{align*}\n",
    "&\\text{for }\\;k=1,\\dots,n-1\\color{gray}{\\text{ // Loop over Gauss transformations }G_1,\\dots,G_{n-1}}\\\\\n",
    "&\\hspace{.7cm}\\color{gray}{\\text{// Compute }A^{(k)}=G_{k}A^{(k-1)}}\\\\\n",
    "&\\hspace{.7cm}\\color{gray}{a_{ij}^{(k)}:=a_{ij}^{(k-1)}\\;\\text{ for }\\;i=1,\\dots,k\\;\\text{ and }\\;j=i,\\dots,n}\\\\\n",
    "&\\hspace{.7cm}\\color{gray}{a_{ij}^{(k)}:=0\\;\\text{ for }\\;j=1,\\dots,k\\;\\text{ and }\\;i=j+1,\\dots,n}\\\\\n",
    "&\\hspace{.7cm}\\text{for }\\;i=k+1,\\dots,n\\color{gray}{\\text{ // Loop over rows acted on by }G_k}\\\\\n",
    "&\\hspace{1.4cm}m_i^{(k)}:=a_{ik}^{(k-1)}/a_{kk}^{(k-1)}\\\\\n",
    "&\\hspace{1.4cm}\\text{for }\\;j=k+1,\\dots,n\\color{gray}{\\text{ // Loop over columns acted on by }G_k}\\\\\n",
    "&\\hspace{2.1cm}a_{ij}^{(k)}:=a_{ij}^{(k-1)}-m_i^{(k)}a_{kj}^{(k-1)}\n",
    "\\end{align*}\n",
    "\n",
    "We also saw that, **if no breakdown happens**, we obtain the upper triangular matrix $\\,U=G_{n-1}\\cdots G_1A=:A^{(n-1)}$. Moreover, the lower triangular matrix $\\,L:=G^{-1}_1\\cdots G^{-1}_{n-1}\\,$ is a by-product of the procedure, i.e., we have\n",
    "\n",
    "\\begin{align*}\n",
    "L=\n",
    "\\begin{bmatrix}\n",
    "1         &        &               & \\\\\n",
    "m_2^{(1)} & \\ddots &               & \\\\\n",
    "\\vdots    &        & 1             & \\\\\n",
    "m_n^{(1)} & \\cdots & m_{n}^{(n-1)} & 1\n",
    "\\end{bmatrix}\n",
    "\\end{align*}\n",
    "\n",
    "such that $\\,LU=A$. A first implementation to obtain the $\\,LU\\,$ factors of $\\,A\\,$ by forward elimination is as follows:"
   ]
  },
  {
   "cell_type": "code",
   "execution_count": 5,
   "id": "b0918ce7-d1cf-4a96-a029-7333dcc30501",
   "metadata": {},
   "outputs": [],
   "source": [
    "# \"outer-product\" implementation of forward elimination with row-wise data access\n",
    "function get_LU(A) # ~ getrfOuter!(A), p. 74 in Darve and Wootters (2021)\n",
    "  n, _ = size(A)\n",
    "  L = zeros(n, n); L[diagind(L)] .= 1.\n",
    "  U = copy(A)\n",
    "  for k = 1:n-1\n",
    "    for i = k+1:n\n",
    "      m = U[i, k] / U[k, k]\n",
    "      for j = k+1:n        \n",
    "        U[i, j] -= m * U[k, j]\n",
    "      end\n",
    "      L[i, k] = m\n",
    "    end\n",
    "    U[k+1:n, k] .= 0.\n",
    "  end\n",
    "  return L, U\n",
    "end;"
   ]
  },
  {
   "cell_type": "markdown",
   "id": "6c450185-f922-409d-b9ce-3fe063eaa34c",
   "metadata": {},
   "source": [
    "which we can test with a matrix as follows:"
   ]
  },
  {
   "cell_type": "code",
   "execution_count": 6,
   "id": "b8938b8e-fa01-492d-a20c-8d4ee7d12613",
   "metadata": {},
   "outputs": [
    {
     "name": "stdout",
     "output_type": "stream",
     "text": [
      "9.82927766795898e-15\n",
      "1.8189894035458565e-12\n",
      "5.0391690820106305e-11\n"
     ]
    }
   ],
   "source": [
    "function get_A(n)\n",
    "  A = zeros(n, n)\n",
    "  for j=1:n\n",
    "    A[:,j] = rand(-2:2, n)\n",
    "    A[j,j] = 1.    \n",
    "  end\n",
    "  return A\n",
    "end;\n",
    "\n",
    "Random.seed!(123467)\n",
    "\n",
    "for n in (10, 100, 1_000)\n",
    "  A = get_A(n)\n",
    "  L, U = get_LU(A)\n",
    "  println(maximum(abs.(L * U - A)))\n",
    "end"
   ]
  },
  {
   "cell_type": "markdown",
   "id": "89ca35f2-a626-4a73-8950-5bc71245103a",
   "metadata": {},
   "source": [
    "We also saw that $\\,Ax=b\\,$ can be solved in two triangular solves, i.e.,\n",
    "\n",
    "\\begin{align*}\n",
    "&\\text{1. Solve for }z\\text{ such that }Lz=b,\\\\\n",
    "&\\text{2. Solve for }x\\text{ such that }Ux=z.\n",
    "\\end{align*}"
   ]
  },
  {
   "cell_type": "code",
   "execution_count": 7,
   "id": "525e8c30-64de-48b8-8ea8-603370860754",
   "metadata": {},
   "outputs": [
    {
     "name": "stdout",
     "output_type": "stream",
     "text": [
      "n = 10, ||x - x_exact||_2/||x_exact||_2 = 5.237667E-15\n",
      "n = 100, ||x - x_exact||_2/||x_exact||_2 = 1.322292E-11\n",
      "n = 1000, ||x - x_exact||_2/||x_exact||_2 = 1.595005E-11\n"
     ]
    }
   ],
   "source": [
    "Random.seed!(1)\n",
    "\n",
    "for n in (10, 100, 1_000)\n",
    "  A = get_A(n)\n",
    "  x_exact = rand(0:9, n)\n",
    "  b = A * x_exact\n",
    "  L, U = get_LU(A)\n",
    "  z = LowerTriangular(L) \\ b # Forward substitution\n",
    "  x = UpperTriangular(U) \\ z # Backward substitution\n",
    "  @printf \"n = %d, ||x - x_exact||_2/||x_exact||_2 = %E\\n\" n norm(x - x_exact) / norm(x_exact)\n",
    "end"
   ]
  },
  {
   "cell_type": "raw",
   "id": "e4542fd3-4db3-4aea-941d-65c359c0f044",
   "metadata": {},
   "source": [
    "\\subsection*{Exercise \\#5: In-place LU factorization without pivoting with row-wise access}"
   ]
  },
  {
   "cell_type": "markdown",
   "id": "fb368528-f9f6-4092-a0b1-f2478a304138",
   "metadata": {},
   "source": [
    "Clearly, $\\,U\\,$ can be computed in-place, i.e., the components of $\\,A^{(1)},\\dots,A^{(n-2)},A^{(n-1)}=U\\,$ can be stored within $\\,A\\,$ from one Gauss transformation to another.\n",
    "\n",
    "Also, for a given transformation $\\,G_k$, the components $a^{(k)}_{k+1,k},\\dots,a^{(k)}_{nk}$, which are set to zero by construction, can be used to store the components of the $k$-th column of $\\,L\\,$ below the diagonal, i.e., $\\,m^{(k)}_{k+1},\\dots,m^{(k)}_{n}$.\n",
    "\n",
    "Then, no extra memory needs to be alocated, and upon completion of the forward elimination procedure, $\\,A\\,$ contains simultaneously the components of $\\,U\\,$ in its upper-triangular part, and the non-trivial components of $\\,L$.\n",
    "\n",
    "This is coded as follows:"
   ]
  },
  {
   "cell_type": "code",
   "execution_count": 8,
   "id": "85f1f4e1-b250-4405-a89a-acb30b4b42b7",
   "metadata": {},
   "outputs": [],
   "source": [
    "# In-place \"outer-product\" implementation of forward elimination with row-wise data access\n",
    "function RowMajor_LU_InPlace!(A) # ~ getrfOuter!(A), p. 74 in Darve and Wootters (2021)\n",
    "  n, _ = size(A)\n",
    "  for k = 1:n-1\n",
    "    for i = k+1:n\n",
    "      A[i, k] /= A[k, k]\n",
    "    end\n",
    "    for i = k+1:n\n",
    "      for j = k+1:n\n",
    "        A[i, j] -= A[i, k] * A[k, j]\n",
    "      end\n",
    "    end\n",
    "  end\n",
    "end;"
   ]
  },
  {
   "cell_type": "code",
   "execution_count": 9,
   "id": "a24e76e1-0a46-4d92-9163-39d18b46fec6",
   "metadata": {},
   "outputs": [
    {
     "name": "stdout",
     "output_type": "stream",
     "text": [
      "3.6419578464119695e-10\n"
     ]
    }
   ],
   "source": [
    "Random.seed!(12345)\n",
    "n = 1_000\n",
    "A = get_A(n)\n",
    "A_LU = copy(A)\n",
    "RowMajor_LU_InPlace!(A_LU)\n",
    "U = UpperTriangular(copy(A_LU))\n",
    "L = LowerTriangular(copy(A_LU)); L[diagind(L)] .= 1.\n",
    "println(maximum(abs.(L * U - A)))"
   ]
  },
  {
   "cell_type": "markdown",
   "id": "763f5b16-5dfc-4525-b4d6-b67d33098187",
   "metadata": {},
   "source": [
    "Looking at the way the non-trivial components of $\\,A^{(k)}=G_kA^{(k-1)}\\,$ are set, we see the inner-most loop of the initial implementation of forward elimination iterates in a row-wise fashion over components of $\\,A^{(k-1)}$, i.e., we set\n",
    "\\begin{align*}\n",
    "a^{(k)}_{ij}:=a^{(k-1)}_{ij}-m_i^{(k)}a_{kj}^{(k-1)}\\;\\text{ by iterating over }\\;j=k+1,\\dots,n\n",
    "\\end{align*}\n",
    "for $\\,i=k+1,\\dots,n$.\n",
    "\n",
    "Therefore, for a given $\\,k\\,$ such that each $\\,1\\leq k<n\\,$, we have\n",
    "\\begin{align}\n",
    "a_{ij}^{(k)}=\\dots=a_{ij}^{(n-1)}=u_{ij}\n",
    "\\;\\text{ for }\\;i\\in\\{1,\\dots,k+1\\}\n",
    "\\;\\text{ and }\\;j\\in\\{i,\\dots,k+1\\}\n",
    "\\end{align}\n",
    "where $\\,u_{ij}\\,$ denotes the components of the upper-triangular factor $\\,U$.\n",
    "Therefore, we have\n",
    "\\begin{align*}\n",
    "u_{ij}=a_{ij}^{(i-1)}\n",
    "\\;\\text{ for }\\;i\\in\\{1,\\dots,j\\}.\n",
    "\\end{align*}"
   ]
  },
  {
   "cell_type": "raw",
   "id": "fddad6c2-f541-493d-a54b-84d68f897f0e",
   "metadata": {},
   "source": [
    "\\subsection*{Exercise \\#6: Reorganizing forward elimination for cache-friendly in-place LU factorization without pivoting}"
   ]
  },
  {
   "cell_type": "markdown",
   "id": "62b3614f-bfd7-429e-bb90-69dfc20a9daf",
   "metadata": {},
   "source": [
    "Instead of iterating over $\\,G_1,\\dots,G_{n-1}\\,$ in an outer-most loop, we wish to form $\\,U\\,$ column-by-column. That is, given a column $\\,j\\,$ such that $\\,1<j\\leq n\\,$, assume the non-trivial components of the $\\,j-1\\,$ first columns of $\\,U\\,$ are known, and we want to form $\\,u_{ij}\\,$ for $\\,i=1,\\dots,j$. Then we have\n",
    "\\begin{align*}\n",
    "u_{1j}=&\\;a_{1j}^{(0)}\\\\\n",
    "u_{2j}=&\\;{\\color{blue}a_{2j}^{(1)}}=a_{2j}^{(0)}-m_{2}^{(1)}a_{1j}^{(0)}\\\\\n",
    "u_{3j}=&\\;a_{3j}^{(2)}={\\color{red}a_{3j}^{(1)}}-m_{3}^{(2)}{\\color{blue}a_{2j}^{(1)}}\\\\\n",
    "&\\,\\vdots\\\\\n",
    "u_{j-1,j}=&\\;{\\color{blue}a_{j-1,j}^{(j-2)}}={\\color{red}a_{j-1,j}^{(j-3)}}-m_{j-1}^{(j-2)}a_{j-2,j}^{(j-3)}\\\\\n",
    "u_{jj}=&\\;a_{jj}^{(j-1)}={\\color{red}a_{jj}^{(j-2)}}-m_{j}^{(j-1)}{\\color{blue}a_{j-1,j}^{(j-2)}}\n",
    "\\end{align*}\n",
    "where $\\,{\\color{red}a_{3j}^{(1)}},\\dots,{\\color{red}a_{jj}^{(j-2)}}\\,$ are not computed yet.\n",
    "However, in general, for $\\,k<j\\,$, we can also evaluate $\\,{\\color{red}a^{(k)}_{ij}}\\,$ by\n",
    "\\begin{align*}\n",
    "&\\color{gray}{\\text{ // Forming }a_{ij}^{(k)}\\text{ from }a_{ij}^{(0)},a_{ij}^{(1)},\\dots,a_{ij}^{(k-1)}:}\\\\\n",
    "&\\text{for }\\;l=1,\\dots,k\\\\\n",
    "&\\hspace{.7cm}a^{(l)}_{ij}:=a^{(l-1)}_{ij}-m_i^{(l)}a_{lj}^{(l-1)}\n",
    "\\end{align*}\n",
    "\n",
    "Therefore, the components $\\,u_{ij}\\,$ for $\\,i=1,\\dots,j\\,$ may be computed only using the components $\\,a_{1j}^{(0)},\\dots,a_{jj}^{(0)}\\,$ and \n",
    "\\begin{align*}\n",
    "&m_2^{(1)}&\\text{ for }\\;u_{2j}\\\\\n",
    "&m_3^{(1)},m_3^{(2)}&\\text{ for }\\;u_{3j}\\\\\n",
    "&\\hspace{1cm}\\vdots\\\\\n",
    "&m_{j-1}^{(1)},\\dots,m_{j-1}^{(j-2)}&\\text{ for }\\;u_{j-1,j}\\\\\n",
    "&m_j^{(1)},\\dots,m_{j}^{(j-2)},m_j^{(j-1)}&\\text{ for }\\;u_{jj}\n",
    "\\end{align*}\n",
    "which are the non-trivial components of the $\\,j-1\\,$ first columns of the lower-triangular factor $\\,L$.\n",
    "While the evaluation of $\\,m_{2}^{(1)},\\dots,m_{n}^{(1)}\\,$ from $\\,a_{11}^{(0)},\\dots,a_{n1}^{(0)}\\,$ is a given, the evaluation of $\\,m_{j+1}^{(j)},\\dots,m_{n}^{(j)}\\,$ such that $\\,1<j<n\\,$ is done by\n",
    "\\begin{align*}\n",
    "m_{j+1}^{(j)}=&\\;a_{j+1,j}^{(j-1)}/a_{jj}^{(j-1)}=a_{j+1,j}^{(j-1)}/u_{jj}\\\\\n",
    "\\vdots\\\\\n",
    "m_{n}^{(j)}=&\\;a_{n,j}^{(j-1)}/a_{jj}^{(j-1)}=a_{n,j}^{(j-1)}/u_{jj}\n",
    "\\end{align*}\n",
    "where, simimlarly, \n",
    "\\begin{align*}\n",
    "a_{j+1,j}^{(j-1)}&\\;\\text{ can be formed from }\\;a_{j+1,j}^{(0)},\\dots,a_{j+1,j}^{(j-2)}\\\\\n",
    "&\\hspace{1.5cm}\\vdots\\\\\n",
    "a_{n,j}^{(j-1)}&\\;\\text{ can be formed from }\\;a_{n,j}^{(0)},\\dots,a_{n,j}^{(j-2)}\n",
    "\\end{align*}\n",
    "\n",
    "Therefore, the non-trivial components of the $\\,j\\,$-column of the lower-triangular and upper-triangular factors of $\\,A$, i.e., $\\,L\\,$ and $\\,U\\,$, respectively, can be formed using only data from the $\\,j$-th column of $\\,A$, and the components in the previously formed columns of $\\,L$. \n",
    "This can be done with an inner-most loop which iterates in a column-wise fashion of the components of $\\,A$.\n",
    "This is done as follows:"
   ]
  },
  {
   "cell_type": "code",
   "execution_count": 10,
   "id": "5605c3b4-75bc-4798-9d08-02115539a400",
   "metadata": {},
   "outputs": [],
   "source": [
    "# In-place implementation of forward elimination with column-wise data access\n",
    "function ColumnMajor_LU_InPlace!(A) # ~ getrfAxpy!(A), p. 75 in Darve and Wootters (2021)\n",
    "  n, _ = size(A)\n",
    "  for j = 1:n\n",
    "    for k = 1:j-1\n",
    "      for i = k+1:n\n",
    "        A[i, j] -= A[i, k] * A[k, j]\n",
    "      end\n",
    "    end\n",
    "    for i = j+1:n\n",
    "      A[i, j] /= A[j, j]\n",
    "    end\n",
    "  end\n",
    "end;"
   ]
  },
  {
   "cell_type": "raw",
   "id": "8dd69ec0-823f-4e67-966c-c81e9a0e245d",
   "metadata": {},
   "source": [
    "\\subsection*{Exercise \\#7: Compare runtime of in-place LU factorization without pivoting with different data access patterns}"
   ]
  },
  {
   "cell_type": "markdown",
   "id": "8a7b5a33-ba9d-4073-8968-878cae0cf797",
   "metadata": {},
   "source": [
    "The effect on runtime is as follows:"
   ]
  },
  {
   "cell_type": "code",
   "execution_count": 12,
   "id": "26e782ae-fe2f-47f3-b286-ded7634ff5e6",
   "metadata": {},
   "outputs": [
    {
     "name": "stdout",
     "output_type": "stream",
     "text": [
      "n = 10\n",
      "Row-wise access: dt = 4.523e-06, component-wise max error = 7.105427E-15\n",
      " Cache-friendly: dt = 3.621e-06, component-wise max error = 7.105427E-15\n",
      "n = 100\n",
      "Row-wise access: dt = 0.000242756, component-wise max error = 8.390133E-11\n",
      " Cache-friendly: dt = 0.000220563, component-wise max error = 8.390133E-11\n",
      "n = 1000\n",
      "Row-wise access: dt = 0.43181, component-wise max error = 7.033041E-11\n",
      " Cache-friendly: dt = 0.17278, component-wise max error = 7.033041E-11\n"
     ]
    }
   ],
   "source": [
    "Random.seed!(1)\n",
    "\n",
    "for n in (10, 100, 1_000)\n",
    "  A = get_A(n)\n",
    "  rand(0:9, n);\n",
    "  A_LU = copy(A) \n",
    "  dt = @elapsed get_LU_InPlace!(A_LU)\n",
    "  U = UpperTriangular(copy(A_LU))\n",
    "  L = LowerTriangular(copy(A_LU)); L[diagind(L)] .= 1.  \n",
    "  @printf \"n = %d\\n\" n\n",
    "  @printf \"Row-wise access: dt = %g, component-wise max error = %E\\n\" dt maximum(abs.(L * U - A))\n",
    "  A_LU = copy(A) \n",
    "  dt = @elapsed ColumnMajor_LU_InPlace!(A_LU)\n",
    "  U = UpperTriangular(copy(A_LU))\n",
    "  L = LowerTriangular(copy(A_LU)); L[diagind(L)] .= 1.      \n",
    "  @printf \" Cache-friendly: dt = %g, component-wise max error = %E\\n\" dt maximum(abs.(L * U - A))\n",
    "end"
   ]
  }
 ],
 "metadata": {
  "kernelspec": {
   "display_name": "Julia 1.11.5",
   "language": "julia",
   "name": "julia-1.11"
  },
  "language_info": {
   "file_extension": ".jl",
   "mimetype": "application/julia",
   "name": "julia",
   "version": "1.11.5"
  }
 },
 "nbformat": 4,
 "nbformat_minor": 5
}
