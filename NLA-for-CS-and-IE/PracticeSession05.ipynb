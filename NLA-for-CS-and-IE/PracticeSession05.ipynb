{
 "cells": [
  {
   "cell_type": "raw",
   "id": "d9d580e8-1ba4-4e5a-af41-4dda43285a61",
   "metadata": {},
   "source": [
    "\\section*{Numerical Linear Algebra for Computational Science and Information Engineering}\n",
    "\n",
    "\\subsection*{Sparse Data Structures and Basic Linear Algebra Subprograms}\n",
    "\n",
    "Nicolas Venkovic (nicolas.venkovic@tum.edu)"
   ]
  },
  {
   "cell_type": "code",
   "execution_count": 1,
   "id": "11f14196-e19a-4fa6-9108-256f7c5db2a1",
   "metadata": {},
   "outputs": [],
   "source": [
    "using LinearAlgebra, Plots, Printf, Latexify, LaTeXStrings, BenchmarkTools"
   ]
  },
  {
   "cell_type": "raw",
   "id": "f0e7a5c9-6efd-4659-aac5-9dadebe30fba",
   "metadata": {},
   "source": [
    "\\subsection*{Exercise \\#1: Julia's built-in CSC sparse matrix format}"
   ]
  },
  {
   "cell_type": "code",
   "execution_count": 2,
   "id": "5d43945f",
   "metadata": {},
   "outputs": [],
   "source": [
    "using MatrixMarket: mmread\n",
    "using SparseArrays"
   ]
  },
  {
   "cell_type": "markdown",
   "id": "3183db31",
   "metadata": {},
   "source": [
    "The built-in sparse matrix format of Julia is CSC:"
   ]
  },
  {
   "cell_type": "code",
   "execution_count": 3,
   "id": "2f6b9c88",
   "metadata": {},
   "outputs": [
    {
     "data": {
      "text/plain": [
       "5×5 SparseMatrixCSC{Float64, Int64} with 19 stored entries:\n",
       " 0.666667   0.366556  0.300111  0.366556  0.300111\n",
       " 0.100037   0.533407   ⋅        0.200074   ⋅ \n",
       " 0.122185    ⋅        0.577704   ⋅        0.244371\n",
       " 0.0500184  0.100037   ⋅        0.283315  0.183278\n",
       " 0.0610927   ⋅        0.122185  0.150055  0.272241"
      ]
     },
     "execution_count": 3,
     "metadata": {},
     "output_type": "execute_result"
    }
   ],
   "source": [
    "A_csc = mmread(\"../../../matrix-market/cage3.mtx\")"
   ]
  },
  {
   "cell_type": "code",
   "execution_count": 4,
   "id": "3b4449c9",
   "metadata": {},
   "outputs": [
    {
     "name": "stdout",
     "output_type": "stream",
     "text": [
      "UnionAll\n",
      "  var: TypeVar\n",
      "    name: Symbol Tv\n",
      "    lb: Union{}\n",
      "    ub: Any\n",
      "  body: UnionAll\n",
      "    var: TypeVar\n",
      "      name: Symbol Ti\n",
      "      lb: Union{}\n",
      "      ub: Integer <: Real\n",
      "    body: SparseMatrixCSC{Tv, Ti<:Integer} <: SparseArrays.AbstractSparseMatrixCSC{Tv, Ti<:Integer}\n",
      "      m::Int64\n",
      "      n::Int64\n",
      "      colptr::Vector{Ti}\n",
      "      rowval::Vector{Ti}\n",
      "      nzval::Vector{Tv}\n"
     ]
    }
   ],
   "source": [
    "dump(SparseMatrixCSC)"
   ]
  },
  {
   "cell_type": "code",
   "execution_count": 5,
   "id": "241c07c4",
   "metadata": {},
   "outputs": [
    {
     "data": {
      "text/plain": [
       "(5, 5)"
      ]
     },
     "execution_count": 5,
     "metadata": {},
     "output_type": "execute_result"
    }
   ],
   "source": [
    "A_csc.m, A_csc.n"
   ]
  },
  {
   "cell_type": "code",
   "execution_count": 6,
   "id": "dafd387b",
   "metadata": {},
   "outputs": [
    {
     "data": {
      "text/plain": [
       "19-element Vector{Float64}:\n",
       " 0.666666666666667\n",
       " 0.100036889486116\n",
       " 0.122185332736106\n",
       " 0.050018444743058\n",
       " 0.0610926663680531\n",
       " 0.366555998208319\n",
       " 0.533407112305565\n",
       " 0.100036889486116\n",
       " 0.300110668458348\n",
       " 0.577703998805546\n",
       " 0.122185332736106\n",
       " 0.366555998208319\n",
       " 0.200073778972232\n",
       " 0.283314888590275\n",
       " 0.150055334229174\n",
       " 0.300110668458348\n",
       " 0.244370665472212\n",
       " 0.183277999104159\n",
       " 0.27224066696528"
      ]
     },
     "execution_count": 6,
     "metadata": {},
     "output_type": "execute_result"
    }
   ],
   "source": [
    "A_csc.nzval"
   ]
  },
  {
   "cell_type": "code",
   "execution_count": 7,
   "id": "7b416801",
   "metadata": {},
   "outputs": [
    {
     "data": {
      "text/plain": [
       "([1, 2, 3, 4, 5, 1, 2, 4, 1, 3, 5, 1, 2, 4, 5, 1, 3, 4, 5], [1, 6, 9, 12, 16, 20])"
      ]
     },
     "execution_count": 7,
     "metadata": {},
     "output_type": "execute_result"
    }
   ],
   "source": [
    "A_csc.rowval, A_csc.colptr"
   ]
  },
  {
   "cell_type": "markdown",
   "id": "c98bc954",
   "metadata": {},
   "source": [
    "In CSC, the non-zero values are stored by column. \n",
    "\n",
    "For the CSC format, the SpMV kernel has a column-wise inner-most loop which iterates over row indices of a given colum, and the outer loop iterates over columns. An implementation of the SpMV kernel is given by"
   ]
  },
  {
   "cell_type": "markdown",
   "id": "9b14dc85",
   "metadata": {},
   "source": [
    "\\subsection*{Exercise \\#2: SpMV kernel for the CSC format}"
   ]
  },
  {
   "cell_type": "code",
   "execution_count": 10,
   "id": "05962cea",
   "metadata": {},
   "outputs": [
    {
     "data": {
      "text/plain": [
       "dcscmv (generic function with 1 method)"
      ]
     },
     "execution_count": 10,
     "metadata": {},
     "output_type": "execute_result"
    }
   ],
   "source": [
    "function dcscmv(A::SparseMatrixCSC, x::Vector{Float64})\n",
    "    y = zeros(A.m)\n",
    "    for j in 1:A.n\n",
    "        for i in A.colptr[j]:A.colptr[j+1]-1\n",
    "           y[A.rowval[i]] += A.nzval[i] * x[j] \n",
    "        end\n",
    "    end\n",
    "    return y\n",
    "end"
   ]
  },
  {
   "cell_type": "code",
   "execution_count": 11,
   "id": "cc3ede14",
   "metadata": {},
   "outputs": [
    {
     "name": "stdout",
     "output_type": "stream",
     "text": [
      "  30.767 ns (2 allocations: 96 bytes)\n"
     ]
    },
    {
     "data": {
      "text/plain": [
       "5-element Vector{Float64}:\n",
       " 0.9604101914079568\n",
       " 0.24553763592463487\n",
       " 0.6198029953005734\n",
       " 0.3279669573558319\n",
       " 0.34004500105563085"
      ]
     },
     "execution_count": 11,
     "metadata": {},
     "output_type": "execute_result"
    }
   ],
   "source": [
    "x = rand(A_csc.n); \n",
    "@btime A_csc * x"
   ]
  },
  {
   "cell_type": "code",
   "execution_count": 12,
   "id": "2afb6160",
   "metadata": {},
   "outputs": [
    {
     "name": "stdout",
     "output_type": "stream",
     "text": [
      "  35.037 ns (2 allocations: 96 bytes)\n"
     ]
    },
    {
     "data": {
      "text/plain": [
       "5-element Vector{Float64}:\n",
       " 0.9604101914079568\n",
       " 0.24553763592463487\n",
       " 0.6198029953005734\n",
       " 0.3279669573558319\n",
       " 0.34004500105563085"
      ]
     },
     "execution_count": 12,
     "metadata": {},
     "output_type": "execute_result"
    }
   ],
   "source": [
    "@btime dcscmv(A_csc,x)"
   ]
  },
  {
   "cell_type": "raw",
   "id": "cb2fe0df-2946-4fb4-ace1-ffcc502e4db8",
   "metadata": {},
   "source": [
    "\\subsection*{Exercise \\#3: Convert CSC matrix to COO format}"
   ]
  },
  {
   "cell_type": "code",
   "execution_count": 13,
   "id": "be9de962",
   "metadata": {},
   "outputs": [],
   "source": [
    "mutable struct SparseMatrixCOO\n",
    "    m::Int # Number of rows\n",
    "    n::Int # Number of columns\n",
    "    rowval::Vector{Int} # Starting index for each row\n",
    "    colval::Vector{Int} # Column indices\n",
    "    nzval::Vector{Float64} # Matrix entries\n",
    "end"
   ]
  },
  {
   "cell_type": "code",
   "execution_count": 14,
   "id": "d08206c4",
   "metadata": {},
   "outputs": [
    {
     "data": {
      "text/plain": [
       "csc_to_coo (generic function with 1 method)"
      ]
     },
     "execution_count": 14,
     "metadata": {},
     "output_type": "execute_result"
    }
   ],
   "source": [
    "function csc_to_coo(A::SparseMatrixCSC)\n",
    "    m, n = A.m, A.n\n",
    "    nzval = A.nzval\n",
    "    rowval = A.rowval\n",
    "    colval = similar(A.rowval)\n",
    "    j = 0\n",
    "    for jj in 1:n\n",
    "        j += 1\n",
    "        for k in A.colptr[jj]:A.colptr[jj+1]-1 \n",
    "            colval[k] = j\n",
    "        end\n",
    "    end\n",
    "    return SparseMatrixCOO(m, n, rowval, colval, nzval)\n",
    "end"
   ]
  },
  {
   "cell_type": "code",
   "execution_count": 15,
   "id": "a291a476",
   "metadata": {},
   "outputs": [
    {
     "name": "stdout",
     "output_type": "stream",
     "text": [
      "  30.814 ns (3 allocations: 256 bytes)\n"
     ]
    }
   ],
   "source": [
    "A_coo = @btime csc_to_coo(A_csc);"
   ]
  },
  {
   "cell_type": "code",
   "execution_count": 16,
   "id": "c652d318",
   "metadata": {},
   "outputs": [
    {
     "data": {
      "text/plain": [
       "(5, 5)"
      ]
     },
     "execution_count": 16,
     "metadata": {},
     "output_type": "execute_result"
    }
   ],
   "source": [
    "A_coo.m, A_coo.n"
   ]
  },
  {
   "cell_type": "code",
   "execution_count": 17,
   "id": "90db4712",
   "metadata": {},
   "outputs": [
    {
     "data": {
      "text/plain": [
       "19-element Vector{Float64}:\n",
       " 0.666666666666667\n",
       " 0.100036889486116\n",
       " 0.122185332736106\n",
       " 0.050018444743058\n",
       " 0.0610926663680531\n",
       " 0.366555998208319\n",
       " 0.533407112305565\n",
       " 0.100036889486116\n",
       " 0.300110668458348\n",
       " 0.577703998805546\n",
       " 0.122185332736106\n",
       " 0.366555998208319\n",
       " 0.200073778972232\n",
       " 0.283314888590275\n",
       " 0.150055334229174\n",
       " 0.300110668458348\n",
       " 0.244370665472212\n",
       " 0.183277999104159\n",
       " 0.27224066696528"
      ]
     },
     "execution_count": 17,
     "metadata": {},
     "output_type": "execute_result"
    }
   ],
   "source": [
    "A_coo.nzval"
   ]
  },
  {
   "cell_type": "code",
   "execution_count": 18,
   "id": "55a7863b",
   "metadata": {},
   "outputs": [
    {
     "data": {
      "text/plain": [
       "([1, 2, 3, 4, 5, 1, 2, 4, 1, 3, 5, 1, 2, 4, 5, 1, 3, 4, 5], [1, 1, 1, 1, 1, 2, 2, 2, 3, 3, 3, 4, 4, 4, 4, 5, 5, 5, 5])"
      ]
     },
     "execution_count": 18,
     "metadata": {},
     "output_type": "execute_result"
    }
   ],
   "source": [
    "A_coo.rowval, A_coo.colval"
   ]
  },
  {
   "cell_type": "markdown",
   "id": "2e634bd5",
   "metadata": {},
   "source": [
    "\\subsection*{Exercise \\#4: SpMV kernel for the COO format}"
   ]
  },
  {
   "cell_type": "markdown",
   "id": "0a9e7149",
   "metadata": {},
   "source": [
    "In the COO format, the non-zero elements are not stored in any particular order.\n",
    "\n",
    "The corresponing SpMV kernel is written simply by browsing through the non-zero elements in the order they are given."
   ]
  },
  {
   "cell_type": "code",
   "execution_count": 19,
   "id": "e27901f1",
   "metadata": {},
   "outputs": [
    {
     "data": {
      "text/plain": [
       "dcoomv (generic function with 1 method)"
      ]
     },
     "execution_count": 19,
     "metadata": {},
     "output_type": "execute_result"
    }
   ],
   "source": [
    "function dcoomv(A::SparseMatrixCOO, x::Vector{Float64})\n",
    "    y = zeros(A.m)\n",
    "    for k in 1:length(A.nzval)\n",
    "        y[A.rowval[k]] += A.nzval[k] * x[A.colval[k]]\n",
    "    end\n",
    "    return y\n",
    "end"
   ]
  },
  {
   "cell_type": "code",
   "execution_count": 20,
   "id": "52d7090d",
   "metadata": {},
   "outputs": [
    {
     "name": "stdout",
     "output_type": "stream",
     "text": [
      "  27.097 ns (2 allocations: 96 bytes)\n"
     ]
    },
    {
     "data": {
      "text/plain": [
       "5-element Vector{Float64}:\n",
       " 0.9604101914079568\n",
       " 0.24553763592463487\n",
       " 0.6198029953005734\n",
       " 0.3279669573558319\n",
       " 0.34004500105563085"
      ]
     },
     "execution_count": 20,
     "metadata": {},
     "output_type": "execute_result"
    }
   ],
   "source": [
    "@btime dcoomv(A_coo, x)"
   ]
  },
  {
   "cell_type": "markdown",
   "id": "f5beeb0c",
   "metadata": {},
   "source": [
    "One built-in way to define a ```SparseMatrixCSC``` is through the elements of a COO datastructure:"
   ]
  },
  {
   "cell_type": "raw",
   "id": "a479369c-c727-4006-83f5-7c0ae1f13470",
   "metadata": {},
   "source": [
    "\\subsection*{Exercise \\#5: Convert COO matrix to CSR format}"
   ]
  },
  {
   "cell_type": "code",
   "execution_count": 23,
   "id": "f709222e",
   "metadata": {},
   "outputs": [],
   "source": [
    "mutable struct SparseMatrixCSR\n",
    "    m::Int # Number of rows\n",
    "    n::Int # Number of columns\n",
    "    rowptr::Vector{Int} # Starting index for each row\n",
    "    colval::Vector{Int} # Column indices\n",
    "    nzval::Vector{Float64} # Matrix entries\n",
    "end"
   ]
  },
  {
   "cell_type": "code",
   "execution_count": 24,
   "id": "45556ed8",
   "metadata": {},
   "outputs": [
    {
     "data": {
      "text/plain": [
       "coo_to_csr (generic function with 1 method)"
      ]
     },
     "execution_count": 24,
     "metadata": {},
     "output_type": "execute_result"
    }
   ],
   "source": [
    "function coo_to_csr(A::SparseMatrixCOO)\n",
    "    nnz = length(A.nzval)\n",
    "    \n",
    "    coo_tuples = [(A.rowval[i], A.colval[i], A.nzval[i]) for i in 1:nnz]\n",
    "    sort!(coo_tuples, by = x -> (x[1], x[2]))\n",
    "    \n",
    "    colval = [t[2] for t in coo_tuples]\n",
    "    nzval = [t[3] for t in coo_tuples]\n",
    "    \n",
    "    rowptr = zeros(Int, A.n+1)\n",
    "    # Count number of non-zero values per row\n",
    "    for i in A.rowval\n",
    "        rowptr[i+1] += 1\n",
    "    end\n",
    "    \n",
    "    # Prefix sum to get rowptr\n",
    "    rowptr[1] = 1\n",
    "    for i in 1:A.n\n",
    "        rowptr[i+1] += rowptr[i]\n",
    "    end\n",
    "    \n",
    "    return SparseMatrixCSR(A.m, A.n, rowptr, colval, nzval)\n",
    "end"
   ]
  },
  {
   "cell_type": "code",
   "execution_count": 25,
   "id": "dde86377",
   "metadata": {},
   "outputs": [
    {
     "name": "stdout",
     "output_type": "stream",
     "text": [
      "  154.489 ns (11 allocations: 1.59 KiB)\n"
     ]
    },
    {
     "data": {
      "text/plain": [
       "SparseMatrixCSR(5, 5, [1, 6, 9, 12, 16, 20], [1, 2, 3, 4, 5, 1, 2, 4, 1, 3, 5, 1, 2, 4, 5, 1, 3, 4, 5], [0.666666666666667, 0.366555998208319, 0.300110668458348, 0.366555998208319, 0.300110668458348, 0.100036889486116, 0.533407112305565, 0.200073778972232, 0.122185332736106, 0.577703998805546, 0.244370665472212, 0.050018444743058, 0.100036889486116, 0.283314888590275, 0.183277999104159, 0.0610926663680531, 0.122185332736106, 0.150055334229174, 0.27224066696528])"
      ]
     },
     "execution_count": 25,
     "metadata": {},
     "output_type": "execute_result"
    }
   ],
   "source": [
    "A_csr = @btime coo_to_csr(A_coo)"
   ]
  },
  {
   "cell_type": "code",
   "execution_count": 26,
   "id": "10757346",
   "metadata": {},
   "outputs": [
    {
     "data": {
      "text/plain": [
       "(5, 5)"
      ]
     },
     "execution_count": 26,
     "metadata": {},
     "output_type": "execute_result"
    }
   ],
   "source": [
    "A_csr.m, A_csr.n"
   ]
  },
  {
   "cell_type": "code",
   "execution_count": 27,
   "id": "67f02130",
   "metadata": {},
   "outputs": [
    {
     "data": {
      "text/plain": [
       "19-element Vector{Float64}:\n",
       " 0.666666666666667\n",
       " 0.366555998208319\n",
       " 0.300110668458348\n",
       " 0.366555998208319\n",
       " 0.300110668458348\n",
       " 0.100036889486116\n",
       " 0.533407112305565\n",
       " 0.200073778972232\n",
       " 0.122185332736106\n",
       " 0.577703998805546\n",
       " 0.244370665472212\n",
       " 0.050018444743058\n",
       " 0.100036889486116\n",
       " 0.283314888590275\n",
       " 0.183277999104159\n",
       " 0.0610926663680531\n",
       " 0.122185332736106\n",
       " 0.150055334229174\n",
       " 0.27224066696528"
      ]
     },
     "execution_count": 27,
     "metadata": {},
     "output_type": "execute_result"
    }
   ],
   "source": [
    "A_csr.nzval"
   ]
  },
  {
   "cell_type": "code",
   "execution_count": 28,
   "id": "0958079c",
   "metadata": {},
   "outputs": [
    {
     "data": {
      "text/plain": [
       "([1, 2, 3, 4, 5, 1, 2, 4, 1, 3, 5, 1, 2, 4, 5, 1, 3, 4, 5], [1, 6, 9, 12, 16, 20])"
      ]
     },
     "execution_count": 28,
     "metadata": {},
     "output_type": "execute_result"
    }
   ],
   "source": [
    "A_csr.colval, A_csr.rowptr"
   ]
  },
  {
   "cell_type": "raw",
   "id": "7b8bd9ce-9f98-498f-aafc-8160484909d2",
   "metadata": {},
   "source": [
    "\\subsection*{Exercise \\#6: Convert COO matrix to CSR format using the sparse function}"
   ]
  },
  {
   "cell_type": "code",
   "execution_count": 29,
   "id": "a27499d0",
   "metadata": {},
   "outputs": [
    {
     "data": {
      "text/plain": [
       "coo_to_csr2 (generic function with 1 method)"
      ]
     },
     "execution_count": 29,
     "metadata": {},
     "output_type": "execute_result"
    }
   ],
   "source": [
    "function coo_to_csr2(A::SparseMatrixCOO)\n",
    "    A_csc = sparse(A.colval, A.rowval, A.nzval, A.m, A.n)\n",
    "    return SparseMatrixCSR(A.m, A.n, A_csc.colptr, A_csc.rowval, A_csc.nzval)\n",
    "end"
   ]
  },
  {
   "cell_type": "code",
   "execution_count": 30,
   "id": "3622b9b9",
   "metadata": {},
   "outputs": [
    {
     "name": "stdout",
     "output_type": "stream",
     "text": [
      "  215.712 ns (16 allocations: 1.22 KiB)\n"
     ]
    },
    {
     "data": {
      "text/plain": [
       "SparseMatrixCSR(5, 5, [1, 6, 9, 12, 16, 20], [1, 2, 3, 4, 5, 1, 2, 4, 1, 3, 5, 1, 2, 4, 5, 1, 3, 4, 5], [0.666666666666667, 0.366555998208319, 0.300110668458348, 0.366555998208319, 0.300110668458348, 0.100036889486116, 0.533407112305565, 0.200073778972232, 0.122185332736106, 0.577703998805546, 0.244370665472212, 0.050018444743058, 0.100036889486116, 0.283314888590275, 0.183277999104159, 0.0610926663680531, 0.122185332736106, 0.150055334229174, 0.27224066696528])"
      ]
     },
     "execution_count": 30,
     "metadata": {},
     "output_type": "execute_result"
    }
   ],
   "source": [
    "A_csr2 = @btime coo_to_csr2(A_coo)"
   ]
  },
  {
   "cell_type": "code",
   "execution_count": 31,
   "id": "cc122c85",
   "metadata": {},
   "outputs": [
    {
     "data": {
      "text/plain": [
       "(5, 5)"
      ]
     },
     "execution_count": 31,
     "metadata": {},
     "output_type": "execute_result"
    }
   ],
   "source": [
    "A_csr2.m, A_csr2.n"
   ]
  },
  {
   "cell_type": "code",
   "execution_count": 32,
   "id": "01f25006",
   "metadata": {},
   "outputs": [
    {
     "data": {
      "text/plain": [
       "19-element Vector{Float64}:\n",
       " 0.666666666666667\n",
       " 0.366555998208319\n",
       " 0.300110668458348\n",
       " 0.366555998208319\n",
       " 0.300110668458348\n",
       " 0.100036889486116\n",
       " 0.533407112305565\n",
       " 0.200073778972232\n",
       " 0.122185332736106\n",
       " 0.577703998805546\n",
       " 0.244370665472212\n",
       " 0.050018444743058\n",
       " 0.100036889486116\n",
       " 0.283314888590275\n",
       " 0.183277999104159\n",
       " 0.0610926663680531\n",
       " 0.122185332736106\n",
       " 0.150055334229174\n",
       " 0.27224066696528"
      ]
     },
     "execution_count": 32,
     "metadata": {},
     "output_type": "execute_result"
    }
   ],
   "source": [
    "A_csr2.nzval"
   ]
  },
  {
   "cell_type": "code",
   "execution_count": 33,
   "id": "07f2b3ab",
   "metadata": {},
   "outputs": [
    {
     "data": {
      "text/plain": [
       "([1, 2, 3, 4, 5, 1, 2, 4, 1, 3, 5, 1, 2, 4, 5, 1, 3, 4, 5], [1, 6, 9, 12, 16, 20])"
      ]
     },
     "execution_count": 33,
     "metadata": {},
     "output_type": "execute_result"
    }
   ],
   "source": [
    "A_csr2.colval, A_csr2.rowptr"
   ]
  },
  {
   "cell_type": "raw",
   "id": "d2d9c023-55fa-4e57-b97c-70140c4f2d43",
   "metadata": {},
   "source": [
    "\\subsection*{Exercise \\#7: SpMV kernel for the CSR format}"
   ]
  },
  {
   "cell_type": "markdown",
   "id": "b2e168c4",
   "metadata": {},
   "source": [
    "In CSR, the non-zero values are stored by row.\n",
    "\n",
    "For the CSR format, the more efficient SpMV kernel has a row-wise inner-most loop which iterates over column indices of a given row, and the outer loop iterates over rows. An implementation of the SpMV kernel is given by"
   ]
  },
  {
   "cell_type": "code",
   "execution_count": 34,
   "id": "29e36ae1",
   "metadata": {},
   "outputs": [
    {
     "data": {
      "text/plain": [
       "dcsrmv (generic function with 1 method)"
      ]
     },
     "execution_count": 34,
     "metadata": {},
     "output_type": "execute_result"
    }
   ],
   "source": [
    "function dcsrmv(A::SparseMatrixCSR, x::Vector{Float64})\n",
    "    y = zeros(A.m)\n",
    "    for i in 1:A.m\n",
    "        for j in A.rowptr[i]:A.rowptr[i+1]-1\n",
    "            y[i] += A.nzval[j] * x[A.colval[j]]\n",
    "        end\n",
    "    end\n",
    "    return y\n",
    "end"
   ]
  },
  {
   "cell_type": "code",
   "execution_count": 35,
   "id": "f43f5a81",
   "metadata": {},
   "outputs": [
    {
     "name": "stdout",
     "output_type": "stream",
     "text": [
      "  28.958 ns (2 allocations: 96 bytes)\n"
     ]
    },
    {
     "data": {
      "text/plain": [
       "5-element Vector{Float64}:\n",
       " 0.9604101914079568\n",
       " 0.24553763592463487\n",
       " 0.6198029953005734\n",
       " 0.3279669573558319\n",
       " 0.34004500105563085"
      ]
     },
     "execution_count": 35,
     "metadata": {},
     "output_type": "execute_result"
    }
   ],
   "source": [
    "@btime dcsrmv(A_csr, x)"
   ]
  },
  {
   "cell_type": "raw",
   "id": "1ec8348a-cfca-41e6-9cab-039ceae0461b",
   "metadata": {},
   "source": [
    "\\subsection*{Exercise \\#8:  Convert COO matrix to ELL format}"
   ]
  },
  {
   "cell_type": "code",
   "execution_count": 36,
   "id": "55289c4a",
   "metadata": {},
   "outputs": [],
   "source": [
    "mutable struct SparseMatrixELL\n",
    "    m::Int # Number of rows\n",
    "    n::Int # Number of columns\n",
    "    rownnz::Int # Maximum number of non-zero values per row\n",
    "    colval::Vector{Int} # Column indices\n",
    "    nzval::Vector{Float64} # Matrix entries\n",
    "end"
   ]
  },
  {
   "cell_type": "code",
   "execution_count": 37,
   "id": "3622def2",
   "metadata": {},
   "outputs": [
    {
     "data": {
      "text/plain": [
       "coo_to_ell (generic function with 1 method)"
      ]
     },
     "execution_count": 37,
     "metadata": {},
     "output_type": "execute_result"
    }
   ],
   "source": [
    "function coo_to_ell(A::SparseMatrixCOO)\n",
    "    # Count non-zeros per row\n",
    "    nnz_per_row = zeros(Int, A.n)\n",
    "    for r in A.rowval\n",
    "        nnz_per_row[r] += 1\n",
    "    end\n",
    "    \n",
    "    # Find maximum number of non-zeros in any row\n",
    "    rownnz = maximum(nnz_per_row)\n",
    "    \n",
    "    # Create ELL format arrays\n",
    "    ell_size = A.n * rownnz\n",
    "    nzval = zeros(eltype(A.nzval), ell_size)\n",
    "    colval = fill(-1, ell_size)  # -1 indicates padding\n",
    "    \n",
    "    # Track how many elements we've processed for each row\n",
    "    row_counts = zeros(Int, A.n)\n",
    "    \n",
    "    \n",
    "    # Fill ELL arrays in column-major order\n",
    "    for i in 1:length(A.nzval)\n",
    "        r = A.rowval[i]\n",
    "        c = A.colval[i]\n",
    "        v = A.nzval[i]\n",
    "        \n",
    "        # Calculate position in column-major ELL format\n",
    "        pos = row_counts[r] * A.n + r\n",
    "        nzval[pos] = v\n",
    "        colval[pos] = c\n",
    "        row_counts[r] += 1\n",
    "    end\n",
    "    \n",
    "    return SparseMatrixELL(A.m, A.n, rownnz, colval, nzval)\n",
    "end"
   ]
  },
  {
   "cell_type": "code",
   "execution_count": 38,
   "id": "202b8bbb",
   "metadata": {},
   "outputs": [
    {
     "name": "stdout",
     "output_type": "stream",
     "text": [
      "  94.120 ns (9 allocations: 752 bytes)\n"
     ]
    },
    {
     "data": {
      "text/plain": [
       "SparseMatrixELL(5, 5, 5, [1, 1, 1, 1, 1, 2, 2, 3, 2, 3  …  4, -1, -1, 5, 5, 5, -1, -1, -1, -1], [0.666666666666667, 0.100036889486116, 0.122185332736106, 0.050018444743058, 0.0610926663680531, 0.366555998208319, 0.533407112305565, 0.577703998805546, 0.100036889486116, 0.122185332736106  …  0.366555998208319, 0.0, 0.0, 0.183277999104159, 0.27224066696528, 0.300110668458348, 0.0, 0.0, 0.0, 0.0])"
      ]
     },
     "execution_count": 38,
     "metadata": {},
     "output_type": "execute_result"
    }
   ],
   "source": [
    "A_ell = @btime coo_to_ell(A_coo)"
   ]
  },
  {
   "cell_type": "code",
   "execution_count": 39,
   "id": "14847de8",
   "metadata": {},
   "outputs": [
    {
     "data": {
      "text/plain": [
       "(5, 5)"
      ]
     },
     "execution_count": 39,
     "metadata": {},
     "output_type": "execute_result"
    }
   ],
   "source": [
    "A_ell.m, A_ell.n"
   ]
  },
  {
   "cell_type": "code",
   "execution_count": 40,
   "id": "7e79a934",
   "metadata": {},
   "outputs": [
    {
     "data": {
      "text/plain": [
       "5"
      ]
     },
     "execution_count": 40,
     "metadata": {},
     "output_type": "execute_result"
    }
   ],
   "source": [
    "A_ell.rownnz"
   ]
  },
  {
   "cell_type": "code",
   "execution_count": 41,
   "id": "a8574d36",
   "metadata": {},
   "outputs": [
    {
     "data": {
      "text/plain": [
       "25-element Vector{Float64}:\n",
       " 0.666666666666667\n",
       " 0.100036889486116\n",
       " 0.122185332736106\n",
       " 0.050018444743058\n",
       " 0.0610926663680531\n",
       " 0.366555998208319\n",
       " 0.533407112305565\n",
       " 0.577703998805546\n",
       " 0.100036889486116\n",
       " 0.122185332736106\n",
       " 0.300110668458348\n",
       " 0.200073778972232\n",
       " 0.244370665472212\n",
       " 0.283314888590275\n",
       " 0.150055334229174\n",
       " 0.366555998208319\n",
       " 0.0\n",
       " 0.0\n",
       " 0.183277999104159\n",
       " 0.27224066696528\n",
       " 0.300110668458348\n",
       " 0.0\n",
       " 0.0\n",
       " 0.0\n",
       " 0.0"
      ]
     },
     "execution_count": 41,
     "metadata": {},
     "output_type": "execute_result"
    }
   ],
   "source": [
    "A_ell.nzval"
   ]
  },
  {
   "cell_type": "code",
   "execution_count": 42,
   "id": "505d105d",
   "metadata": {},
   "outputs": [
    {
     "data": {
      "text/plain": [
       "25-element Vector{Int64}:\n",
       "  1\n",
       "  1\n",
       "  1\n",
       "  1\n",
       "  1\n",
       "  2\n",
       "  2\n",
       "  3\n",
       "  2\n",
       "  3\n",
       "  3\n",
       "  4\n",
       "  5\n",
       "  4\n",
       "  4\n",
       "  4\n",
       " -1\n",
       " -1\n",
       "  5\n",
       "  5\n",
       "  5\n",
       " -1\n",
       " -1\n",
       " -1\n",
       " -1"
      ]
     },
     "execution_count": 42,
     "metadata": {},
     "output_type": "execute_result"
    }
   ],
   "source": [
    "A_ell.colval"
   ]
  },
  {
   "cell_type": "raw",
   "id": "26abd153-713f-49f0-bdb0-67d95444a3b1",
   "metadata": {},
   "source": [
    "\\subsection*{Exercise \\#9: SpMV kernel for the ELL format}"
   ]
  },
  {
   "cell_type": "markdown",
   "id": "11623578",
   "metadata": {},
   "source": [
    "Remember to left-align each row in order to store by column the non-zero values of the sparse matrix, i.e.,"
   ]
  },
  {
   "cell_type": "markdown",
   "id": "bf453670",
   "metadata": {},
   "source": [
    "For the ELL format, the SpMV kernel works as follows on the left-justified non-zero values:"
   ]
  },
  {
   "cell_type": "code",
   "execution_count": 43,
   "id": "877fcccd",
   "metadata": {},
   "outputs": [
    {
     "data": {
      "text/plain": [
       "dellmv (generic function with 1 method)"
      ]
     },
     "execution_count": 43,
     "metadata": {},
     "output_type": "execute_result"
    }
   ],
   "source": [
    "function dellmv(A::SparseMatrixELL, x::Vector{Float64})\n",
    "  y = zeros(A.m)\n",
    "  for i in 1:A.m\n",
    "    for j in 1:A.rownnz\n",
    "      k = A.colval[(j - 1) * A.m + i]\n",
    "      if k > 0\n",
    "        y[i] += A.nzval[(j - 1) * A.m + i] * x[k]\n",
    "      end\n",
    "    end\n",
    "  end\n",
    "  return y\n",
    "end"
   ]
  },
  {
   "cell_type": "code",
   "execution_count": 44,
   "id": "92c9d0db",
   "metadata": {},
   "outputs": [
    {
     "name": "stdout",
     "output_type": "stream",
     "text": [
      "  30.180 ns (2 allocations: 96 bytes)\n"
     ]
    },
    {
     "data": {
      "text/plain": [
       "5-element Vector{Float64}:\n",
       " 0.9604101914079568\n",
       " 0.24553763592463487\n",
       " 0.6198029953005734\n",
       " 0.3279669573558319\n",
       " 0.34004500105563085"
      ]
     },
     "execution_count": 44,
     "metadata": {},
     "output_type": "execute_result"
    }
   ],
   "source": [
    "@btime dellmv(A_ell, x)"
   ]
  }
 ],
 "metadata": {
  "kernelspec": {
   "display_name": "Julia 1.11.5",
   "language": "julia",
   "name": "julia-1.11"
  },
  "language_info": {
   "file_extension": ".jl",
   "mimetype": "application/julia",
   "name": "julia",
   "version": "1.11.5"
  }
 },
 "nbformat": 4,
 "nbformat_minor": 5
}
